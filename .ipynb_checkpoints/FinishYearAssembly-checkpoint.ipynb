{
 "cells": [
  {
   "cell_type": "code",
   "execution_count": 1,
   "metadata": {},
   "outputs": [],
   "source": [
    "import string\n",
    "import datetime\n",
    "import time\n",
    "import csv\n",
    "import ast"
   ]
  },
  {
   "cell_type": "code",
   "execution_count": 2,
   "metadata": {},
   "outputs": [],
   "source": [
    "def getSeason(year):\n",
    "    ret = str(year)\n",
    "    nextYear = year+1\n",
    "    ret += \"-\" + str(nextYear)[2:]\n",
    "    return ret"
   ]
  },
  {
   "cell_type": "code",
   "execution_count": 3,
   "metadata": {},
   "outputs": [],
   "source": [
    "folder = \"2013\""
   ]
  },
  {
   "cell_type": "code",
   "execution_count": 4,
   "metadata": {},
   "outputs": [
    {
     "name": "stdout",
     "output_type": "stream",
     "text": [
      "78\n"
     ]
    },
    {
     "data": {
      "text/plain": [
       "dict_keys(['Ray Allen', 'Hilton Armstrong', 'Gustavo Ayón', 'Chris Babb', 'Shane Battier', 'Chauncey Billups', 'Andray Blatche', 'Keith Bogans', 'Ronnie Brewer', 'Andris Biedriņš', 'Andrew Bynum', 'Josh Childress', 'Dionte Christmas', 'Jason Collins', 'Nando De Colo', 'Shane Edwards', 'Melvin Ely', 'Vítor Luiz Faverani', 'Carrick Felix', 'Derek Fisher', 'Diante Garrett', 'Aaron Gray', 'Al Harrington', 'Elias Harris', 'Mike Harris', 'Royal Ivey', 'Ryan Gomes', 'Josh Harrellson', 'Stephen Jackson', 'Damion James', 'Antawn Jamison', 'Othyus Jeffers', 'Darius Johnson-Odom', 'Solomon Jones', 'Viacheslav Kravtsov', 'Doron Lamb', 'Rashard Lewis', 'Roger Mason', 'Eric Maynor', 'Tony Mitchell', 'Arnett Moultrie', 'Byron Mullens', 'Erik Murphy', \"Hamady N'Diaye\", 'Greg Oden', 'Daniel Orton', 'Travis Outlaw', 'Dexter Pittman', 'Josh Powell', 'Anthony Randolph', 'Steve Nash', 'Nemanja Nedović', \"Jermaine O'Neal\", 'Mustafa Shakur', 'Tornike Shengelia', 'Chris Singleton', 'Peyton Siva', 'Chris Smith', 'James Southerland', 'Tyshawn Taylor', 'Hasheem Thabeet', 'Adonis Thomas', 'Jamaal Tinsley', 'Ronny Turiaf', 'Hedo Türkoğlu', 'Jeremy Tyler', 'Jarvis Varnado', 'Jan Veselý', 'Gerald Wallace', 'Casper Ware', 'Earl Watson', 'Maalik Wayns', 'Martell Webster', 'D.J. White', 'Royce White', 'Shawne Williams', 'Chris Wright', 'Dorell Wright'])"
      ]
     },
     "execution_count": 4,
     "metadata": {},
     "output_type": "execute_result"
    }
   ],
   "source": [
    "allPlayerData = {}\n",
    "\n",
    "for i in range(0, 601, 100):\n",
    "    with open(str(i) + 'output.csv', mode='r') as infile:\n",
    "        reader = csv.reader(infile)\n",
    "        with open(str(i) + 'reader.csv', mode='w') as outfile:\n",
    "            writer = csv.writer(outfile)\n",
    "            mydict = {rows[0]:rows[1] for rows in reader}\n",
    "\n",
    "    for name in mydict:\n",
    "        val = mydict[name]\n",
    "        mydict[name] = eval(val)\n",
    "\n",
    "    allPlayerData.update(mydict)\n",
    "\n",
    "print(len(allPlayerData))\n",
    "allPlayerData.keys()"
   ]
  },
  {
   "cell_type": "code",
   "execution_count": 6,
   "metadata": {},
   "outputs": [],
   "source": [
    "# w = csv.writer(open(folder + \"/\" + getSeason(int(folder)) + \"players.csv\", \"w\"))\n",
    "# for key, val in allPlayerData.items():\n",
    "#     w.writerow([key, val])"
   ]
  },
  {
   "cell_type": "code",
   "execution_count": null,
   "metadata": {},
   "outputs": [],
   "source": []
  },
  {
   "cell_type": "code",
   "execution_count": null,
   "metadata": {},
   "outputs": [],
   "source": []
  }
 ],
 "metadata": {
  "kernelspec": {
   "display_name": "Python 3",
   "language": "python",
   "name": "python3"
  },
  "language_info": {
   "codemirror_mode": {
    "name": "ipython",
    "version": 3
   },
   "file_extension": ".py",
   "mimetype": "text/x-python",
   "name": "python",
   "nbconvert_exporter": "python",
   "pygments_lexer": "ipython3",
   "version": "3.7.6"
  }
 },
 "nbformat": 4,
 "nbformat_minor": 4
}
