{
 "cells": [
  {
   "cell_type": "code",
   "execution_count": 1,
   "metadata": {},
   "outputs": [],
   "source": [
    "import string\n",
    "import datetime\n",
    "import time\n",
    "import csv\n",
    "import ast"
   ]
  },
  {
   "cell_type": "code",
   "execution_count": 2,
   "metadata": {},
   "outputs": [],
   "source": [
    "def getSeason(year):\n",
    "    ret = str(year)\n",
    "    nextYear = year+1\n",
    "    ret += \"-\" + str(nextYear)[2:]\n",
    "    return ret"
   ]
  },
  {
   "cell_type": "code",
   "execution_count": 3,
   "metadata": {},
   "outputs": [],
   "source": [
    "folder = \"2000\""
   ]
  },
  {
   "cell_type": "code",
   "execution_count": 4,
   "metadata": {
    "scrolled": true
   },
   "outputs": [
    {
     "name": "stdout",
     "output_type": "stream",
     "text": [
      "71\n"
     ]
    },
    {
     "data": {
      "text/plain": [
       "dict_keys(['Mahmoud Abdul-Rauf', 'David Benoit', 'Muggsy Bogues', 'Etdrick Bohannon', 'Scott Burrell', 'Chris Carr', 'Duane Causwell', 'Cedric Ceballos', 'John Coker', 'Sean Colson', 'Tyrone Corbin', 'Bill Curley', 'Kornél Dávid', 'Terry Davis', 'Todd Day', 'Sherman Douglas', 'Tyus Edney', 'Kevin Edwards', 'Khalid El-Amin', 'Mario Elie', 'Sean Elliott', 'Pervis Ellison', 'Jamie Feick', 'Todd Fuller', 'Rubén Garcés', 'Chris Garner', 'Gary Grant', 'A.C. Green', 'Tom Hammonds', 'Ron Harper', 'Hersey Hawkins', 'Michael Hawkins', 'Chris Herren', 'Sam Jacobson', 'Larry Johnson', 'Garth Joseph', 'Adam Keefe', 'Jerome Kersey', 'Lari Ketner', 'Gerard King', 'Luc Longley', 'Don MacLean', 'Vernon Maxwell', 'Dan McClintock', 'Jim McIlvaine', 'Roshown McLeod', 'Paul McPherson', 'Terry Mills', 'Chris Mullin', 'Billy Owens', 'Andy Panko', 'Will Perdue', 'Sam Perkins', 'Chris Porter', 'Bryant Reeves', 'J.R. Reid', 'Terrance Roberson', 'Jamal Robinson', 'James Robinson', 'Detlef Schrempf', 'Michael Smith', 'Mike Smith', 'Tony Smith', 'Derek Strong', 'Žan Tabak', 'Dragan Tarlać', 'Jamel Thomas', 'David Vanterpool', 'Loy Vaught', 'Doug West', 'David Wingate'])"
      ]
     },
     "execution_count": 4,
     "metadata": {},
     "output_type": "execute_result"
    }
   ],
   "source": [
    "allPlayerData = {}\n",
    "\n",
    "for i in range(0, 501, 100):\n",
    "    with open(str(i) + 'output.csv', mode='r') as infile:\n",
    "        reader = csv.reader(infile)\n",
    "        with open(str(i) + 'reader.csv', mode='w') as outfile:\n",
    "            writer = csv.writer(outfile)\n",
    "            mydict = {rows[0]:rows[1] for rows in reader}\n",
    "\n",
    "    for name in mydict:\n",
    "        val = mydict[name]\n",
    "        mydict[name] = eval(val)\n",
    "\n",
    "    allPlayerData.update(mydict)\n",
    "\n",
    "print(len(allPlayerData))\n",
    "allPlayerData.keys()"
   ]
  },
  {
   "cell_type": "code",
   "execution_count": 6,
   "metadata": {},
   "outputs": [],
   "source": [
    "# w = csv.writer(open(folder + \"/\" + getSeason(int(folder)) + \"players.csv\", \"w\"))\n",
    "# for key, val in allPlayerData.items():\n",
    "#     w.writerow([key, val])"
   ]
  },
  {
   "cell_type": "code",
   "execution_count": null,
   "metadata": {},
   "outputs": [],
   "source": []
  },
  {
   "cell_type": "code",
   "execution_count": null,
   "metadata": {},
   "outputs": [],
   "source": []
  }
 ],
 "metadata": {
  "kernelspec": {
   "display_name": "Python 3",
   "language": "python",
   "name": "python3"
  },
  "language_info": {
   "codemirror_mode": {
    "name": "ipython",
    "version": 3
   },
   "file_extension": ".py",
   "mimetype": "text/x-python",
   "name": "python",
   "nbconvert_exporter": "python",
   "pygments_lexer": "ipython3",
   "version": "3.7.6"
  }
 },
 "nbformat": 4,
 "nbformat_minor": 4
}
