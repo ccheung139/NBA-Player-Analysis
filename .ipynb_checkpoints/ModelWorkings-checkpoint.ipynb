{
 "cells": [
  {
   "cell_type": "code",
   "execution_count": 80,
   "metadata": {},
   "outputs": [],
   "source": [
    "from urllib.request import urlopen\n",
    "from bs4 import BeautifulSoup\n",
    "import pandas as pd\n",
    "from selenium import webdriver\n",
    "\n",
    "import string\n",
    "import datetime\n",
    "import time\n",
    "import csv\n",
    "import ast\n",
    "import unicodedata\n",
    "\n",
    "import pandas as pd\n",
    "import numpy as np\n",
    "import matplotlib.pyplot as plt"
   ]
  },
  {
   "cell_type": "code",
   "execution_count": 138,
   "metadata": {},
   "outputs": [],
   "source": [
    "import numpy as np\n",
    "import pandas as pd\n",
    "%matplotlib inline\n",
    "import matplotlib.pyplot as plt\n",
    "from sklearn.model_selection import train_test_split\n",
    "from sklearn import datasets\n",
    "from sklearn.metrics import mean_squared_error\n",
    "\n",
    "from sklearn.ensemble import RandomForestRegressor"
   ]
  },
  {
   "cell_type": "code",
   "execution_count": 1,
   "metadata": {},
   "outputs": [],
   "source": [
    "import sys\n",
    "import csv\n",
    "\n",
    "csv.field_size_limit(sys.maxsize)\n",
    "\n",
    "def readYearRecords():\n",
    "    with open('yearRecords.csv', mode='r') as infile:\n",
    "        reader = csv.reader(infile)\n",
    "        with open('yearReader.csv', mode='w') as outfile:\n",
    "            writer = csv.writer(outfile)\n",
    "            mydict = {rows[0]:rows[1] for rows in reader}\n",
    "\n",
    "    for name in mydict:\n",
    "        val = mydict[name]\n",
    "        mydict[name] = eval(val)\n",
    "\n",
    "    return mydict"
   ]
  },
  {
   "cell_type": "code",
   "execution_count": 2,
   "metadata": {},
   "outputs": [],
   "source": [
    "yearRecords = readYearRecords()"
   ]
  },
  {
   "cell_type": "code",
   "execution_count": 4,
   "metadata": {},
   "outputs": [
    {
     "data": {
      "text/plain": [
       "dict_keys(['2019', '2018', '2017', '2016', '2015', '2014', '2013', '2009', '2008', '2007', '2005', '2004', '2003', '2002', '2011', '2010', '2006', '2001', '2012', '2020'])"
      ]
     },
     "execution_count": 4,
     "metadata": {},
     "output_type": "execute_result"
    }
   ],
   "source": [
    "yearRecords.keys()"
   ]
  },
  {
   "cell_type": "code",
   "execution_count": 249,
   "metadata": {},
   "outputs": [],
   "source": [
    "results = []\n",
    "testers = []\n",
    "for year, entries in yearRecords.items():\n",
    "    if year == '2020':\n",
    "        continue\n",
    "    for team in entries:\n",
    "        playerRecords = team[0]\n",
    "        wins = team[1]\n",
    "        losses = team[2]\n",
    "        for players, record in playerRecords.items():\n",
    "            ratio = wins/(wins+losses)\n",
    "            recordWL = record + [ratio]\n",
    "            if year != '2019':\n",
    "                results.append(recordWL)\n",
    "            else:\n",
    "                testers.append(recordWL)\n",
    "    \n"
   ]
  },
  {
   "cell_type": "code",
   "execution_count": 250,
   "metadata": {},
   "outputs": [],
   "source": [
    "import csv\n",
    "\n",
    "with open(\"recordFile.csv\", \"w\", newline=\"\") as f:\n",
    "    writer = csv.writer(f)\n",
    "    writer.writerows(results)\n",
    "    \n",
    "with open(\"testerFile.csv\", \"w\", newline=\"\") as f:\n",
    "    writer = csv.writer(f)\n",
    "    writer.writerows(testers)"
   ]
  },
  {
   "cell_type": "code",
   "execution_count": 251,
   "metadata": {},
   "outputs": [],
   "source": [
    "dataset = pd.read_csv('recordFile.csv')\n",
    "testSet = pd.read_csv('testerFile.csv')"
   ]
  },
  {
   "cell_type": "code",
   "execution_count": 252,
   "metadata": {},
   "outputs": [
    {
     "data": {
      "text/html": [
       "<div>\n",
       "<style scoped>\n",
       "    .dataframe tbody tr th:only-of-type {\n",
       "        vertical-align: middle;\n",
       "    }\n",
       "\n",
       "    .dataframe tbody tr th {\n",
       "        vertical-align: top;\n",
       "    }\n",
       "\n",
       "    .dataframe thead th {\n",
       "        text-align: right;\n",
       "    }\n",
       "</style>\n",
       "<table border=\"1\" class=\"dataframe\">\n",
       "  <thead>\n",
       "    <tr style=\"text-align: right;\">\n",
       "      <th></th>\n",
       "      <th>1.7</th>\n",
       "      <th>3</th>\n",
       "      <th>2.28018018018018</th>\n",
       "      <th>222</th>\n",
       "      <th>-0.6666666666666666</th>\n",
       "      <th>-1.9666666666666668</th>\n",
       "      <th>-0.3000000000000001</th>\n",
       "      <th>0.18333333333333326</th>\n",
       "      <th>1.3666666666666665</th>\n",
       "      <th>0.2833333333333332</th>\n",
       "      <th>...</th>\n",
       "      <th>-33.315878035008474</th>\n",
       "      <th>31.454247311343288</th>\n",
       "      <th>323</th>\n",
       "      <th>19.115010681018585</th>\n",
       "      <th>34.616186711838886</th>\n",
       "      <th>32.34021676826381</th>\n",
       "      <th>292</th>\n",
       "      <th>21.10277184936276</th>\n",
       "      <th>38.15734989648032</th>\n",
       "      <th>0.7317073170731707</th>\n",
       "    </tr>\n",
       "  </thead>\n",
       "  <tbody>\n",
       "    <tr>\n",
       "      <td>0</td>\n",
       "      <td>3.229630</td>\n",
       "      <td>54</td>\n",
       "      <td>3.110983</td>\n",
       "      <td>173</td>\n",
       "      <td>0.022222</td>\n",
       "      <td>-2.872222</td>\n",
       "      <td>1.044444</td>\n",
       "      <td>-0.405556</td>\n",
       "      <td>4.183333</td>\n",
       "      <td>-0.916667</td>\n",
       "      <td>...</td>\n",
       "      <td>-33.203318</td>\n",
       "      <td>31.565013</td>\n",
       "      <td>323</td>\n",
       "      <td>19.198481</td>\n",
       "      <td>34.717636</td>\n",
       "      <td>32.318267</td>\n",
       "      <td>292</td>\n",
       "      <td>21.069977</td>\n",
       "      <td>38.181504</td>\n",
       "      <td>0.731707</td>\n",
       "    </tr>\n",
       "    <tr>\n",
       "      <td>1</td>\n",
       "      <td>3.734375</td>\n",
       "      <td>32</td>\n",
       "      <td>3.226154</td>\n",
       "      <td>130</td>\n",
       "      <td>2.733333</td>\n",
       "      <td>1.333333</td>\n",
       "      <td>3.500000</td>\n",
       "      <td>3.366667</td>\n",
       "      <td>2.900000</td>\n",
       "      <td>3.666667</td>\n",
       "      <td>...</td>\n",
       "      <td>-33.197037</td>\n",
       "      <td>31.562943</td>\n",
       "      <td>323</td>\n",
       "      <td>19.192876</td>\n",
       "      <td>34.833578</td>\n",
       "      <td>32.392284</td>\n",
       "      <td>292</td>\n",
       "      <td>21.130939</td>\n",
       "      <td>38.287785</td>\n",
       "      <td>0.731707</td>\n",
       "    </tr>\n",
       "    <tr>\n",
       "      <td>2</td>\n",
       "      <td>3.963636</td>\n",
       "      <td>22</td>\n",
       "      <td>7.720690</td>\n",
       "      <td>58</td>\n",
       "      <td>4.200000</td>\n",
       "      <td>1.950000</td>\n",
       "      <td>4.750000</td>\n",
       "      <td>3.400000</td>\n",
       "      <td>9.550000</td>\n",
       "      <td>5.500000</td>\n",
       "      <td>...</td>\n",
       "      <td>-32.793414</td>\n",
       "      <td>31.671639</td>\n",
       "      <td>323</td>\n",
       "      <td>19.271137</td>\n",
       "      <td>34.920535</td>\n",
       "      <td>32.499308</td>\n",
       "      <td>292</td>\n",
       "      <td>21.228765</td>\n",
       "      <td>38.476190</td>\n",
       "      <td>0.731707</td>\n",
       "    </tr>\n",
       "    <tr>\n",
       "      <td>3</td>\n",
       "      <td>1.277273</td>\n",
       "      <td>66</td>\n",
       "      <td>0.040964</td>\n",
       "      <td>166</td>\n",
       "      <td>-1.505556</td>\n",
       "      <td>-3.261111</td>\n",
       "      <td>-1.286111</td>\n",
       "      <td>-0.138889</td>\n",
       "      <td>-1.705556</td>\n",
       "      <td>-4.363889</td>\n",
       "      <td>...</td>\n",
       "      <td>-32.660806</td>\n",
       "      <td>31.584682</td>\n",
       "      <td>323</td>\n",
       "      <td>19.256644</td>\n",
       "      <td>34.913288</td>\n",
       "      <td>32.412351</td>\n",
       "      <td>292</td>\n",
       "      <td>21.214273</td>\n",
       "      <td>38.468944</td>\n",
       "      <td>0.731707</td>\n",
       "    </tr>\n",
       "    <tr>\n",
       "      <td>4</td>\n",
       "      <td>0.000000</td>\n",
       "      <td>0</td>\n",
       "      <td>0.000000</td>\n",
       "      <td>0</td>\n",
       "      <td>8.600000</td>\n",
       "      <td>2.100000</td>\n",
       "      <td>10.200000</td>\n",
       "      <td>9.100000</td>\n",
       "      <td>15.400000</td>\n",
       "      <td>2.000000</td>\n",
       "      <td>...</td>\n",
       "      <td>-32.265153</td>\n",
       "      <td>31.671639</td>\n",
       "      <td>323</td>\n",
       "      <td>19.271137</td>\n",
       "      <td>34.920535</td>\n",
       "      <td>32.499308</td>\n",
       "      <td>292</td>\n",
       "      <td>21.228765</td>\n",
       "      <td>38.476190</td>\n",
       "      <td>0.731707</td>\n",
       "    </tr>\n",
       "  </tbody>\n",
       "</table>\n",
       "<p>5 rows × 65 columns</p>\n",
       "</div>"
      ],
      "text/plain": [
       "        1.7   3  2.28018018018018  222  -0.6666666666666666  \\\n",
       "0  3.229630  54          3.110983  173             0.022222   \n",
       "1  3.734375  32          3.226154  130             2.733333   \n",
       "2  3.963636  22          7.720690   58             4.200000   \n",
       "3  1.277273  66          0.040964  166            -1.505556   \n",
       "4  0.000000   0          0.000000    0             8.600000   \n",
       "\n",
       "   -1.9666666666666668  -0.3000000000000001  0.18333333333333326  \\\n",
       "0            -2.872222             1.044444            -0.405556   \n",
       "1             1.333333             3.500000             3.366667   \n",
       "2             1.950000             4.750000             3.400000   \n",
       "3            -3.261111            -1.286111            -0.138889   \n",
       "4             2.100000            10.200000             9.100000   \n",
       "\n",
       "   1.3666666666666665  0.2833333333333332  ...  -33.315878035008474  \\\n",
       "0            4.183333           -0.916667  ...           -33.203318   \n",
       "1            2.900000            3.666667  ...           -33.197037   \n",
       "2            9.550000            5.500000  ...           -32.793414   \n",
       "3           -1.705556           -4.363889  ...           -32.660806   \n",
       "4           15.400000            2.000000  ...           -32.265153   \n",
       "\n",
       "   31.454247311343288  323  19.115010681018585  34.616186711838886  \\\n",
       "0           31.565013  323           19.198481           34.717636   \n",
       "1           31.562943  323           19.192876           34.833578   \n",
       "2           31.671639  323           19.271137           34.920535   \n",
       "3           31.584682  323           19.256644           34.913288   \n",
       "4           31.671639  323           19.271137           34.920535   \n",
       "\n",
       "   32.34021676826381  292  21.10277184936276  38.15734989648032  \\\n",
       "0          32.318267  292          21.069977          38.181504   \n",
       "1          32.392284  292          21.130939          38.287785   \n",
       "2          32.499308  292          21.228765          38.476190   \n",
       "3          32.412351  292          21.214273          38.468944   \n",
       "4          32.499308  292          21.228765          38.476190   \n",
       "\n",
       "   0.7317073170731707  \n",
       "0            0.731707  \n",
       "1            0.731707  \n",
       "2            0.731707  \n",
       "3            0.731707  \n",
       "4            0.731707  \n",
       "\n",
       "[5 rows x 65 columns]"
      ]
     },
     "execution_count": 252,
     "metadata": {},
     "output_type": "execute_result"
    }
   ],
   "source": [
    "testSet.head()"
   ]
  },
  {
   "cell_type": "code",
   "execution_count": 299,
   "metadata": {},
   "outputs": [],
   "source": [
    "X_train = dataset.iloc[:, 0:64].values\n",
    "# X_train = dataset.iloc[:, np.r_[0:36, 44:64]].values\n",
    "# X = dataset.iloc[:, np.r_[0:4, 12:32]].values #without 4-11\n",
    "# X = dataset.iloc[:, np.r_[0:2, 3, 12:32]].values #without 2, 4-11\n",
    "# X = dataset.iloc[:, np.r_[0:2, 3, 12:22, 24:32]].values #without 2, 22-23 4-11\n",
    "y_train = dataset.iloc[:, 64].values"
   ]
  },
  {
   "cell_type": "code",
   "execution_count": 300,
   "metadata": {},
   "outputs": [],
   "source": [
    "# from sklearn.model_selection import train_test_split\n",
    "\n",
    "# X_train, X_test, y_train, y_test = train_test_split(X, y, test_size=0.2, random_state=0)"
   ]
  },
  {
   "cell_type": "code",
   "execution_count": 301,
   "metadata": {},
   "outputs": [],
   "source": [
    "X_test = testSet.iloc[:, 0:64].values\n",
    "# X_test = testSet.iloc[:, np.r_[0:36, 44:64]].values\n",
    "\n",
    "y_test = testSet.iloc[:, 64].values"
   ]
  },
  {
   "cell_type": "code",
   "execution_count": 302,
   "metadata": {},
   "outputs": [],
   "source": [
    "# # Feature Scaling\n",
    "# from sklearn.preprocessing import StandardScaler\n",
    "\n",
    "# sc = StandardScaler()\n",
    "# X_train = sc.fit_transform(X_train)\n",
    "# X_test = sc.transform(X_test)"
   ]
  },
  {
   "cell_type": "code",
   "execution_count": 303,
   "metadata": {},
   "outputs": [],
   "source": [
    "from sklearn.ensemble import RandomForestRegressor\n",
    "\n",
    "regressor = RandomForestRegressor(n_estimators=20, random_state=0)\n",
    "regressor.fit(X_train, y_train)\n",
    "y_pred = regressor.predict(X_test)"
   ]
  },
  {
   "cell_type": "code",
   "execution_count": 304,
   "metadata": {},
   "outputs": [
    {
     "name": "stdout",
     "output_type": "stream",
     "text": [
      "Mean Absolute Error: 0.05304628332559937\n",
      "Mean Squared Error: 0.0041796529093537605\n",
      "Root Mean Squared Error: 0.06465023518405606\n"
     ]
    }
   ],
   "source": [
    "from sklearn import metrics\n",
    "from sklearn.model_selection import cross_val_score, GridSearchCV\n",
    "\n",
    "print('Mean Absolute Error:', metrics.mean_absolute_error(y_test, y_pred))\n",
    "print('Mean Squared Error:', metrics.mean_squared_error(y_test, y_pred))\n",
    "print('Root Mean Squared Error:', np.sqrt(metrics.mean_squared_error(y_test, y_pred)))"
   ]
  },
  {
   "cell_type": "code",
   "execution_count": 305,
   "metadata": {},
   "outputs": [
    {
     "name": "stdout",
     "output_type": "stream",
     "text": [
      "Test Variance score: 0.81\n"
     ]
    }
   ],
   "source": [
    "from sklearn.metrics import r2_score\n",
    "# Explained variance score: 1 is perfect prediction\n",
    "print('Test Variance score: %.2f' % r2_score(y_test, y_pred))"
   ]
  },
  {
   "cell_type": "code",
   "execution_count": 306,
   "metadata": {},
   "outputs": [],
   "source": [
    "importances = regressor.feature_importances_"
   ]
  },
  {
   "cell_type": "code",
   "execution_count": 307,
   "metadata": {},
   "outputs": [
    {
     "name": "stdout",
     "output_type": "stream",
     "text": [
      "Feature ranking:\n",
      "1. feature 36 (0.815306)\n",
      "2. feature 34 (0.022959)\n",
      "3. feature 42 (0.010203)\n",
      "4. feature 44 (0.009919)\n",
      "5. feature 49 (0.009791)\n",
      "6. feature 38 (0.009145)\n",
      "7. feature 63 (0.009094)\n",
      "8. feature 39 (0.009079)\n",
      "9. feature 53 (0.008557)\n",
      "10. feature 32 (0.008465)\n",
      "11. feature 46 (0.008353)\n",
      "12. feature 45 (0.006641)\n",
      "13. feature 58 (0.006515)\n",
      "14. feature 41 (0.006262)\n",
      "15. feature 52 (0.006046)\n",
      "16. feature 43 (0.004616)\n",
      "17. feature 48 (0.004077)\n",
      "18. feature 56 (0.003731)\n",
      "19. feature 33 (0.003658)\n",
      "20. feature 47 (0.003508)\n",
      "21. feature 62 (0.003323)\n",
      "22. feature 50 (0.003321)\n",
      "23. feature 40 (0.003283)\n",
      "24. feature 59 (0.003224)\n",
      "25. feature 57 (0.003149)\n",
      "26. feature 61 (0.002918)\n",
      "27. feature 51 (0.002860)\n",
      "28. feature 60 (0.002774)\n",
      "29. feature 35 (0.002548)\n",
      "30. feature 37 (0.002509)\n",
      "31. feature 55 (0.002205)\n",
      "32. feature 54 (0.001856)\n",
      "33. feature 10 (0.000018)\n",
      "34. feature 3 (0.000016)\n",
      "35. feature 31 (0.000012)\n",
      "36. feature 4 (0.000011)\n",
      "37. feature 2 (0.000009)\n",
      "38. feature 7 (0.000008)\n",
      "39. feature 5 (0.000007)\n",
      "40. feature 21 (0.000005)\n",
      "41. feature 6 (0.000003)\n",
      "42. feature 8 (0.000003)\n",
      "43. feature 24 (0.000002)\n",
      "44. feature 1 (0.000001)\n",
      "45. feature 11 (0.000001)\n",
      "46. feature 30 (0.000001)\n",
      "47. feature 20 (0.000001)\n",
      "48. feature 14 (0.000001)\n",
      "49. feature 22 (0.000001)\n",
      "50. feature 16 (0.000001)\n",
      "51. feature 9 (0.000001)\n",
      "52. feature 25 (0.000000)\n",
      "53. feature 15 (0.000000)\n",
      "54. feature 0 (0.000000)\n",
      "55. feature 13 (0.000000)\n",
      "56. feature 17 (0.000000)\n",
      "57. feature 19 (0.000000)\n",
      "58. feature 27 (0.000000)\n",
      "59. feature 28 (0.000000)\n",
      "60. feature 23 (0.000000)\n"
     ]
    },
    {
     "data": {
      "image/png": "[encoded data removed]",
      "text/plain": [
       "<Figure size 432x288 with 1 Axes>"
      ]
     },
     "metadata": {
      "needs_background": "light"
     },
     "output_type": "display_data"
    }
   ],
   "source": [
    "std = np.std([tree.feature_importances_ for tree in regressor.estimators_],\n",
    "             axis=0)\n",
    "indices = np.argsort(importances)[::-1]\n",
    "\n",
    "# Print the feature ranking\n",
    "print(\"Feature ranking:\")\n",
    "\n",
    "for f in range(X.shape[1]):\n",
    "    print(\"%d. feature %d (%f)\" % (f + 1, indices[f], importances[indices[f]]))\n",
    "\n",
    "# Plot the feature importances of the forest\n",
    "plt.figure()\n",
    "plt.title(\"Feature importances\")\n",
    "plt.bar(range(X_train.shape[1]), importances[indices],\n",
    "       color=\"r\", yerr=std[indices], align=\"center\")\n",
    "plt.xticks(range(X_train.shape[1]), indices)\n",
    "plt.xlim([-1, X_train.shape[1]])\n",
    "plt.show()"
   ]
  },
  {
   "cell_type": "code",
   "execution_count": 308,
   "metadata": {},
   "outputs": [
    {
     "data": {
      "image/png": "[encoded data removed]",
      "text/plain": [
       "<Figure size 432x288 with 1 Axes>"
      ]
     },
     "metadata": {
      "needs_background": "light"
     },
     "output_type": "display_data"
    }
   ],
   "source": [
    "from sklearn.model_selection import cross_val_predict\n",
    "\n",
    "\n",
    "\n",
    "\n",
    "fig, ax = plt.subplots()\n",
    "\n",
    "ax.scatter(y_test, y_pred, edgecolors=(0, 0, 0))\n",
    "\n",
    "ax.plot([y_test.min(), y_test.max()], [y_test.min(), y_test.max()], 'k--', lw=4)\n",
    "\n",
    "ax.set_xlabel('Actual')\n",
    "\n",
    "ax.set_ylabel('Predicted')\n",
    "\n",
    "ax.set_title(\"Ground Truth vs Predicted\")\n",
    "\n",
    "plt.show()"
   ]
  },
  {
   "cell_type": "code",
   "execution_count": null,
   "metadata": {},
   "outputs": [],
   "source": []
  },
  {
   "cell_type": "code",
   "execution_count": null,
   "metadata": {},
   "outputs": [],
   "source": []
  }
 ],
 "metadata": {
  "kernelspec": {
   "display_name": "Python 3",
   "language": "python",
   "name": "python3"
  },
  "language_info": {
   "codemirror_mode": {
    "name": "ipython",
    "version": 3
   },
   "file_extension": ".py",
   "mimetype": "text/x-python",
   "name": "python",
   "nbconvert_exporter": "python",
   "pygments_lexer": "ipython3",
   "version": "3.7.4"
  }
 },
 "nbformat": 4,
 "nbformat_minor": 2
}
