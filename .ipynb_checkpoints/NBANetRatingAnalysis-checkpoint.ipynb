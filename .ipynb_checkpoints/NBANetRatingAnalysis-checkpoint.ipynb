{
 "cells": [
  {
   "cell_type": "code",
   "execution_count": 1,
   "metadata": {},
   "outputs": [
    {
     "name": "stdout",
     "output_type": "stream",
     "text": [
      "importing Jupyter notebook from NBAPlayerAnalysis.ipynb\n",
      "importing Jupyter notebook from NBAInjuryAnalysis.ipynb\n"
     ]
    }
   ],
   "source": [
    "from urllib.request import urlopen\n",
    "from bs4 import BeautifulSoup\n",
    "import pandas as pd\n",
    "from selenium import webdriver\n",
    "\n",
    "import string\n",
    "import datetime\n",
    "import import_ipynb\n",
    "import NBAPlayerAnalysis"
   ]
  },
  {
   "cell_type": "code",
   "execution_count": 2,
   "metadata": {},
   "outputs": [],
   "source": [
    "# global variables\n",
    "%store -r playersToIds\n",
    "%store -r idsToPlayers\n",
    "%store -r datesDict\n",
    "%store -r statsNBAMap"
   ]
  },
  {
   "cell_type": "code",
   "execution_count": 3,
   "metadata": {},
   "outputs": [],
   "source": [
    "def collectNetRatings(playerName):\n",
    "    ratings = getNetRatings(playerName)\n",
    "    return {'NetRatings' : ratings}\n",
    "\n",
    "def getNetRatings(playerName):\n",
    "    playerId = NBAPlayerAnalysis.getPlayerId(playerName)\n",
    "    teams = NBAPlayerAnalysis.getTeams(playerId)\n",
    "    allRatings = {}\n",
    "    url = \"https://stats.nba.com/team/{}/advanced/?Season={}&SeasonType=Regular%20Season\"\n",
    "    for year in teams:\n",
    "        for team in teams[year]:\n",
    "            ratings = {}\n",
    "            \n",
    "            if team == 'CHH':\n",
    "                dash = year.index('-')\n",
    "                intYear = int(year[:dash])\n",
    "                if intYear >= 2002 and intYear < 2014:\n",
    "                    team = 'NOP'\n",
    "            \n",
    "            newUrl = url.format(statsNBAMap[team], year)\n",
    "            options = chromeOptions()\n",
    "            driver = webdriver.Chrome(options=options) # used to view generated JavaScript\n",
    "            driver.get(newUrl)\n",
    "            html = driver.page_source\n",
    "            tables = driver.find_elements_by_tag_name('tbody')\n",
    "            \n",
    "            while len(tables) == 0:\n",
    "                html = driver.page_source\n",
    "                tables = driver.find_elements_by_tag_name('tbody')\n",
    "            \n",
    "            yearRating = tables[0].find_elements_by_tag_name('td')[5].text\n",
    "            ratings['Overall'] = yearRating\n",
    "            \n",
    "            table = tables[-2]\n",
    "            rows = table.find_elements_by_tag_name('tr')\n",
    "            \n",
    "            for row in rows:\n",
    "                tds = row.find_elements_by_tag_name('td')\n",
    "                restType = tds[0].text\n",
    "                rating = tds[5].text\n",
    "                ratings[restType] = rating\n",
    "            if year not in allRatings:\n",
    "                allRatings[year] = {}\n",
    "    \n",
    "            allRatings[year][team] = ratings\n",
    "            driver.close()\n",
    "    return allRatings\n",
    "\n",
    "def chromeOptions():\n",
    "    options = webdriver.ChromeOptions() # don't open URL window\n",
    "    options.add_argument(\"--incognito\")\n",
    "    options.add_argument('--disable-gpu')\n",
    "    options.add_argument(\"--window-size=0,0\")\n",
    "    options.add_argument(\"--window-position=100000,100000\")\n",
    "    options.add_argument(\"--disable-popup-blocking\")\n",
    "    prefs = {\"profile.managed_default_content_settings.images\": 2, 'disk-cache-size': 4096 }\n",
    "    options.add_experimental_option(\"prefs\", prefs)\n",
    "    return options"
   ]
  },
  {
   "cell_type": "code",
   "execution_count": 4,
   "metadata": {},
   "outputs": [],
   "source": [
    "# getNetRatings(\"Jamaal Magloire\")"
   ]
  },
  {
   "cell_type": "code",
   "execution_count": null,
   "metadata": {},
   "outputs": [],
   "source": []
  },
  {
   "cell_type": "code",
   "execution_count": null,
   "metadata": {},
   "outputs": [],
   "source": []
  }
 ],
 "metadata": {
  "kernelspec": {
   "display_name": "Python 3",
   "language": "python",
   "name": "python3"
  },
  "language_info": {
   "codemirror_mode": {
    "name": "ipython",
    "version": 3
   },
   "file_extension": ".py",
   "mimetype": "text/x-python",
   "name": "python",
   "nbconvert_exporter": "python",
   "pygments_lexer": "ipython3",
   "version": "3.7.6"
  }
 },
 "nbformat": 4,
 "nbformat_minor": 2
}
