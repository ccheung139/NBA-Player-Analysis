{
 "cells": [
  {
   "cell_type": "code",
   "execution_count": 1,
   "metadata": {},
   "outputs": [
    {
     "name": "stdout",
     "output_type": "stream",
     "text": [
      "importing Jupyter notebook from NBAInjuryAnalysis.ipynb\n",
      "importing Jupyter notebook from NBAPlayerAnalysis.ipynb\n",
      "importing Jupyter notebook from NBANetRatingAnalysis.ipynb\n",
      "importing Jupyter notebook from PlayerCollection.ipynb\n"
     ]
    }
   ],
   "source": [
    "from urllib.request import urlopen\n",
    "from bs4 import BeautifulSoup\n",
    "import pandas as pd\n",
    "from selenium import webdriver\n",
    "\n",
    "import string\n",
    "import datetime\n",
    "import time\n",
    "import csv\n",
    "import ast\n",
    "import import_ipynb\n",
    "import NBAInjuryAnalysis\n",
    "import NBAPlayerAnalysis\n",
    "import NBANetRatingAnalysis\n",
    "import PlayerCollection"
   ]
  },
  {
   "cell_type": "code",
   "execution_count": 2,
   "metadata": {},
   "outputs": [],
   "source": [
    "allPlayerData = {}\n",
    "num = 0\n",
    "year = 2001"
   ]
  },
  {
   "cell_type": "code",
   "execution_count": 3,
   "metadata": {},
   "outputs": [
    {
     "name": "stdout",
     "output_type": "stream",
     "text": [
      "559\n",
      "Mahmoud Abdul-Rauf\n",
      "one\n",
      "two\n",
      "three\n",
      "David Benoit\n",
      "5.0594658851623535\n",
      "6.075048923492432\n",
      "7.087670087814331\n",
      "8.102381944656372\n",
      "9.114876985549927\n",
      "10.126061916351318\n",
      "11.140614986419678\n",
      "12.154725790023804\n",
      "13.171103954315186\n",
      "14.184826850891113\n",
      "15.199347019195557\n",
      "16.213186740875244\n",
      "17.22873091697693\n",
      "18.246231079101562\n",
      "19.259864807128906\n",
      "20.275462865829468\n",
      "REFRESHED!\n",
      "5.676531076431274\n",
      "6.693174123764038\n",
      "5.409423828125\n",
      "6.767838954925537\n",
      "one\n",
      "two\n",
      "three\n",
      "Muggsy Bogues\n",
      "5.992371082305908\n",
      "7.003237247467041\n",
      "8.025455236434937\n",
      "9.040601253509521\n",
      "10.050580978393555\n",
      "11.064088106155396\n",
      "12.076220273971558\n",
      "13.088433265686035\n",
      "14.095958232879639\n",
      "15.106519222259521\n",
      "16.120952129364014\n",
      "17.13351035118103\n",
      "18.175228357315063\n",
      "19.1858971118927\n",
      "20.193501234054565\n",
      "REFRESHED!\n",
      "35.68960213661194\n",
      "REFRESHED!\n",
      "50.68513202667236\n",
      "REFRESHED!\n",
      "6.836249828338623\n",
      "5.48236608505249\n",
      "6.496985912322998\n",
      "7.513582944869995\n",
      "8.607992887496948\n",
      "9.61445689201355\n",
      "10.626264095306396\n",
      "11.634238004684448\n",
      "12.647840023040771\n",
      "13.747804880142212\n",
      "14.763469934463501\n",
      "15.79961085319519\n",
      "16.814604997634888\n",
      "17.820855140686035\n",
      "18.83562183380127\n",
      "19.851172924041748\n",
      "20.86429190635681\n",
      "REFRESHED!\n",
      "36.709015130996704\n",
      "REFRESHED!\n",
      "51.74186897277832\n",
      "REFRESHED!\n",
      "one\n",
      "two\n",
      "three\n",
      "Etdrick Bohannon\n",
      "one\n",
      "two\n",
      "three\n",
      "Scott Burrell\n",
      "one\n",
      "two\n",
      "three\n",
      "Chris Carr\n",
      "one\n",
      "two\n",
      "three\n",
      "Duane Causwell\n",
      "5.037363290786743\n",
      "one\n",
      "two\n",
      "three\n",
      "Cedric Ceballos\n",
      "one\n",
      "two\n",
      "three\n",
      "John Coker\n",
      "one\n",
      "two\n",
      "three\n",
      "Sean Colson\n",
      "one\n",
      "two\n",
      "three\n"
     ]
    }
   ],
   "source": [
    "allPlayerData = PlayerCollection.findPlayers(str(year), allPlayerData, num, num+100)"
   ]
  },
  {
   "cell_type": "code",
   "execution_count": 7,
   "metadata": {
    "scrolled": true
   },
   "outputs": [
    {
     "name": "stdout",
     "output_type": "stream",
     "text": [
      "dict_keys(['Mahmoud Abdul-Rauf', 'David Benoit', 'Muggsy Bogues', 'Etdrick Bohannon', 'Scott Burrell', 'Chris Carr', 'Duane Causwell', 'Cedric Ceballos', 'John Coker', 'Sean Colson'])\n"
     ]
    }
   ],
   "source": [
    "print(allPlayerData.keys())"
   ]
  },
  {
   "cell_type": "code",
   "execution_count": 8,
   "metadata": {},
   "outputs": [],
   "source": [
    "PlayerCollection.writeData(allPlayerData, num)"
   ]
  },
  {
   "cell_type": "code",
   "execution_count": 9,
   "metadata": {},
   "outputs": [
    {
     "data": {
      "text/plain": [
       "dict_keys(['Mahmoud Abdul-Rauf', 'David Benoit', 'Muggsy Bogues', 'Etdrick Bohannon', 'Scott Burrell', 'Chris Carr', 'Duane Causwell', 'Cedric Ceballos', 'John Coker', 'Sean Colson'])"
      ]
     },
     "execution_count": 9,
     "metadata": {},
     "output_type": "execute_result"
    }
   ],
   "source": [
    "mydict = PlayerCollection.readData(num)\n",
    "allPlayerData = mydict\n",
    "allPlayerData.keys()"
   ]
  },
  {
   "cell_type": "code",
   "execution_count": null,
   "metadata": {},
   "outputs": [],
   "source": []
  },
  {
   "cell_type": "code",
   "execution_count": null,
   "metadata": {},
   "outputs": [],
   "source": []
  },
  {
   "cell_type": "code",
   "execution_count": null,
   "metadata": {},
   "outputs": [],
   "source": []
  }
 ],
 "metadata": {
  "kernelspec": {
   "display_name": "Python 3",
   "language": "python",
   "name": "python3"
  },
  "language_info": {
   "codemirror_mode": {
    "name": "ipython",
    "version": 3
   },
   "file_extension": ".py",
   "mimetype": "text/x-python",
   "name": "python",
   "nbconvert_exporter": "python",
   "pygments_lexer": "ipython3",
   "version": "3.7.6"
  }
 },
 "nbformat": 4,
 "nbformat_minor": 2
}
