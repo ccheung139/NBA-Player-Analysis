{
 "cells": [
  {
   "cell_type": "code",
   "execution_count": 17,
   "metadata": {},
   "outputs": [],
   "source": [
    "from urllib.request import urlopen\n",
    "from bs4 import BeautifulSoup\n",
    "import pandas as pd\n",
    "from selenium import webdriver\n",
    "\n",
    "import string\n",
    "import datetime\n",
    "import time\n",
    "import csv\n",
    "import ast\n",
    "import import_ipynb\n",
    "import NBAInjuryAnalysis\n",
    "import NBAPlayerAnalysis\n",
    "import NBANetRatingAnalysis"
   ]
  },
  {
   "cell_type": "code",
   "execution_count": 18,
   "metadata": {},
   "outputs": [],
   "source": [
    "# global variables\n",
    "%store -r playersToIds\n",
    "%store -r idsToPlayers\n",
    "%store -r datesDict\n",
    "%store -r playoffDates\n",
    "%store -r statsNBAMap\n",
    "# %store -r apd"
   ]
  },
  {
   "cell_type": "code",
   "execution_count": 3,
   "metadata": {},
   "outputs": [],
   "source": [
    "allPlayerData = {}\n",
    "errorPlayers = set()"
   ]
  },
  {
   "cell_type": "code",
   "execution_count": 11,
   "metadata": {},
   "outputs": [],
   "source": [
    "def collectPlayerData(playerName):\n",
    "    playerData = {}\n",
    "    playerData.update(NBAInjuryAnalysis.collectInjuryData(playerName))\n",
    "    print('one')\n",
    "    playerData.update(NBANetRatingAnalysis.collectNetRatings(playerName))\n",
    "    print('two')\n",
    "    playerData.update(NBAPlayerAnalysis.collectPlayerHistory(playerName))\n",
    "    print('three')\n",
    "    return playerData\n",
    "\n",
    "def do2020_100():\n",
    "    url = \"https://www.basketball-reference.com/leagues/NBA_2020_totals.html\"\n",
    "    html = urlopen(url)\n",
    "    soup = BeautifulSoup(html, features=\"lxml\")\n",
    "    players = soup.find('tbody').findAll('tr')\n",
    "    for i in range(100, 150):\n",
    "        player = players[i]\n",
    "        if player['class'] == [\"thead\"]:\n",
    "            continue\n",
    "        playerName = player.find('a').text\n",
    "        \n",
    "        if playerName not in allPlayerData:\n",
    "            print(playerName)\n",
    "            try:\n",
    "                playerData = collectPlayerData(playerName)\n",
    "                allPlayerData[playerName] = playerData\n",
    "            except KeyboardInterrupt:\n",
    "                print('keyboard interrupt')\n",
    "                break\n",
    "            except Exception as e:\n",
    "                print(\"error:\", playerName)\n",
    "                print(e)\n",
    "        \n",
    "        "
   ]
  },
  {
   "cell_type": "code",
   "execution_count": 12,
   "metadata": {},
   "outputs": [
    {
     "name": "stdout",
     "output_type": "stream",
     "text": [
      "Kentavious Caldwell-Pope\n",
      "one\n",
      "two\n",
      "three\n",
      "Vlatko Čančar\n",
      "error: Vlatko Čančar\n",
      "substring not found\n",
      "Clint Capela\n",
      "one\n",
      "two\n",
      "three\n",
      "DeMarre Carroll\n",
      "one\n",
      "two\n",
      "three\n",
      "Jevon Carter\n",
      "one\n",
      "two\n",
      "three\n",
      "Vince Carter\n",
      "error: Vince Carter\n",
      "('No data found for url: ', 'https://stats.nba.com/team/1610612761/advanced/?Season=2002-03&SeasonType=Regular%20Season&DateFrom=11%2F7%2F2002&DateTo=11%2F8%2F2002')\n",
      "Wendell Carter Jr.\n",
      "one\n",
      "error: Wendell Carter Jr.\n",
      "'Wendell Carter Jr.'\n",
      "Michael Carter-Williams\n",
      "one\n",
      "two\n",
      "three\n",
      "Alex Caruso\n",
      "one\n",
      "two\n",
      "three\n",
      "Willie Cauley-Stein\n",
      "error: Willie Cauley-Stein\n",
      "'1898-99'\n",
      "Willie Cauley-Stein\n",
      "error: Willie Cauley-Stein\n",
      "'1898-99'\n",
      "Willie Cauley-Stein\n",
      "error: Willie Cauley-Stein\n",
      "'1898-99'\n",
      "Tyson Chandler\n",
      "error: Tyson Chandler\n",
      "('No data found for url: ', 'https://stats.nba.com/team/1610612766/advanced/?Season=2008-09&SeasonType=Playoffs&DateFrom=4%2F30%2F2009&DateTo=5%2F26%2F2009')\n",
      "Wilson Chandler\n",
      "error: Wilson Chandler\n",
      "('No data found for url: ', 'https://stats.nba.com/team/1610612752/advanced/?Season=2007-08&SeasonType=Regular%20Season&DateFrom=10%2F30%2F2007&DateTo=11%2F1%2F2007')\n",
      "Joe Chealey\n",
      "error: Joe Chealey\n",
      "substring not found\n",
      "Zylan Cheatham\n",
      "error: Zylan Cheatham\n",
      "substring not found\n",
      "Chris Chiozza\n",
      "error: Chris Chiozza\n",
      "substring not found\n",
      "Chris Chiozza\n",
      "error: Chris Chiozza\n",
      "substring not found\n",
      "Chris Chiozza\n",
      "error: Chris Chiozza\n",
      "substring not found\n",
      "Marquese Chriss\n",
      "one\n",
      "two\n",
      "three\n",
      "Gary Clark\n",
      "error: Gary Clark\n",
      "substring not found\n",
      "Gary Clark\n",
      "error: Gary Clark\n",
      "substring not found\n",
      "Gary Clark\n",
      "error: Gary Clark\n",
      "substring not found\n",
      "Brandon Clarke\n",
      "one\n",
      "two\n",
      "three\n",
      "Jordan Clarkson\n",
      "one\n",
      "two\n",
      "three\n",
      "Nicolas Claxton\n",
      "one\n",
      "two\n",
      "three\n",
      "Chris Clemons\n",
      "error: Chris Clemons\n",
      "substring not found\n",
      "Antonius Cleveland\n",
      "one\n",
      "two\n",
      "three\n",
      "Amir Coffey\n",
      "one\n",
      "two\n",
      "three\n",
      "John Collins\n",
      "one\n",
      "two\n",
      "three\n",
      "Zach Collins\n",
      "one\n",
      "two\n",
      "three\n",
      "Mike Conley\n",
      "one\n",
      "two\n",
      "three\n",
      "Pat Connaughton\n",
      "keyboard interrupt\n"
     ]
    }
   ],
   "source": [
    "do2020_100()"
   ]
  },
  {
   "cell_type": "code",
   "execution_count": 19,
   "metadata": {},
   "outputs": [
    {
     "name": "stdout",
     "output_type": "stream",
     "text": [
      "dict_keys(['Bruno Caboclo', 'Kentavious Caldwell-Pope', 'Clint Capela', 'DeMarre Carroll', 'Jevon Carter', 'Michael Carter-Williams', 'Alex Caruso', 'Marquese Chriss', 'Brandon Clarke', 'Jordan Clarkson', 'Nicolas Claxton', 'Antonius Cleveland', 'Amir Coffey', 'John Collins', 'Zach Collins', 'Mike Conley'])\n"
     ]
    }
   ],
   "source": [
    "print(allPlayerData.keys())"
   ]
  },
  {
   "cell_type": "code",
   "execution_count": 15,
   "metadata": {},
   "outputs": [],
   "source": [
    "w = csv.writer(open(\"100output.csv\", \"w\"))\n",
    "for key, val in allPlayerData.items():\n",
    "    w.writerow([key, val])"
   ]
  },
  {
   "cell_type": "code",
   "execution_count": 16,
   "metadata": {},
   "outputs": [
    {
     "data": {
      "text/plain": [
       "dict_keys(['Bruno Caboclo', 'Kentavious Caldwell-Pope', 'Clint Capela', 'DeMarre Carroll', 'Jevon Carter', 'Michael Carter-Williams', 'Alex Caruso', 'Marquese Chriss', 'Brandon Clarke', 'Jordan Clarkson', 'Nicolas Claxton', 'Antonius Cleveland', 'Amir Coffey', 'John Collins', 'Zach Collins', 'Mike Conley'])"
      ]
     },
     "execution_count": 16,
     "metadata": {},
     "output_type": "execute_result"
    }
   ],
   "source": [
    "with open('100output.csv', mode='r') as infile:\n",
    "    reader = csv.reader(infile)\n",
    "    with open('100reader.csv', mode='w') as outfile:\n",
    "        writer = csv.writer(outfile)\n",
    "        mydict = {rows[0]:rows[1] for rows in reader}\n",
    "\n",
    "for name in mydict:\n",
    "    val = mydict[name]\n",
    "    mydict[name] = eval(val)\n",
    "\n",
    "allPlayerData = mydict\n",
    "allPlayerData.keys()"
   ]
  },
  {
   "cell_type": "code",
   "execution_count": null,
   "metadata": {},
   "outputs": [],
   "source": []
  }
 ],
 "metadata": {
  "kernelspec": {
   "display_name": "Python 3",
   "language": "python",
   "name": "python3"
  },
  "language_info": {
   "codemirror_mode": {
    "name": "ipython",
    "version": 3
   },
   "file_extension": ".py",
   "mimetype": "text/x-python",
   "name": "python",
   "nbconvert_exporter": "python",
   "pygments_lexer": "ipython3",
   "version": "3.7.6"
  }
 },
 "nbformat": 4,
 "nbformat_minor": 4
}
