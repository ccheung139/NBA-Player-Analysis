{
 "cells": [
  {
   "cell_type": "code",
   "execution_count": 1,
   "metadata": {},
   "outputs": [
    {
     "name": "stdout",
     "output_type": "stream",
     "text": [
      "importing Jupyter notebook from NBAInjuryAnalysis.ipynb\n",
      "importing Jupyter notebook from NBAPlayerAnalysis.ipynb\n",
      "importing Jupyter notebook from NBANetRatingAnalysis.ipynb\n",
      "importing Jupyter notebook from PlayerCollection.ipynb\n"
     ]
    }
   ],
   "source": [
    "from urllib.request import urlopen\n",
    "from bs4 import BeautifulSoup\n",
    "import pandas as pd\n",
    "from selenium import webdriver\n",
    "\n",
    "import string\n",
    "import datetime\n",
    "import time\n",
    "import csv\n",
    "import ast\n",
    "import import_ipynb\n",
    "import NBAInjuryAnalysis\n",
    "import NBAPlayerAnalysis\n",
    "import NBANetRatingAnalysis\n",
    "import PlayerCollection"
   ]
  },
  {
   "cell_type": "code",
   "execution_count": 2,
   "metadata": {},
   "outputs": [],
   "source": [
    "allPlayerData = {}\n",
    "num = 100\n",
    "year = 2001"
   ]
  },
  {
   "cell_type": "code",
   "execution_count": 3,
   "metadata": {},
   "outputs": [
    {
     "name": "stdout",
     "output_type": "stream",
     "text": [
      "559\n",
      "Tyrone Corbin\n",
      "6.295804023742676\n",
      "one\n",
      "two\n",
      "three\n",
      "Bill Curley\n",
      "one\n",
      "two\n",
      "three\n",
      "Kornél Dávid\n",
      "one\n",
      "two\n",
      "three\n",
      "Terry Davis\n",
      "one\n",
      "two\n",
      "three\n",
      "Todd Day\n",
      "one\n",
      "two\n",
      "three\n",
      "Sherman Douglas\n",
      "5.311233043670654\n",
      "5.379018068313599\n",
      "6.391170024871826\n",
      "7.408179044723511\n",
      "8.41828203201294\n",
      "9.433042049407959\n",
      "10.440363883972168\n",
      "11.451044082641602\n",
      "12.458430051803589\n",
      "13.470308065414429\n",
      "14.478754043579102\n",
      "15.488610029220581\n",
      "16.499016046524048\n",
      "17.505767107009888\n",
      "18.51810121536255\n",
      "19.525702953338623\n",
      "20.531967878341675\n",
      "REFRESHED!\n",
      "34.36187410354614\n",
      "REFRESHED!\n",
      "48.191035985946655\n",
      "REFRESHED!\n",
      "one\n",
      "two\n",
      "three\n",
      "Tyus Edney\n",
      "one\n",
      "two\n",
      "three\n",
      "Kevin Edwards\n",
      "one\n",
      "two\n",
      "three\n",
      "Khalid El-Amin\n",
      "one\n",
      "two\n",
      "three\n",
      "Mario Elie\n",
      "5.745687007904053\n",
      "5.958270072937012\n",
      "7.02236008644104\n",
      "one\n",
      "two\n",
      "three\n",
      "Sean Elliott\n",
      "5.503180027008057\n",
      "one\n",
      "two\n",
      "three\n",
      "Pervis Ellison\n",
      "5.449103832244873\n",
      "6.465699672698975\n",
      "one\n",
      "two\n",
      "three\n",
      "Jamie Feick\n",
      "one\n",
      "two\n",
      "three\n",
      "Todd Fuller\n",
      "one\n",
      "two\n",
      "three\n",
      "Rubén Garcés\n",
      "one\n",
      "two\n",
      "three\n",
      "Chris Garner\n",
      "one\n",
      "two\n",
      "three\n",
      "Gary Grant\n",
      "5.088838815689087\n",
      "6.100513935089111\n",
      "7.114595174789429\n",
      "8.128858804702759\n",
      "9.141487836837769\n",
      "10.14893388748169\n",
      "11.161428928375244\n",
      "12.17214322090149\n",
      "13.182466983795166\n",
      "14.191744089126587\n",
      "15.203992128372192\n",
      "16.219987869262695\n",
      "17.23405909538269\n",
      "18.24723792076111\n",
      "19.25561022758484\n",
      "20.271358013153076\n",
      "REFRESHED!\n",
      "32.47371196746826\n",
      "REFRESHED!\n",
      "44.69441509246826\n",
      "REFRESHED!\n",
      "5.1390221118927\n",
      "6.150460958480835\n",
      "one\n",
      "two\n",
      "three\n",
      "A.C. Green\n",
      "one\n",
      "two\n",
      "three\n",
      "Tom Hammonds\n",
      "one\n",
      "two\n",
      "three\n",
      "Ron Harper\n",
      "5.159691095352173\n",
      "6.175709962844849\n",
      "7.187189102172852\n",
      "8.198184251785278\n",
      "9.21118688583374\n",
      "10.226125001907349\n",
      "11.239703178405762\n",
      "12.250115156173706\n",
      "13.256818294525146\n",
      "14.262891054153442\n",
      "15.274344205856323\n",
      "16.286327123641968\n",
      "17.30004620552063\n",
      "18.315859079360962\n",
      "19.327972173690796\n",
      "20.339049100875854\n",
      "REFRESHED!\n",
      "32.538207054138184\n",
      "REFRESHED!\n",
      "44.34384322166443\n",
      "REFRESHED!\n",
      "one\n",
      "two\n",
      "three\n"
     ]
    }
   ],
   "source": [
    "allPlayerData = PlayerCollection.findPlayers(str(year), allPlayerData, num, num+100)"
   ]
  },
  {
   "cell_type": "code",
   "execution_count": 4,
   "metadata": {},
   "outputs": [
    {
     "name": "stdout",
     "output_type": "stream",
     "text": [
      "dict_keys(['Tyrone Corbin', 'Bill Curley', 'Kornél Dávid', 'Terry Davis', 'Todd Day', 'Sherman Douglas', 'Tyus Edney', 'Kevin Edwards', 'Khalid El-Amin', 'Mario Elie', 'Sean Elliott', 'Pervis Ellison', 'Jamie Feick', 'Todd Fuller', 'Rubén Garcés', 'Chris Garner', 'Gary Grant', 'A.C. Green', 'Tom Hammonds', 'Ron Harper'])\n"
     ]
    }
   ],
   "source": [
    "print(allPlayerData.keys())"
   ]
  },
  {
   "cell_type": "code",
   "execution_count": 5,
   "metadata": {},
   "outputs": [],
   "source": [
    "PlayerCollection.writeData(allPlayerData, num)"
   ]
  },
  {
   "cell_type": "code",
   "execution_count": 6,
   "metadata": {},
   "outputs": [
    {
     "data": {
      "text/plain": [
       "dict_keys(['Tyrone Corbin', 'Bill Curley', 'Kornél Dávid', 'Terry Davis', 'Todd Day', 'Sherman Douglas', 'Tyus Edney', 'Kevin Edwards', 'Khalid El-Amin', 'Mario Elie', 'Sean Elliott', 'Pervis Ellison', 'Jamie Feick', 'Todd Fuller', 'Rubén Garcés', 'Chris Garner', 'Gary Grant', 'A.C. Green', 'Tom Hammonds', 'Ron Harper'])"
      ]
     },
     "execution_count": 6,
     "metadata": {},
     "output_type": "execute_result"
    }
   ],
   "source": [
    "mydict = PlayerCollection.readData(num)\n",
    "allPlayerData = mydict\n",
    "allPlayerData.keys()"
   ]
  },
  {
   "cell_type": "code",
   "execution_count": null,
   "metadata": {},
   "outputs": [],
   "source": []
  },
  {
   "cell_type": "code",
   "execution_count": null,
   "metadata": {},
   "outputs": [],
   "source": []
  },
  {
   "cell_type": "code",
   "execution_count": null,
   "metadata": {},
   "outputs": [],
   "source": []
  }
 ],
 "metadata": {
  "kernelspec": {
   "display_name": "Python 3",
   "language": "python",
   "name": "python3"
  },
  "language_info": {
   "codemirror_mode": {
    "name": "ipython",
    "version": 3
   },
   "file_extension": ".py",
   "mimetype": "text/x-python",
   "name": "python",
   "nbconvert_exporter": "python",
   "pygments_lexer": "ipython3",
   "version": "3.7.6"
  }
 },
 "nbformat": 4,
 "nbformat_minor": 2
}
