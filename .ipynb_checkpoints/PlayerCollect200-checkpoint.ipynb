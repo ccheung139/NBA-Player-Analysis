{
 "cells": [
  {
   "cell_type": "code",
   "execution_count": 1,
   "metadata": {},
   "outputs": [
    {
     "name": "stdout",
     "output_type": "stream",
     "text": [
      "importing Jupyter notebook from NBAInjuryAnalysis.ipynb\n",
      "importing Jupyter notebook from NBAPlayerAnalysis.ipynb\n",
      "importing Jupyter notebook from NBANetRatingAnalysis.ipynb\n",
      "importing Jupyter notebook from PlayerCollection.ipynb\n"
     ]
    }
   ],
   "source": [
    "from urllib.request import urlopen\n",
    "from bs4 import BeautifulSoup\n",
    "import pandas as pd\n",
    "from selenium import webdriver\n",
    "\n",
    "import string\n",
    "import datetime\n",
    "import time\n",
    "import csv\n",
    "import ast\n",
    "import import_ipynb\n",
    "import NBAInjuryAnalysis\n",
    "import NBAPlayerAnalysis\n",
    "import NBANetRatingAnalysis\n",
    "import PlayerCollection"
   ]
  },
  {
   "cell_type": "code",
   "execution_count": 2,
   "metadata": {},
   "outputs": [],
   "source": [
    "allPlayerData = {}\n",
    "num = 200\n",
    "year = 2001"
   ]
  },
  {
   "cell_type": "code",
   "execution_count": 3,
   "metadata": {},
   "outputs": [
    {
     "name": "stdout",
     "output_type": "stream",
     "text": [
      "559\n",
      "Hersey Hawkins\n",
      "one\n",
      "two\n",
      "three\n",
      "Michael Hawkins\n",
      "one\n",
      "two\n",
      "three\n",
      "Chris Herren\n",
      "5.056517124176025\n",
      "6.067907094955444\n",
      "7.074615955352783\n",
      "8.086375951766968\n",
      "9.094667911529541\n",
      "10.111493110656738\n",
      "11.118669033050537\n",
      "12.133810043334961\n",
      "13.141905069351196\n",
      "14.151690006256104\n",
      "15.163932085037231\n",
      "16.20536994934082\n",
      "17.215442180633545\n",
      "18.223358869552612\n",
      "19.24480104446411\n",
      "20.254033088684082\n",
      "REFRESHED!\n",
      "one\n",
      "two\n",
      "three\n",
      "Sam Jacobson\n",
      "one\n",
      "two\n",
      "three\n",
      "Larry Johnson\n",
      "5.024551153182983\n",
      "6.035057067871094\n",
      "5.538343191146851\n",
      "5.528217077255249\n",
      "6.5417070388793945\n",
      "7.554971218109131\n",
      "8.561259984970093\n",
      "9.576056003570557\n",
      "10.58669114112854\n",
      "11.597029209136963\n",
      "12.603234052658081\n",
      "13.613880157470703\n",
      "14.620666265487671\n",
      "15.637852191925049\n",
      "16.653914213180542\n",
      "17.668177127838135\n",
      "18.682857990264893\n",
      "19.69109606742859\n",
      "20.70109796524048\n",
      "REFRESHED!\n",
      "34.93319129943848\n",
      "REFRESHED!\n",
      "47.96789813041687\n",
      "REFRESHED!\n",
      "one\n",
      "two\n",
      "three\n",
      "Garth Joseph\n",
      "5.424808025360107\n",
      "one\n",
      "two\n",
      "three\n",
      "Adam Keefe\n",
      "5.0702598094940186\n",
      "5.448408126831055\n",
      "5.461820125579834\n",
      "6.477051258087158\n",
      "7.483800172805786\n",
      "8.49293828010559\n",
      "9.504111289978027\n",
      "10.52523922920227\n",
      "11.537386178970337\n",
      "12.545789241790771\n",
      "13.555964231491089\n",
      "14.564987182617188\n",
      "15.578774213790894\n",
      "16.59378409385681\n",
      "17.60067319869995\n",
      "18.610894203186035\n",
      "19.65504002571106\n",
      "20.6701340675354\n",
      "REFRESHED!\n",
      "34.494211196899414\n",
      "REFRESHED!\n",
      "47.63818597793579\n",
      "REFRESHED!\n",
      "one\n",
      "two\n",
      "three\n",
      "Jerome Kersey\n",
      "5.417281150817871\n",
      "6.506861925125122\n",
      "one\n",
      "two\n",
      "three\n",
      "Lari Ketner\n",
      "5.8394551277160645\n",
      "6.8563361167907715\n",
      "7.871427059173584\n",
      "8.880675077438354\n",
      "9.886704206466675\n",
      "10.89821720123291\n",
      "11.907465934753418\n",
      "12.919347286224365\n",
      "13.926488161087036\n",
      "14.939032077789307\n",
      "15.945919275283813\n",
      "16.959586143493652\n",
      "17.965826988220215\n",
      "18.971806287765503\n",
      "19.988569974899292\n",
      "20.998711109161377\n",
      "REFRESHED!\n",
      "34.64170527458191\n",
      "REFRESHED!\n",
      "48.046855211257935\n",
      "REFRESHED!\n",
      "one\n",
      "two\n",
      "three\n",
      "Gerard King\n",
      "one\n",
      "two\n",
      "three\n",
      "Luc Longley\n",
      "5.4039459228515625\n",
      "5.524018049240112\n",
      "5.228792905807495\n",
      "6.2437028884887695\n",
      "7.2498040199279785\n",
      "8.264446020126343\n",
      "9.282922983169556\n",
      "10.295817852020264\n",
      "11.31030797958374\n",
      "12.322499990463257\n",
      "13.332849979400635\n",
      "14.346585988998413\n",
      "15.36214017868042\n",
      "16.376482009887695\n",
      "17.384435892105103\n",
      "18.399478912353516\n",
      "19.41114902496338\n",
      "20.419950008392334\n",
      "REFRESHED!\n",
      "36.53053092956543\n",
      "REFRESHED!\n",
      "48.99095106124878\n",
      "REFRESHED!\n",
      "5.606611967086792\n",
      "one\n",
      "two\n",
      "three\n",
      "Don MacLean\n",
      "5.359259128570557\n",
      "6.372611999511719\n",
      "5.538437128067017\n",
      "5.234884023666382\n",
      "6.250474214553833\n",
      "one\n",
      "two\n",
      "three\n"
     ]
    }
   ],
   "source": [
    "allPlayerData = PlayerCollection.findPlayers(str(year), allPlayerData, num, num+100)"
   ]
  },
  {
   "cell_type": "code",
   "execution_count": 7,
   "metadata": {
    "scrolled": true
   },
   "outputs": [
    {
     "name": "stdout",
     "output_type": "stream",
     "text": [
      "dict_keys(['Hersey Hawkins', 'Michael Hawkins', 'Chris Herren', 'Sam Jacobson', 'Larry Johnson', 'Garth Joseph', 'Adam Keefe', 'Jerome Kersey', 'Lari Ketner', 'Gerard King', 'Luc Longley', 'Don MacLean'])\n"
     ]
    }
   ],
   "source": [
    "print(allPlayerData.keys())"
   ]
  },
  {
   "cell_type": "code",
   "execution_count": 8,
   "metadata": {},
   "outputs": [],
   "source": [
    "PlayerCollection.writeData(allPlayerData, num)"
   ]
  },
  {
   "cell_type": "code",
   "execution_count": 9,
   "metadata": {},
   "outputs": [
    {
     "data": {
      "text/plain": [
       "dict_keys(['Hersey Hawkins', 'Michael Hawkins', 'Chris Herren', 'Sam Jacobson', 'Larry Johnson', 'Garth Joseph', 'Adam Keefe', 'Jerome Kersey', 'Lari Ketner', 'Gerard King', 'Luc Longley', 'Don MacLean'])"
      ]
     },
     "execution_count": 9,
     "metadata": {},
     "output_type": "execute_result"
    }
   ],
   "source": [
    "mydict = PlayerCollection.readData(num)\n",
    "allPlayerData = mydict\n",
    "allPlayerData.keys()"
   ]
  },
  {
   "cell_type": "code",
   "execution_count": null,
   "metadata": {},
   "outputs": [],
   "source": []
  },
  {
   "cell_type": "code",
   "execution_count": null,
   "metadata": {},
   "outputs": [],
   "source": []
  },
  {
   "cell_type": "code",
   "execution_count": null,
   "metadata": {},
   "outputs": [],
   "source": []
  }
 ],
 "metadata": {
  "kernelspec": {
   "display_name": "Python 3",
   "language": "python",
   "name": "python3"
  },
  "language_info": {
   "codemirror_mode": {
    "name": "ipython",
    "version": 3
   },
   "file_extension": ".py",
   "mimetype": "text/x-python",
   "name": "python",
   "nbconvert_exporter": "python",
   "pygments_lexer": "ipython3",
   "version": "3.7.6"
  }
 },
 "nbformat": 4,
 "nbformat_minor": 2
}
