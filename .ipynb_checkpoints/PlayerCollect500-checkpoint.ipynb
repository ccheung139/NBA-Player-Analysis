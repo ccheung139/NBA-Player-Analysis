{
 "cells": [
  {
   "cell_type": "code",
   "execution_count": 10,
   "metadata": {},
   "outputs": [],
   "source": [
    "from urllib.request import urlopen\n",
    "from bs4 import BeautifulSoup\n",
    "import pandas as pd\n",
    "from selenium import webdriver\n",
    "\n",
    "import string\n",
    "import datetime\n",
    "import time\n",
    "import csv\n",
    "import ast\n",
    "import import_ipynb\n",
    "import NBAInjuryAnalysis\n",
    "import NBAPlayerAnalysis\n",
    "import NBANetRatingAnalysis\n",
    "import PlayerCollection"
   ]
  },
  {
   "cell_type": "code",
   "execution_count": 11,
   "metadata": {},
   "outputs": [],
   "source": [
    "allPlayerData = {}\n",
    "num = 500\n",
    "year = 2001"
   ]
  },
  {
   "cell_type": "code",
   "execution_count": 12,
   "metadata": {},
   "outputs": [
    {
     "name": "stdout",
     "output_type": "stream",
     "text": [
      "559\n",
      "Žan Tabak\n",
      "5.063625812530518\n",
      "6.072191953659058\n",
      "7.081928968429565\n",
      "8.09710168838501\n",
      "9.11507773399353\n",
      "10.122945070266724\n",
      "11.134926795959473\n",
      "12.150253057479858\n",
      "13.160195112228394\n",
      "14.174808025360107\n",
      "15.190607786178589\n",
      "16.205423831939697\n",
      "17.21564292907715\n",
      "18.229207038879395\n",
      "19.244127988815308\n",
      "20.258591890335083\n",
      "REFRESHED!\n",
      "one\n",
      "two\n",
      "three\n",
      "Dragan Tarlać\n",
      "one\n",
      "two\n",
      "three\n",
      "Jamel Thomas\n",
      "one\n",
      "two\n",
      "three\n",
      "Otis Thorpe\n",
      "5.351417779922485\n",
      "6.364513874053955\n",
      "5.070338010787964\n",
      "one\n",
      "error: Otis Thorpe\n",
      "'KCK'\n",
      "David Vanterpool\n",
      "one\n",
      "two\n",
      "three\n",
      "Loy Vaught\n",
      "5.555456876754761\n",
      "one\n",
      "two\n",
      "three\n",
      "Doug West\n",
      "5.4981701374053955\n",
      "5.218307018280029\n",
      "6.952441930770874\n",
      "one\n",
      "two\n",
      "three\n",
      "David Wingate\n",
      "one\n",
      "two\n",
      "three\n"
     ]
    }
   ],
   "source": [
    "allPlayerData = PlayerCollection.findPlayers(str(year), allPlayerData, num, 559)"
   ]
  },
  {
   "cell_type": "code",
   "execution_count": 16,
   "metadata": {},
   "outputs": [
    {
     "name": "stdout",
     "output_type": "stream",
     "text": [
      "dict_keys(['Žan Tabak', 'Dragan Tarlać', 'Jamel Thomas', 'David Vanterpool', 'Loy Vaught', 'Doug West', 'David Wingate'])\n"
     ]
    }
   ],
   "source": [
    "print(allPlayerData.keys())"
   ]
  },
  {
   "cell_type": "code",
   "execution_count": 17,
   "metadata": {},
   "outputs": [],
   "source": [
    "PlayerCollection.writeData(allPlayerData, num)"
   ]
  },
  {
   "cell_type": "code",
   "execution_count": 18,
   "metadata": {},
   "outputs": [
    {
     "data": {
      "text/plain": [
       "dict_keys(['Žan Tabak', 'Dragan Tarlać', 'Jamel Thomas', 'David Vanterpool', 'Loy Vaught', 'Doug West', 'David Wingate'])"
      ]
     },
     "execution_count": 18,
     "metadata": {},
     "output_type": "execute_result"
    }
   ],
   "source": [
    "mydict = PlayerCollection.readData(num)\n",
    "allPlayerData = mydict\n",
    "allPlayerData.keys()"
   ]
  },
  {
   "cell_type": "code",
   "execution_count": null,
   "metadata": {},
   "outputs": [],
   "source": []
  },
  {
   "cell_type": "code",
   "execution_count": null,
   "metadata": {},
   "outputs": [],
   "source": []
  },
  {
   "cell_type": "code",
   "execution_count": null,
   "metadata": {},
   "outputs": [],
   "source": []
  }
 ],
 "metadata": {
  "kernelspec": {
   "display_name": "Python 3",
   "language": "python",
   "name": "python3"
  },
  "language_info": {
   "codemirror_mode": {
    "name": "ipython",
    "version": 3
   },
   "file_extension": ".py",
   "mimetype": "text/x-python",
   "name": "python",
   "nbconvert_exporter": "python",
   "pygments_lexer": "ipython3",
   "version": "3.7.6"
  }
 },
 "nbformat": 4,
 "nbformat_minor": 2
}
