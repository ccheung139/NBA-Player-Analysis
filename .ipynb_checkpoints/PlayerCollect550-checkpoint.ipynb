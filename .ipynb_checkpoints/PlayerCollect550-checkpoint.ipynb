{
 "cells": [
  {
   "cell_type": "code",
   "execution_count": 1,
   "metadata": {},
   "outputs": [
    {
     "name": "stdout",
     "output_type": "stream",
     "text": [
      "importing Jupyter notebook from NBAInjuryAnalysis.ipynb\n",
      "importing Jupyter notebook from NBAPlayerAnalysis.ipynb\n",
      "importing Jupyter notebook from NBANetRatingAnalysis.ipynb\n"
     ]
    }
   ],
   "source": [
    "from urllib.request import urlopen\n",
    "from bs4 import BeautifulSoup\n",
    "import pandas as pd\n",
    "from selenium import webdriver\n",
    "\n",
    "import string\n",
    "import datetime\n",
    "import time\n",
    "import csv\n",
    "import ast\n",
    "import import_ipynb\n",
    "import NBAInjuryAnalysis\n",
    "import NBAPlayerAnalysis\n",
    "import NBANetRatingAnalysis"
   ]
  },
  {
   "cell_type": "code",
   "execution_count": 2,
   "metadata": {},
   "outputs": [],
   "source": [
    "# global variables\n",
    "%store -r playersToIds\n",
    "%store -r idsToPlayers\n",
    "%store -r datesDict\n",
    "%store -r playoffDates\n",
    "%store -r statsNBAMap\n",
    "# %store -r apd"
   ]
  },
  {
   "cell_type": "code",
   "execution_count": 4,
   "metadata": {},
   "outputs": [],
   "source": [
    "allPlayerData = {}\n",
    "errorPlayers = set()"
   ]
  },
  {
   "cell_type": "code",
   "execution_count": 8,
   "metadata": {},
   "outputs": [],
   "source": [
    "def collectPlayerData(playerName):\n",
    "    playerData = {}\n",
    "    playerData.update(NBAInjuryAnalysis.collectInjuryData(playerName))\n",
    "    print('one')\n",
    "    playerData.update(NBANetRatingAnalysis.collectNetRatings(playerName))\n",
    "    print('two')\n",
    "    playerData.update(NBAPlayerAnalysis.collectPlayerHistory(playerName))\n",
    "    print('three')\n",
    "    return playerData\n",
    "\n",
    "def do2020_550():\n",
    "    url = \"https://www.basketball-reference.com/leagues/NBA_2020_totals.html\"\n",
    "    html = urlopen(url)\n",
    "    soup = BeautifulSoup(html, features=\"lxml\")\n",
    "    players = soup.find('tbody').findAll('tr')\n",
    "    for i in range(550, 600):\n",
    "        player = players[i]\n",
    "        if player['class'] == [\"thead\"]:\n",
    "            continue\n",
    "        playerName = player.find('a').text\n",
    "        \n",
    "        if playerName not in allPlayerData:\n",
    "            print(playerName)\n",
    "            try:\n",
    "                playerData = collectPlayerData(playerName)\n",
    "                allPlayerData[playerName] = playerData\n",
    "            except KeyboardInterrupt:\n",
    "                print('keyboard interrupt')\n",
    "                break\n",
    "            except TimeoutException:\n",
    "                print('timeout!', playerName)\n",
    "            except Exception as e:\n",
    "                print(\"error:\", playerName)\n",
    "                print(e)\n",
    "        \n",
    "        "
   ]
  },
  {
   "cell_type": "code",
   "execution_count": 6,
   "metadata": {},
   "outputs": [
    {
     "name": "stdout",
     "output_type": "stream",
     "text": [
      "Fred VanVleet\n",
      "one\n",
      "two\n",
      "three\n",
      "Gabe Vincent\n",
      "one\n",
      "two\n",
      "three\n",
      "Noah Vonleh\n",
      "one\n",
      "two\n",
      "three\n"
     ]
    }
   ],
   "source": [
    "do2020_550()"
   ]
  },
  {
   "cell_type": "code",
   "execution_count": 9,
   "metadata": {},
   "outputs": [
    {
     "name": "stdout",
     "output_type": "stream",
     "text": [
      "dict_keys(['Kevin Porter Jr.', 'Michael Porter Jr.', 'Otto Porter', 'Bobby Portis', 'Kristaps Porziņģis', 'Dwight Powell', 'Norman Powell', 'Chasson Randle', 'Julius Randle', 'Josh Reaves', 'Cam Reddish', 'J.J. Redick', 'Naz Reid', 'Josh Richardson', 'Austin Rivers', 'Duncan Robinson', 'Glenn Robinson III', 'Jerome Robinson', 'Justin Robinson', 'Mitchell Robinson', 'Isaiah Roby', 'Rajon Rondo', 'Derrick Rose', 'Terrence Ross', 'Terry Rozier', 'Ricky Rubio', \"D'Angelo Russell\", 'Domantas Sabonis', 'Luka Šamanić', 'JaKarr Sampson', 'Dario Šarić', 'Tomáš Satoranský', 'Admiral Schofield', 'Dennis Schröder', 'Mike Scott', 'Thabo Sefolosha', 'Collin Sexton', 'Landry Shamet', 'Marial Shayok', 'Iman Shumpert', 'Pascal Siakam', 'Chris Silva', 'Ben Simmons', 'Anfernee Simons', 'Alen Smailagić', 'Marcus Smart', 'Dennis Smith Jr.', 'Ish Smith', 'Zhaire Smith', 'Tony Snell', 'Omari Spellman', 'Max Strus', 'Edmond Sumner', 'Caleb Swanigan', 'Jayson Tatum', 'Jeff Teague', 'Garrett Temple', 'Daniel Theis', 'Isaiah Thomas', 'Khyri Thomas', 'Matt Thomas', 'Tristan Thompson', 'Matisse Thybulle', 'Anthony Tolliver', 'Juan Toscano-Anderson', 'Karl-Anthony Towns', 'Gary Trent Jr.', 'Allonzo Trier', 'P.J. Tucker', 'Rayjon Tucker', 'Evan Turner', 'Myles Turner', 'Jarrod Uthoff', 'Jonas Valančiūnas', 'Denzel Valentine', 'Jarred Vanderbilt', 'Fred VanVleet', 'Gabe Vincent', 'Noah Vonleh'])\n"
     ]
    }
   ],
   "source": [
    "print(allPlayerData.keys())"
   ]
  },
  {
   "cell_type": "code",
   "execution_count": 10,
   "metadata": {},
   "outputs": [],
   "source": [
    "w = csv.writer(open(\"550output.csv\", \"w\"))\n",
    "for key, val in allPlayerData.items():\n",
    "    w.writerow([key, val])"
   ]
  },
  {
   "cell_type": "code",
   "execution_count": 11,
   "metadata": {},
   "outputs": [
    {
     "data": {
      "text/plain": [
       "dict_keys(['Kevin Porter Jr.', 'Michael Porter Jr.', 'Otto Porter', 'Bobby Portis', 'Kristaps Porziņģis', 'Dwight Powell', 'Norman Powell', 'Chasson Randle', 'Julius Randle', 'Josh Reaves', 'Cam Reddish', 'J.J. Redick', 'Naz Reid', 'Josh Richardson', 'Austin Rivers', 'Duncan Robinson', 'Glenn Robinson III', 'Jerome Robinson', 'Justin Robinson', 'Mitchell Robinson', 'Isaiah Roby', 'Rajon Rondo', 'Derrick Rose', 'Terrence Ross', 'Terry Rozier', 'Ricky Rubio', \"D'Angelo Russell\", 'Domantas Sabonis', 'Luka Šamanić', 'JaKarr Sampson', 'Dario Šarić', 'Tomáš Satoranský', 'Admiral Schofield', 'Dennis Schröder', 'Mike Scott', 'Thabo Sefolosha', 'Collin Sexton', 'Landry Shamet', 'Marial Shayok', 'Iman Shumpert', 'Pascal Siakam', 'Chris Silva', 'Ben Simmons', 'Anfernee Simons', 'Alen Smailagić', 'Marcus Smart', 'Dennis Smith Jr.', 'Ish Smith', 'Zhaire Smith', 'Tony Snell', 'Omari Spellman', 'Max Strus', 'Edmond Sumner', 'Caleb Swanigan', 'Jayson Tatum', 'Jeff Teague', 'Garrett Temple', 'Daniel Theis', 'Isaiah Thomas', 'Khyri Thomas', 'Matt Thomas', 'Tristan Thompson', 'Matisse Thybulle', 'Anthony Tolliver', 'Juan Toscano-Anderson', 'Karl-Anthony Towns', 'Gary Trent Jr.', 'Allonzo Trier', 'P.J. Tucker', 'Rayjon Tucker', 'Evan Turner', 'Myles Turner', 'Jarrod Uthoff', 'Jonas Valančiūnas', 'Denzel Valentine', 'Jarred Vanderbilt', 'Fred VanVleet', 'Gabe Vincent', 'Noah Vonleh'])"
      ]
     },
     "execution_count": 11,
     "metadata": {},
     "output_type": "execute_result"
    }
   ],
   "source": [
    "with open('550output.csv', mode='r') as infile:\n",
    "    reader = csv.reader(infile)\n",
    "    with open('550reader.csv', mode='w') as outfile:\n",
    "        writer = csv.writer(outfile)\n",
    "        mydict = {rows[0]:rows[1] for rows in reader}\n",
    "\n",
    "for name in mydict:\n",
    "    val = mydict[name]\n",
    "    mydict[name] = eval(val)\n",
    "\n",
    "allPlayerData = mydict\n",
    "allPlayerData.keys()"
   ]
  },
  {
   "cell_type": "code",
   "execution_count": null,
   "metadata": {},
   "outputs": [],
   "source": []
  }
 ],
 "metadata": {
  "kernelspec": {
   "display_name": "Python 3",
   "language": "python",
   "name": "python3"
  },
  "language_info": {
   "codemirror_mode": {
    "name": "ipython",
    "version": 3
   },
   "file_extension": ".py",
   "mimetype": "text/x-python",
   "name": "python",
   "nbconvert_exporter": "python",
   "pygments_lexer": "ipython3",
   "version": "3.7.6"
  }
 },
 "nbformat": 4,
 "nbformat_minor": 4
}
