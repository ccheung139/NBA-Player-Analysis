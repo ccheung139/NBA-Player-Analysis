{
 "cells": [
  {
   "cell_type": "code",
   "execution_count": 1,
   "metadata": {},
   "outputs": [
    {
     "name": "stdout",
     "output_type": "stream",
     "text": [
      "importing Jupyter notebook from NBAInjuryAnalysis.ipynb\n",
      "importing Jupyter notebook from NBAPlayerAnalysis.ipynb\n",
      "importing Jupyter notebook from NBANetRatingAnalysis.ipynb\n"
     ]
    }
   ],
   "source": [
    "from urllib.request import urlopen\n",
    "from bs4 import BeautifulSoup\n",
    "import pandas as pd\n",
    "from selenium import webdriver\n",
    "\n",
    "import string\n",
    "import datetime\n",
    "import time\n",
    "import csv\n",
    "import ast\n",
    "import import_ipynb\n",
    "import NBAInjuryAnalysis\n",
    "import NBAPlayerAnalysis\n",
    "import NBANetRatingAnalysis"
   ]
  },
  {
   "cell_type": "code",
   "execution_count": 2,
   "metadata": {},
   "outputs": [],
   "source": [
    "# global variables\n",
    "%store -r playersToIds\n",
    "%store -r idsToPlayers\n",
    "%store -r datesDict\n",
    "%store -r playoffDates\n",
    "%store -r statsNBAMap\n",
    "%store -r apd\n",
    "%store -r allNames"
   ]
  },
  {
   "cell_type": "code",
   "execution_count": 3,
   "metadata": {},
   "outputs": [],
   "source": [
    "def collectPlayerData(playerName):\n",
    "    playerData = {}\n",
    "    playerData.update(NBAInjuryAnalysis.collectInjuryData(playerName))\n",
    "    print('one')\n",
    "    playerData.update(NBANetRatingAnalysis.collectNetRatings(playerName))\n",
    "    print('two')\n",
    "    playerData.update(NBAPlayerAnalysis.collectPlayerHistory(playerName))\n",
    "    print('three')\n",
    "    return playerData\n",
    "\n",
    "def findPlayers(year, allPlayerData, start, end):\n",
    "    url = \"https://www.basketball-reference.com/leagues/NBA_\" + year + \"_totals.html\"\n",
    "    html = urlopen(url)\n",
    "    soup = BeautifulSoup(html, features=\"lxml\")\n",
    "    players = soup.find('tbody').findAll('tr')\n",
    "    print(len(players))\n",
    "    for i in range(start, end):\n",
    "        player = players[i]\n",
    "        if player['class'] == [\"thead\"]:\n",
    "            continue\n",
    "        playerName = player.find('a').text\n",
    "        if playerName not in allPlayerData and playerName not in allNames:\n",
    "            print(playerName)\n",
    "            try:\n",
    "                playerData = collectPlayerData(playerName)\n",
    "                allPlayerData[playerName] = playerData\n",
    "            except KeyboardInterrupt:\n",
    "                print('keyboard interrupt')\n",
    "                return allPlayerData\n",
    "            except Exception as e:\n",
    "                print(\"error:\", playerName)\n",
    "                print(e)\n",
    "        \n",
    "    return allPlayerData\n",
    "\n",
    "def writeData(allPlayerData, num):\n",
    "    w = csv.writer(open(str(num) +\"/\" +str(num) + \"-\" + str(num+1)[2:] + \"players.csv\", \"a\"))\n",
    "    for key, val in allPlayerData.items():\n",
    "        w.writerow([key, val])\n",
    "        \n",
    "def readData(num):\n",
    "    with open(str(num) + 'output.csv', mode='r') as infile:\n",
    "        reader = csv.reader(infile)\n",
    "        with open(str(num) + 'reader.csv', mode='w') as outfile:\n",
    "            writer = csv.writer(outfile)\n",
    "            mydict = {rows[0]:rows[1] for rows in reader}\n",
    "\n",
    "    for name in mydict:\n",
    "        val = mydict[name]\n",
    "        mydict[name] = eval(val)\n",
    "\n",
    "    return mydict"
   ]
  },
  {
   "cell_type": "code",
   "execution_count": 16,
   "metadata": {},
   "outputs": [
    {
     "name": "stdout",
     "output_type": "stream",
     "text": [
      "{'Tony Farmer', 'Joe Stephens', 'Rodrick Rhodes', 'Keith Closs', 'Bobby Phills', 'Khalid Reeves', 'Kevin Johnson'}\n"
     ]
    }
   ],
   "source": [
    "a = ['Rodrick Rhodes', 'Kevin Johnson', 'Bobby Phills', 'Tony Farmer', 'Joe Stephens', 'Keith Closs', \\\n",
    "    'Khalid Reeves']\n",
    "a = set(a)\n",
    "print(a)"
   ]
  },
  {
   "cell_type": "code",
   "execution_count": 17,
   "metadata": {},
   "outputs": [],
   "source": [
    "ap = dict()"
   ]
  },
  {
   "cell_type": "code",
   "execution_count": 18,
   "metadata": {
    "scrolled": true
   },
   "outputs": [
    {
     "name": "stdout",
     "output_type": "stream",
     "text": [
      "Tony Farmer\n",
      "one\n",
      "two\n",
      "three\n",
      "Joe Stephens\n",
      "5.062422037124634\n",
      "6.073508977890015\n",
      "one\n",
      "two\n",
      "three\n",
      "Rodrick Rhodes\n",
      "5.050600051879883\n",
      "6.059905052185059\n",
      "one\n",
      "two\n",
      "three\n",
      "Keith Closs\n",
      "5.050426959991455\n",
      "6.060135126113892\n",
      "one\n",
      "two\n",
      "three\n",
      "Bobby Phills\n",
      "one\n",
      "two\n",
      "three\n",
      "Khalid Reeves\n",
      "5.055231094360352\n",
      "6.0673909187316895\n",
      "one\n",
      "two\n",
      "three\n",
      "Kevin Johnson\n",
      "5.005779027938843\n",
      "6.01596999168396\n",
      "one\n",
      "two\n",
      "three\n"
     ]
    }
   ],
   "source": [
    "b2011 = ['Otis Thorpe']\n",
    "\n",
    "for p in a:\n",
    "    if p not in ap:\n",
    "        print(p)\n",
    "        david = collectPlayerData(p)\n",
    "        ap[p] = david\n",
    "writeData(ap, 2000)"
   ]
  },
  {
   "cell_type": "code",
   "execution_count": 19,
   "metadata": {},
   "outputs": [],
   "source": [
    "writeData(ap, 2000)"
   ]
  },
  {
   "cell_type": "code",
   "execution_count": 20,
   "metadata": {},
   "outputs": [
    {
     "data": {
      "text/plain": [
       "dict_keys(['Tony Farmer', 'Joe Stephens', 'Rodrick Rhodes', 'Keith Closs', 'Bobby Phills', 'Khalid Reeves', 'Kevin Johnson'])"
      ]
     },
     "execution_count": 20,
     "metadata": {},
     "output_type": "execute_result"
    }
   ],
   "source": [
    "ap.keys()"
   ]
  },
  {
   "cell_type": "code",
   "execution_count": null,
   "metadata": {},
   "outputs": [],
   "source": []
  },
  {
   "cell_type": "code",
   "execution_count": null,
   "metadata": {},
   "outputs": [],
   "source": []
  }
 ],
 "metadata": {
  "kernelspec": {
   "display_name": "Python 3",
   "language": "python",
   "name": "python3"
  },
  "language_info": {
   "codemirror_mode": {
    "name": "ipython",
    "version": 3
   },
   "file_extension": ".py",
   "mimetype": "text/x-python",
   "name": "python",
   "nbconvert_exporter": "python",
   "pygments_lexer": "ipython3",
   "version": "3.7.4"
  }
 },
 "nbformat": 4,
 "nbformat_minor": 4
}
