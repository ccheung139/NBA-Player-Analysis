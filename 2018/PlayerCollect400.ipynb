{
 "cells": [
  {
   "cell_type": "code",
   "execution_count": 4,
   "metadata": {},
   "outputs": [],
   "source": [
    "from urllib.request import urlopen\n",
    "from bs4 import BeautifulSoup\n",
    "import pandas as pd\n",
    "from selenium import webdriver\n",
    "\n",
    "import string\n",
    "import datetime\n",
    "import time\n",
    "import csv\n",
    "import ast\n",
    "import import_ipynb\n",
    "import NBAInjuryAnalysis\n",
    "import NBAPlayerAnalysis\n",
    "import NBANetRatingAnalysis\n",
    "import PlayerCollection"
   ]
  },
  {
   "cell_type": "code",
   "execution_count": 5,
   "metadata": {},
   "outputs": [],
   "source": [
    "allPlayerData = {}\n",
    "num = 400"
   ]
  },
  {
   "cell_type": "code",
   "execution_count": 12,
   "metadata": {},
   "outputs": [
    {
     "name": "stdout",
     "output_type": "stream",
     "text": [
      "734\n"
     ]
    }
   ],
   "source": [
    "allPlayerData = PlayerCollection.findPlayers(2019, allPlayerData, num, num+100)"
   ]
  },
  {
   "cell_type": "code",
   "execution_count": 9,
   "metadata": {},
   "outputs": [
    {
     "name": "stdout",
     "output_type": "stream",
     "text": [
      "dict_keys(['Walt Lemon Jr.', 'Jon Leuer', 'Jeremy Lin', 'Shaun Livingston', 'Zach Lofton', 'Jordan Loyd', 'Kalin Lucas', 'Tyler Lydon', 'Scott Machado', 'Shelvin Mack', 'Jarell Martin', 'Yante Maten', 'Luc Mbah a Moute', 'Tahjere McCall', 'Jodie Meeks', 'Salah Mejri', 'Darius Miller', 'Nikola Mirotić', 'Greg Monroe', 'Eric Moreland', 'Jaylen Morris'])\n"
     ]
    }
   ],
   "source": [
    "print(allPlayerData.keys())"
   ]
  },
  {
   "cell_type": "code",
   "execution_count": 10,
   "metadata": {},
   "outputs": [],
   "source": [
    "PlayerCollection.writeData(allPlayerData, num)"
   ]
  },
  {
   "cell_type": "code",
   "execution_count": 11,
   "metadata": {},
   "outputs": [
    {
     "data": {
      "text/plain": [
       "dict_keys(['Walt Lemon Jr.', 'Jon Leuer', 'Jeremy Lin', 'Shaun Livingston', 'Zach Lofton', 'Jordan Loyd', 'Kalin Lucas', 'Tyler Lydon', 'Scott Machado', 'Shelvin Mack', 'Jarell Martin', 'Yante Maten', 'Luc Mbah a Moute', 'Tahjere McCall', 'Jodie Meeks', 'Salah Mejri', 'Darius Miller', 'Nikola Mirotić', 'Greg Monroe', 'Eric Moreland', 'Jaylen Morris'])"
      ]
     },
     "execution_count": 11,
     "metadata": {},
     "output_type": "execute_result"
    }
   ],
   "source": [
    "mydict = PlayerCollection.readData(num)\n",
    "allPlayerData = mydict\n",
    "allPlayerData.keys()"
   ]
  },
  {
   "cell_type": "code",
   "execution_count": null,
   "metadata": {},
   "outputs": [],
   "source": []
  },
  {
   "cell_type": "code",
   "execution_count": null,
   "metadata": {},
   "outputs": [],
   "source": []
  },
  {
   "cell_type": "code",
   "execution_count": null,
   "metadata": {},
   "outputs": [],
   "source": []
  }
 ],
 "metadata": {
  "kernelspec": {
   "display_name": "Python 3",
   "language": "python",
   "name": "python3"
  }
 },
 "nbformat": 4,
 "nbformat_minor": 2
}
