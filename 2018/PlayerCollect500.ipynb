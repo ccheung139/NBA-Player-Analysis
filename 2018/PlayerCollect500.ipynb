{
 "cells": [
  {
   "cell_type": "code",
   "execution_count": 1,
   "metadata": {},
   "outputs": [
    {
     "name": "stdout",
     "output_type": "stream",
     "text": [
      "importing Jupyter notebook from NBAInjuryAnalysis.ipynb\n",
      "importing Jupyter notebook from NBAPlayerAnalysis.ipynb\n",
      "importing Jupyter notebook from NBANetRatingAnalysis.ipynb\n",
      "importing Jupyter notebook from PlayerCollection.ipynb\n"
     ]
    }
   ],
   "source": [
    "from urllib.request import urlopen\n",
    "from bs4 import BeautifulSoup\n",
    "import pandas as pd\n",
    "from selenium import webdriver\n",
    "\n",
    "import string\n",
    "import datetime\n",
    "import time\n",
    "import csv\n",
    "import ast\n",
    "import import_ipynb\n",
    "import NBAInjuryAnalysis\n",
    "import NBAPlayerAnalysis\n",
    "import NBANetRatingAnalysis\n",
    "import PlayerCollection"
   ]
  },
  {
   "cell_type": "code",
   "execution_count": 2,
   "metadata": {},
   "outputs": [],
   "source": [
    "allPlayerData = {}\n",
    "num = 500"
   ]
  },
  {
   "cell_type": "code",
   "execution_count": 11,
   "metadata": {},
   "outputs": [
    {
     "name": "stdout",
     "output_type": "stream",
     "text": [
      "734\n",
      "Dirk Nowitzki\n",
      "one\n",
      "two\n",
      "three\n"
     ]
    }
   ],
   "source": [
    "allPlayerData = PlayerCollection.findPlayers(2019, allPlayerData, num, num+100)"
   ]
  },
  {
   "cell_type": "code",
   "execution_count": 12,
   "metadata": {},
   "outputs": [
    {
     "name": "stdout",
     "output_type": "stream",
     "text": [
      "dict_keys(['Donatas Motiejūnas', 'Joakim Noah', 'James Nunnally', 'Jusuf Nurkić', 'Zaza Pachulia', 'Tony Parker', 'Cameron Payne', 'Miles Plumlee', 'Quincy Pondexter', 'Alex Poythress', 'Zhou Qi', 'Ivan Rabb', 'Davon Reed', 'Cameron Reynolds', 'Malachi Richardson', 'Devin Robinson', 'Brandon Sampson', 'Dirk Nowitzki'])\n"
     ]
    }
   ],
   "source": [
    "print(allPlayerData.keys())"
   ]
  },
  {
   "cell_type": "code",
   "execution_count": 13,
   "metadata": {},
   "outputs": [],
   "source": [
    "PlayerCollection.writeData(allPlayerData, num)"
   ]
  },
  {
   "cell_type": "code",
   "execution_count": 14,
   "metadata": {},
   "outputs": [
    {
     "data": {
      "text/plain": [
       "dict_keys(['Donatas Motiejūnas', 'Joakim Noah', 'James Nunnally', 'Jusuf Nurkić', 'Zaza Pachulia', 'Tony Parker', 'Cameron Payne', 'Miles Plumlee', 'Quincy Pondexter', 'Alex Poythress', 'Zhou Qi', 'Ivan Rabb', 'Davon Reed', 'Cameron Reynolds', 'Malachi Richardson', 'Devin Robinson', 'Brandon Sampson', 'Dirk Nowitzki'])"
      ]
     },
     "execution_count": 14,
     "metadata": {},
     "output_type": "execute_result"
    }
   ],
   "source": [
    "mydict = PlayerCollection.readData(num)\n",
    "allPlayerData = mydict\n",
    "allPlayerData.keys()"
   ]
  },
  {
   "cell_type": "code",
   "execution_count": null,
   "metadata": {},
   "outputs": [],
   "source": []
  },
  {
   "cell_type": "code",
   "execution_count": null,
   "metadata": {},
   "outputs": [],
   "source": []
  },
  {
   "cell_type": "code",
   "execution_count": null,
   "metadata": {},
   "outputs": [],
   "source": []
  }
 ],
 "metadata": {
  "kernelspec": {
   "display_name": "Python 3",
   "language": "python",
   "name": "python3"
  }
 },
 "nbformat": 4,
 "nbformat_minor": 2
}
