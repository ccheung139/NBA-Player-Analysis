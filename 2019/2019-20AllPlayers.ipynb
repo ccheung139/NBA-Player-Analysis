{
 "cells": [
  {
   "cell_type": "code",
   "execution_count": 1,
   "metadata": {},
   "outputs": [
    {
     "name": "stdout",
     "output_type": "stream",
     "text": [
      "importing Jupyter notebook from NBAInjuryAnalysis.ipynb\n",
      "importing Jupyter notebook from NBAPlayerAnalysis.ipynb\n",
      "importing Jupyter notebook from NBANetRatingAnalysis.ipynb\n"
     ]
    }
   ],
   "source": [
    "from urllib.request import urlopen\n",
    "from bs4 import BeautifulSoup\n",
    "import pandas as pd\n",
    "from selenium import webdriver\n",
    "\n",
    "import string\n",
    "import datetime\n",
    "import time\n",
    "import csv\n",
    "import ast\n",
    "import import_ipynb\n",
    "import NBAInjuryAnalysis\n",
    "import NBAPlayerAnalysis\n",
    "import NBANetRatingAnalysis"
   ]
  },
  {
   "cell_type": "code",
   "execution_count": 6,
   "metadata": {},
   "outputs": [
    {
     "name": "stdout",
     "output_type": "stream",
     "text": [
      "514\n"
     ]
    },
    {
     "data": {
      "text/plain": [
       "dict_keys(['Steven Adams', 'Bam Adebayo', 'Nickeil Alexander-Walker', 'Grayson Allen', 'Jarrett Allen', 'Kadeem Allen', 'Al-Farouq Aminu', 'Justin Anderson', 'Kyle Anderson', 'Giannis Antetokounmpo', 'Kostas Antetokounmpo', 'Thanasis Antetokounmpo', 'Carmelo Anthony', 'Ryan Arcidiacono', 'Trevor Ariza', 'Deandre Ayton', 'Ryan Anderson', 'OG Anunoby', 'D.J. Augustin', 'Lonzo Ball', 'J.J. Barea', 'Harrison Barnes', 'Dwayne Bacon', 'RJ Barrett', 'Will Barton', 'Keita Bates-Diop', 'Nicolas Batum', 'Aron Baynes', 'Kent Bazemore', 'Darius Bazley', 'Bradley Beal', 'Malik Beasley', 'Marco Belinelli', 'Jordan Bell', 'Dragan Bender', 'LaMarcus Aldridge', \"DeAndre' Bembry\", 'Marvin Bagley III', 'Mo Bamba', 'Dāvis Bertāns', 'Khem Birch', 'Goga Bitadze', 'Patrick Beverley', 'Bismack Biyombo', 'Nemanja Bjelica', 'Eric Bledsoe', 'Bogdan Bogdanović', 'Bojan Bogdanović', 'Jonah Bolden', 'Jordan Bone', 'Isaac Bonga', 'Devin Booker', 'Chris Boucher', 'Ky Bowman', 'Avery Bradley', 'Tony Bradley', 'Ryan Broekhoff', 'Malcolm Brogdon', 'Dillon Brooks', 'Bruce Brown', 'Jaylen Brown', 'Sterling Brown', 'Jalen Brunson', 'Thomas Bryant', 'Marques Bolden', 'Brian Bowen', 'Jarrell Brantley', 'Ignas Brazdeikis', 'Mikal Bridges', 'Miles Bridges', 'Oshae Brissett', 'Charlie Brown', 'Moses Brown', 'Reggie Bullock', 'Trey Burke', 'Alec Burks', 'Deonte Burton', 'Jimmy Butler', 'Bruno Caboclo', 'Troy Brown Jr.', 'Kentavious Caldwell-Pope', 'Clint Capela', 'DeMarre Carroll', 'Jevon Carter', 'Michael Carter-Williams', 'Alex Caruso', 'Marquese Chriss', 'Brandon Clarke', 'Jordan Clarkson', 'Nicolas Claxton', 'Antonius Cleveland', 'Amir Coffey', 'John Collins', 'Zach Collins', 'Mike Conley', 'Vlatko Čančar', 'Joe Chealey', 'Zylan Cheatham', 'Chris Chiozza', 'Gary Clark', 'Chris Clemons', 'Pat Connaughton', 'Quinn Cook', 'Tyler Cook', 'Robert Covington', 'Torrey Craig', 'Jae Crowder', 'Vince Carter', 'Willie Cauley-Stein', 'Wilson Chandler', 'Allen Crabbe', 'Wendell Carter Jr.', 'Tyson Chandler', 'Jarrett Culver', 'Stephen Curry', 'Troy Daniels', 'Anthony Davis', 'Terence Davis', 'Dewayne Dedmon', 'DeMar DeRozan', 'Cheick Diallo', 'Hamidou Diallo', 'Gorgui Dieng', 'Spencer Dinwiddie', 'Donte DiVincenzo', 'Luka Dončić', 'Luguentz Dort', 'Damyean Dotson', 'Sekou Doumbouya', 'PJ Dozier', 'Goran Dragić', 'Andre Drummond', 'Jared Dudley', 'Kris Dunn', 'Carsen Edwards', 'Henry Ellenson', 'James Ennis', 'Drew Eubanks', 'Jacob Evans', 'Dante Exum', 'Seth Curry', 'Ed Davis', 'Matthew Dellavedova', 'Wayne Ellington', 'Joel Embiid', 'Tacko Fall', 'Derrick Favors', 'Cristiano Felício', 'Terrance Ferguson', 'Bruno Fernando', 'Yogi Ferrell', 'Dorian Finney-Smith', 'Evan Fournier', \"De'Aaron Fox\", 'Melvin Frazier', 'Tim Frazier', 'Markelle Fultz', 'Wenyen Gabriel', 'Daniel Gafford', 'Danilo Gallinari', 'Langston Galloway', 'Darius Garland', 'Marc Gasol', 'Rudy Gay', 'Paul George', 'Taj Gibson', 'Harry Giles', 'Shai Gilgeous-Alexander', 'Rudy Gobert', 'Brandon Goodwin', 'Aaron Gordon', \"Devonte' Graham\", 'Treveon Graham', 'Jerami Grant', 'Josh Gray', 'JaMychal Green', 'Javonte Green', 'Blake Griffin', 'Marko Guduric', 'Kyle Guy', 'Rui Hachimura', 'Michael Frazier', 'Eric Gordon', 'Danny Green', 'Draymond Green', 'Bryn Forbes', 'Jeff Green', 'Devon Hall', 'Donta Hall', 'Dusty Hannahs', 'Tim Hardaway Jr.', 'Maurice Harkless', 'Jared Harper', 'Montrezl Harrell', 'Gary Harris', 'Joe Harris', 'Tobias Harris', 'Shaquille Harrison', 'Josh Hart', 'Isaiah Hartenstein', 'Udonis Haslem', 'Jaxson Hayes', 'James Harden', 'Gordon Hayward', 'John Henson', 'Dewan Hernandez', 'Juan Hernangómez', 'Willy Hernangómez', 'Tyler Herro', 'Kevin Hervey', 'Mario Hezonja', 'Buddy Hield', 'Solomon Hill', 'Jaylen Hoard', 'Aaron Holiday', 'Justin Holiday', 'Rondae Hollis-Jefferson', 'Richaun Holmes', 'Rodney Hood', 'Al Horford', 'Talen Horton-Tucker', 'Danuel House', 'Dwight Howard', 'George Hill', 'Jrue Holiday', 'William Howard', 'Kevin Huerter', \"De'Andre Hunter\", 'Chandler Hutchison', 'Serge Ibaka', 'Andre Iguodala', 'Ersan İlyasova', 'Joe Ingles', 'Brandon Ingram', 'Jonathan Isaac', 'Wesley Iwundu', 'Frank Jackson', 'Jaren Jackson Jr.', 'Josh Jackson', 'Justin Jackson', 'Kyrie Irving', 'Reggie Jackson', 'Justin James', 'LeBron James', 'Amile Jefferson', 'DaQuan Jeffries', 'Ty Jerome', 'Alize Johnson', 'B.J. Johnson', 'Cameron Johnson', 'James Johnson', 'Keldon Johnson', 'Stanley Johnson', 'Tyler Johnson', 'Nikola Jokić', 'Damian Jones', 'Derrick Jones Jr.', 'Tyus Jones', 'DeAndre Jordan', 'Cory Joseph', 'Mfiondu Kabengele', 'Enes Kanter', 'Luke Kennard', 'Stanton Kidd', 'Michael Kidd-Gilchrist', 'Louis King', 'Maxi Kleber', 'Brandon Knight', 'Frank Kaminsky', 'John Konchar', 'Furkan Korkmaz', 'Luke Kornet', 'Rodions Kurucs', 'Kyle Kuzma', 'Skal Labissière', 'Jeremy Lamb', 'Romeo Langford', 'Zach LaVine', 'Vic Law', 'Jake Layman', 'T.J. Leaf', 'Jalen Lecque', 'Damion Lee', 'Kevin Knox', 'Kyle Korver', 'Alex Len', 'Meyers Leonard', 'Caris LeVert', 'Kawhi Leonard', 'Nassir Little', 'Kevon Looney', 'Brook Lopez', 'Robin Lopez', 'Kevin Love', 'Kyle Lowry', 'Timothé Luwawu-Cabarrot', 'Trey Lyles', 'Daryl Macon', 'J.P. Macura', 'Josh Magette', 'Ian Mahinmi', 'Thon Maker', 'Terance Mann', 'Boban Marjanović', 'Lauri Markkanen', 'Caleb Martin', 'Cody Martin', 'Jeremiah Martin', 'Kelan Martin', 'Frank Mason III', 'Garrison Mathews', 'Courtney Lee', 'Damian Lillard', 'Wesley Matthews', 'Patrick McCaw', 'CJ McCollum', 'T.J. McConnell', 'Jalen McDaniels', 'Doug McDermott', 'JaVale McGee', 'Rodney McGruder', 'Alfonzo McKinnie', 'Jordan McLaughlin', 'Ben McLemore', 'Jordan McRae', 'Nicolò Melli', \"De'Anthony Melton\", 'Chimezie Metu', 'Khris Middleton', 'Eric Mika', 'C.J. Miles', 'Malcolm Miller', 'Patty Mills', 'Paul Millsap', 'Shake Milton', 'Donovan Mitchell', 'Naz Mitrou-Long', 'Adam Mokoka', 'Malik Monk', 'Matt Mooney', \"E'Twaun Moore\", 'Ja Morant', 'Juwan Morgan', 'Marcus Morris', 'Markieff Morris', 'Monte Morris', 'Johnathan Motley', 'Emmanuel Mudiay', 'Mychal Mulder', 'Dejounte Murray', 'Jamal Murray', 'Džanan Musa', 'Mike Muscala', 'Sviatoslav Mykhailiuk', 'Abdel Nader', 'Larry Nance Jr.', 'Shabazz Napier', 'Raul Neto', 'Malik Newman', 'Zach Norvell', 'Jaylen Nowell', 'Kendrick Nunn', \"Royce O'Neale\", \"Kyle O'Quinn\", 'Semi Ojeleye', 'Jahlil Okafor', 'Georges Niang', 'Nerlens Noel', 'Frank Ntilikina', 'David Nwaba', 'Elie Okobo', 'Josh Okogie', 'KZ Okpala', 'Victor Oladipo', 'Kelly Olynyk', 'Miye Oni', 'Cedi Osman', 'Kelly Oubre Jr.', 'Tariq Owens', 'Jeremy Pargo', 'Jabari Parker', 'Chandler Parsons', 'Eric Paschall', 'Anžejs Pasečņiks', 'Patrick Patterson', 'Justin Patton', 'Chris Paul', 'Elfrid Payton', 'Gary Payton II', 'Norvel Pelle', 'Theo Pinson', 'Mason Plumlee', 'Vincent Poirier', 'Jakob Pöltl', 'Shamorie Ponds', 'Jordan Poole', 'Kevin Porter Jr.', 'Michael Porter Jr.', 'Otto Porter', 'Bobby Portis', 'Kristaps Porziņģis', 'Dwight Powell', 'Norman Powell', 'Chasson Randle', 'Julius Randle', 'Josh Reaves', 'Cam Reddish', 'J.J. Redick', 'Naz Reid', 'Josh Richardson', 'Austin Rivers', 'Duncan Robinson', 'Glenn Robinson III', 'Jerome Robinson', 'Justin Robinson', 'Mitchell Robinson', 'Isaiah Roby', 'Rajon Rondo', 'Derrick Rose', 'Terrence Ross', 'Terry Rozier', 'Ricky Rubio', \"D'Angelo Russell\", 'Domantas Sabonis', 'Luka Šamanić', 'JaKarr Sampson', 'Dario Šarić', 'Tomáš Satoranský', 'Admiral Schofield', 'Dennis Schröder', 'Mike Scott', 'Thabo Sefolosha', 'Collin Sexton', 'Landry Shamet', 'Marial Shayok', 'Iman Shumpert', 'Pascal Siakam', 'Chris Silva', 'Ben Simmons', 'Anfernee Simons', 'Alen Smailagić', 'Marcus Smart', 'Dennis Smith Jr.', 'Ish Smith', 'Zhaire Smith', 'Tony Snell', 'Omari Spellman', 'Max Strus', 'Edmond Sumner', 'Caleb Swanigan', 'Jayson Tatum', 'Jeff Teague', 'Garrett Temple', 'Daniel Theis', 'Isaiah Thomas', 'Khyri Thomas', 'Matt Thomas', 'Tristan Thompson', 'Matisse Thybulle', 'Anthony Tolliver', 'Juan Toscano-Anderson', 'Karl-Anthony Towns', 'Gary Trent Jr.', 'Allonzo Trier', 'P.J. Tucker', 'Rayjon Tucker', 'Evan Turner', 'Myles Turner', 'Jarrod Uthoff', 'Jonas Valančiūnas', 'Denzel Valentine', 'Jarred Vanderbilt', 'Fred VanVleet', 'Gabe Vincent', 'Noah Vonleh', 'Nikola Vučević', 'Dean Wade', 'Moritz Wagner', 'Dion Waiters', 'Kemba Walker', 'Lonnie Walker', 'Tyrone Wallace', 'Derrick Walton', 'Brad Wanamaker', 'T.J. Warren', 'P.J. Washington', 'Yuta Watanabe', 'Tremont Waters', 'Paul Watson', 'Quinndary Weatherspoon', 'Russell Westbrook', 'Coby White', 'Hassan Whiteside', 'Andrew Wiggins', 'Grant Williams', 'Johnathan Williams', 'Kenrich Williams', 'Lou Williams', 'Marvin Williams', 'Robert Williams', 'Nigel Williams-Goss', 'Zion Williamson', 'D.J. Wilson', 'Justise Winslow', 'Christian Wood', 'Delon Wright', 'Justin Wright-Foreman', 'Thaddeus Young', 'Trae Young', 'Cody Zeller', 'Ante Žižić', 'Ivica Zubac', 'Taurean Prince', 'Derrick White'])"
      ]
     },
     "execution_count": 6,
     "metadata": {},
     "output_type": "execute_result"
    }
   ],
   "source": [
    "allPlayerData = {}\n",
    "\n",
    "for i in range(0, 601, 50):\n",
    "    with open(str(i) + 'output.csv', mode='r') as infile:\n",
    "        reader = csv.reader(infile)\n",
    "        with open(str(i) + 'reader.csv', mode='w') as outfile:\n",
    "            writer = csv.writer(outfile)\n",
    "            mydict = {rows[0]:rows[1] for rows in reader}\n",
    "\n",
    "    for name in mydict:\n",
    "        val = mydict[name]\n",
    "        mydict[name] = eval(val)\n",
    "\n",
    "    allPlayerData.update(mydict)\n",
    "\n",
    "print(len(allPlayerData))\n",
    "allPlayerData.keys()"
   ]
  },
  {
   "cell_type": "code",
   "execution_count": 7,
   "metadata": {},
   "outputs": [],
   "source": [
    "w = csv.writer(open(\"2019-20players.csv\", \"w\"))\n",
    "for key, val in allPlayerData.items():\n",
    "    w.writerow([key, val])"
   ]
  },
  {
   "cell_type": "code",
   "execution_count": null,
   "metadata": {},
   "outputs": [],
   "source": []
  }
 ],
 "metadata": {
  "kernelspec": {
   "display_name": "Python 3",
   "language": "python",
   "name": "python3"
  },
  "language_info": {
   "codemirror_mode": {
    "name": "ipython",
    "version": 3
   },
   "file_extension": ".py",
   "mimetype": "text/x-python",
   "name": "python",
   "nbconvert_exporter": "python",
   "pygments_lexer": "ipython3",
   "version": "3.7.6"
  }
 },
 "nbformat": 4,
 "nbformat_minor": 4
}
