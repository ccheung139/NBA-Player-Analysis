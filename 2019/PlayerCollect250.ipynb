{
 "cells": [
  {
   "cell_type": "code",
   "execution_count": 10,
   "metadata": {},
   "outputs": [],
   "source": [
    "from urllib.request import urlopen\n",
    "from bs4 import BeautifulSoup\n",
    "import pandas as pd\n",
    "from selenium import webdriver\n",
    "\n",
    "import string\n",
    "import datetime\n",
    "import time\n",
    "import csv\n",
    "import ast\n",
    "import import_ipynb\n",
    "import NBAInjuryAnalysis\n",
    "import NBAPlayerAnalysis\n",
    "import NBANetRatingAnalysis"
   ]
  },
  {
   "cell_type": "code",
   "execution_count": 11,
   "metadata": {},
   "outputs": [],
   "source": [
    "# global variables\n",
    "%store -r playersToIds\n",
    "%store -r idsToPlayers\n",
    "%store -r datesDict\n",
    "%store -r playoffDates\n",
    "%store -r statsNBAMap\n",
    "# %store -r apd"
   ]
  },
  {
   "cell_type": "code",
   "execution_count": 3,
   "metadata": {},
   "outputs": [],
   "source": [
    "allPlayerData = {}\n",
    "errorPlayers = set()"
   ]
  },
  {
   "cell_type": "code",
   "execution_count": 12,
   "metadata": {},
   "outputs": [],
   "source": [
    "def collectPlayerData(playerName):\n",
    "    playerData = {}\n",
    "    playerData.update(NBAInjuryAnalysis.collectInjuryData(playerName))\n",
    "    print('one')\n",
    "    playerData.update(NBANetRatingAnalysis.collectNetRatings(playerName))\n",
    "    print('two')\n",
    "    playerData.update(NBAPlayerAnalysis.collectPlayerHistory(playerName))\n",
    "    print('three')\n",
    "    return playerData\n",
    "\n",
    "def do2020_250():\n",
    "    url = \"https://www.basketball-reference.com/leagues/NBA_2020_totals.html\"\n",
    "    html = urlopen(url)\n",
    "    soup = BeautifulSoup(html, features=\"lxml\")\n",
    "    players = soup.find('tbody').findAll('tr')\n",
    "    for i in range(250, 300):\n",
    "        player = players[i]\n",
    "        if player['class'] == [\"thead\"]:\n",
    "            continue\n",
    "        playerName = player.find('a').text\n",
    "        \n",
    "        if playerName not in allPlayerData:\n",
    "            print(playerName)\n",
    "            try:\n",
    "                playerData = collectPlayerData(playerName)\n",
    "                allPlayerData[playerName] = playerData\n",
    "            except KeyboardInterrupt:\n",
    "                print('keyboard interrupt')\n",
    "                break\n",
    "            except Exception as e:\n",
    "                print(\"error:\", playerName)\n",
    "                print(e)\n",
    "        \n",
    "        "
   ]
  },
  {
   "cell_type": "code",
   "execution_count": 15,
   "metadata": {},
   "outputs": [
    {
     "name": "stdout",
     "output_type": "stream",
     "text": [
      "George Hill\n",
      "one\n",
      "two\n",
      "three\n",
      "Jrue Holiday\n",
      "one\n",
      "two\n",
      "three\n",
      "William Howard\n",
      "one\n",
      "two\n",
      "three\n",
      "Kevin Huerter\n",
      "one\n",
      "two\n",
      "three\n"
     ]
    }
   ],
   "source": [
    "do2020_250()"
   ]
  },
  {
   "cell_type": "code",
   "execution_count": 16,
   "metadata": {},
   "outputs": [
    {
     "name": "stdout",
     "output_type": "stream",
     "text": [
      "dict_keys(['Devon Hall', 'Donta Hall', 'Dusty Hannahs', 'Tim Hardaway Jr.', 'Maurice Harkless', 'Jared Harper', 'Montrezl Harrell', 'Gary Harris', 'Joe Harris', 'Tobias Harris', 'Shaquille Harrison', 'Josh Hart', 'Isaiah Hartenstein', 'Udonis Haslem', 'Jaxson Hayes', 'James Harden', 'Gordon Hayward', 'John Henson', 'Dewan Hernandez', 'Juan Hernangómez', 'Willy Hernangómez', 'Tyler Herro', 'Kevin Hervey', 'Mario Hezonja', 'Buddy Hield', 'Solomon Hill', 'Jaylen Hoard', 'Aaron Holiday', 'Justin Holiday', 'Rondae Hollis-Jefferson', 'Richaun Holmes', 'Rodney Hood', 'Al Horford', 'Talen Horton-Tucker', 'Danuel House', 'Dwight Howard', 'George Hill', 'Jrue Holiday', 'William Howard', 'Kevin Huerter'])\n"
     ]
    }
   ],
   "source": [
    "print(allPlayerData.keys())"
   ]
  },
  {
   "cell_type": "code",
   "execution_count": 17,
   "metadata": {},
   "outputs": [],
   "source": [
    "w = csv.writer(open(\"250output.csv\", \"w\"))\n",
    "for key, val in allPlayerData.items():\n",
    "    w.writerow([key, val])"
   ]
  },
  {
   "cell_type": "code",
   "execution_count": 18,
   "metadata": {},
   "outputs": [
    {
     "data": {
      "text/plain": [
       "dict_keys(['Devon Hall', 'Donta Hall', 'Dusty Hannahs', 'Tim Hardaway Jr.', 'Maurice Harkless', 'Jared Harper', 'Montrezl Harrell', 'Gary Harris', 'Joe Harris', 'Tobias Harris', 'Shaquille Harrison', 'Josh Hart', 'Isaiah Hartenstein', 'Udonis Haslem', 'Jaxson Hayes', 'James Harden', 'Gordon Hayward', 'John Henson', 'Dewan Hernandez', 'Juan Hernangómez', 'Willy Hernangómez', 'Tyler Herro', 'Kevin Hervey', 'Mario Hezonja', 'Buddy Hield', 'Solomon Hill', 'Jaylen Hoard', 'Aaron Holiday', 'Justin Holiday', 'Rondae Hollis-Jefferson', 'Richaun Holmes', 'Rodney Hood', 'Al Horford', 'Talen Horton-Tucker', 'Danuel House', 'Dwight Howard', 'George Hill', 'Jrue Holiday'])"
      ]
     },
     "execution_count": 18,
     "metadata": {},
     "output_type": "execute_result"
    }
   ],
   "source": [
    "with open('250output.csv', mode='r') as infile:\n",
    "    reader = csv.reader(infile)\n",
    "    with open('250reader.csv', mode='w') as outfile:\n",
    "        writer = csv.writer(outfile)\n",
    "        mydict = {rows[0]:rows[1] for rows in reader}\n",
    "\n",
    "for name in mydict:\n",
    "    val = mydict[name]\n",
    "    mydict[name] = eval(val)\n",
    "\n",
    "allPlayerData = mydict\n",
    "allPlayerData.keys()"
   ]
  },
  {
   "cell_type": "code",
   "execution_count": null,
   "metadata": {},
   "outputs": [],
   "source": []
  },
  {
   "cell_type": "code",
   "execution_count": null,
   "metadata": {},
   "outputs": [],
   "source": []
  }
 ],
 "metadata": {
  "kernelspec": {
   "display_name": "Python 3",
   "language": "python",
   "name": "python3"
  },
  "language_info": {
   "codemirror_mode": {
    "name": "ipython",
    "version": 3
   },
   "file_extension": ".py",
   "mimetype": "text/x-python",
   "name": "python",
   "nbconvert_exporter": "python",
   "pygments_lexer": "ipython3",
   "version": "3.7.6"
  }
 },
 "nbformat": 4,
 "nbformat_minor": 4
}
