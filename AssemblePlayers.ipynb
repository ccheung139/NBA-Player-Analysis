{
 "cells": [
  {
   "cell_type": "code",
   "execution_count": 8,
   "metadata": {},
   "outputs": [],
   "source": [
    "import string\n",
    "import datetime\n",
    "import time\n",
    "import csv\n",
    "import ast"
   ]
  },
  {
   "cell_type": "code",
   "execution_count": 9,
   "metadata": {},
   "outputs": [
    {
     "name": "stdout",
     "output_type": "stream",
     "text": [
      "141\n"
     ]
    },
    {
     "data": {
      "text/plain": [
       "dict_keys(['Álex Abrines', 'Quincy Acy', 'Jaylen Adams', 'Deng Adel', 'DeVaughn Akoon-Purcell', 'Rawle Alkins', 'Ike Anigbogu', 'Ron Baker', 'Wade Baldwin', 'Jerryd Bayless', 'Michael Beasley', 'Dairis Bertāns', 'Antonio Blakeney', 'Jaron Blossomgame', 'Andrew Bogut', 'Corey Brewer', 'Isaiah Briscoe', 'MarShon Brooks', 'Lorenzo Brown', 'José Calderón', 'Isaiah Canaan', 'Omri Casspi', 'Troy Caupain', 'Tyler Cavanaugh', 'Ian Clark', 'Darren Collison', 'Bonzie Colson', 'DeMarcus Cousins', 'Jamal Crawford', 'Mitch Creek', 'Dante Cunningham', 'Deyonta Davis', 'Tyler Davis', 'Sam Dekker', 'Ángel Delgado', 'Luol Deng', 'Marcus Derrickson', 'Tyler Dorsey', 'Kevin Durant', 'Trevon Duval', 'Vince Edwards', 'Jawun Evans', 'Tyreke Evans', 'Kenneth Faried', 'Raymond Felton', 'Jimmer Fredette', 'Channing Frye', 'Billy Garrett', 'Pau Gasol', 'Marcin Gortat', 'Jerian Grant', 'Donte Grantham', 'Gerald Green', 'Daniel Hamilton', 'Devin Harris', 'Andrew Harrison', 'Isaiah Hicks', 'Haywood Highsmith', 'Isaac Humphries', 'R.J. Hunter', 'Andre Ingram', 'Demetrius Jackson', 'John Jenkins', 'Jonas Jerebko', 'Amir Johnson', 'Wesley Johnson', 'Jalen Jones', 'Jemerrio Jones', 'George King', 'Kosta Koufos', 'Nenê', 'John Holland', 'Terrence Jones', 'Walt Lemon Jr.', 'Jon Leuer', 'Jeremy Lin', 'Shaun Livingston', 'Zach Lofton', 'Jordan Loyd', 'Kalin Lucas', 'Tyler Lydon', 'Scott Machado', 'Shelvin Mack', 'Jarell Martin', 'Yante Maten', 'Luc Mbah a Moute', 'Tahjere McCall', 'Jodie Meeks', 'Salah Mejri', 'Darius Miller', 'Nikola Mirotić', 'Greg Monroe', 'Eric Moreland', 'Jaylen Morris', 'Donatas Motiejūnas', 'Joakim Noah', 'James Nunnally', 'Jusuf Nurkić', 'Zaza Pachulia', 'Tony Parker', 'Cameron Payne', 'Miles Plumlee', 'Quincy Pondexter', 'Alex Poythress', 'Zhou Qi', 'Ivan Rabb', 'Davon Reed', 'Cameron Reynolds', 'Malachi Richardson', 'Devin Robinson', 'Brandon Sampson', 'Dirk Nowitzki', 'Wayne Selden', 'Jordan Sibert', 'Jonathon Simmons', 'Kobi Simmons', 'J.R. Smith', 'Jason Smith', 'Ray Spalding', 'Nik Stauskas', 'D.J. Stephens', 'Lance Stephenson', 'Miloš Teodosić', 'Jared Terrell', 'Emanuel Terry', 'Lance Thomas', 'Klay Thompson', 'Sindarius Thornwell', 'Ekpe Udoh', 'Tyler Ulis', 'Dwyane Wade', 'John Wall', 'Julian Washburn', 'Thomas Welsh', 'Okaro White', 'Alan Williams', 'C.J. Williams', 'Troy Williams', 'Guerschon Yabusele', 'Tyler Zeller', 'Nick Young'])"
      ]
     },
     "execution_count": 9,
     "metadata": {},
     "output_type": "execute_result"
    }
   ],
   "source": [
    "allPlayerData = {}\n",
    "\n",
    "for i in range(0, 701, 100):\n",
    "    with open(str(i) + 'output.csv', mode='r') as infile:\n",
    "        reader = csv.reader(infile)\n",
    "        with open(str(i) + 'reader.csv', mode='w') as outfile:\n",
    "            writer = csv.writer(outfile)\n",
    "            mydict = {rows[0]:rows[1] for rows in reader}\n",
    "\n",
    "    for name in mydict:\n",
    "        val = mydict[name]\n",
    "        mydict[name] = eval(val)\n",
    "\n",
    "    allPlayerData.update(mydict)\n",
    "\n",
    "print(len(allPlayerData))\n",
    "allPlayerData.keys()"
   ]
  },
  {
   "cell_type": "code",
   "execution_count": 12,
   "metadata": {},
   "outputs": [],
   "source": [
    "# w = csv.writer(open(\"2018-19players.csv\", \"w\"))\n",
    "# for key, val in allPlayerData.items():\n",
    "#     w.writerow([key, val])"
   ]
  },
  {
   "cell_type": "code",
   "execution_count": null,
   "metadata": {},
   "outputs": [],
   "source": []
  }
 ],
 "metadata": {
  "kernelspec": {
   "display_name": "Python 3",
   "language": "python",
   "name": "python3"
  },
  "language_info": {
   "codemirror_mode": {
    "name": "ipython",
    "version": 3
   },
   "file_extension": ".py",
   "mimetype": "text/x-python",
   "name": "python",
   "nbconvert_exporter": "python",
   "pygments_lexer": "ipython3",
   "version": "3.7.6"
  }
 },
 "nbformat": 4,
 "nbformat_minor": 4
}
