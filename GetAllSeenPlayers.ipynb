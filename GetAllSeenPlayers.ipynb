{
 "cells": [
  {
   "cell_type": "code",
   "execution_count": 1,
   "metadata": {},
   "outputs": [],
   "source": [
    "import string\n",
    "import datetime\n",
    "import time\n",
    "import csv\n",
    "import ast"
   ]
  },
  {
   "cell_type": "code",
   "execution_count": 2,
   "metadata": {},
   "outputs": [],
   "source": [
    "def getSeason(year):\n",
    "    ret = str(year)\n",
    "    nextYear = year+1\n",
    "    ret += \"-\" + str(nextYear)[2:]\n",
    "    return ret\n",
    "\n",
    "def readCsv(year, season):\n",
    "    with open(year + '/' + season + 'players.csv', mode='r') as infile:\n",
    "        reader = csv.reader(infile)\n",
    "        with open('allplayers.csv', mode='w') as outfile:\n",
    "            writer = csv.writer(outfile)\n",
    "            mydict = {rows[0]:rows[1] for rows in reader}\n",
    "\n",
    "    for name in mydict:\n",
    "        val = mydict[name]\n",
    "        mydict[name] = eval(val)\n",
    "        \n",
    "    return mydict\n",
    "\n",
    "def getNames(year, season):\n",
    "    with open(year + '/' + season + 'players.csv', mode='r') as infile:\n",
    "        reader = csv.reader(infile)\n",
    "        with open('allplayers.csv', mode='w') as outfile:\n",
    "            writer = csv.writer(outfile)\n",
    "            mydict = {rows[0]:rows[1] for rows in reader}\n",
    "\n",
    "    return mydict.keys()"
   ]
  },
  {
   "cell_type": "code",
   "execution_count": 3,
   "metadata": {},
   "outputs": [
    {
     "name": "stdout",
     "output_type": "stream",
     "text": [
      "2014-15\n",
      "2015-16\n",
      "2016-17\n",
      "2017-18\n",
      "2018-19\n",
      "2019-20\n",
      "Stored 'allNames' (set)\n"
     ]
    }
   ],
   "source": [
    "firstYear = 2014\n",
    "allNames = set()\n",
    "\n",
    "for year in range(firstYear, 2020):\n",
    "    season = getSeason(year)\n",
    "    print(season)\n",
    "    names = getNames(str(year), season)\n",
    "    allNames.update(names)\n",
    "    \n",
    "%store allNames"
   ]
  },
  {
   "cell_type": "code",
   "execution_count": 6,
   "metadata": {},
   "outputs": [],
   "source": [
    "# allNames"
   ]
  },
  {
   "cell_type": "code",
   "execution_count": null,
   "metadata": {},
   "outputs": [],
   "source": []
  }
 ],
 "metadata": {
  "kernelspec": {
   "display_name": "Python 3",
   "language": "python",
   "name": "python3"
  },
  "language_info": {
   "codemirror_mode": {
    "name": "ipython",
    "version": 3
   },
   "file_extension": ".py",
   "mimetype": "text/x-python",
   "name": "python",
   "nbconvert_exporter": "python",
   "pygments_lexer": "ipython3",
   "version": "3.7.6"
  }
 },
 "nbformat": 4,
 "nbformat_minor": 4
}
