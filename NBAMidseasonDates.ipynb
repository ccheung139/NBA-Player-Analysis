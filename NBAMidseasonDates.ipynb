{
 "cells": [
  {
   "cell_type": "code",
   "execution_count": 1,
   "metadata": {},
   "outputs": [],
   "source": [
    "from urllib.request import urlopen\n",
    "from bs4 import BeautifulSoup\n",
    "import pandas as pd\n",
    "from selenium import webdriver\n",
    "\n",
    "import string\n",
    "import datetime"
   ]
  },
  {
   "cell_type": "code",
   "execution_count": 2,
   "metadata": {},
   "outputs": [],
   "source": [
    "def getMidseasonDates():\n",
    "    url = \"https://www.basketball-reference.com/leagues/\"\n",
    "    html = urlopen(url)\n",
    "    soup = BeautifulSoup(html)\n",
    "    \n",
    "    seasons = soup.find(id='div_stats').findAll('tr')\n",
    "    datesDict = {}\n",
    "    for i in range(2, len(seasons)):\n",
    "        season = seasons[i]\n",
    "        yearText = season.find('a').text\n",
    "        yearStr = season.find('a')['href']\n",
    "        \n",
    "        if 'NBA' not in yearStr:\n",
    "            continue\n",
    "        \n",
    "        dotInd = yearStr.index('.')\n",
    "        yearUrl = 'https://www.basketball-reference.com' + yearStr[:dotInd] + '_games' + yearStr[dotInd:]\n",
    "        \n",
    "        htmlYear = urlopen(yearUrl)\n",
    "        soupYear = BeautifulSoup(htmlYear)\n",
    "        \n",
    "        firstGame = soupYear.find(id='div_schedule').findAll('tr')[1]\n",
    "        firstDate = firstGame.find('a').text\n",
    "\n",
    "        months = soupYear.find_all(\"div\", class_=\"current\")\n",
    "        firstMonth = months[0]\n",
    "        while firstMonth.find_next_sibling('div') is not None:\n",
    "            firstMonth = firstMonth.find_next_sibling('div')\n",
    "            \n",
    "        lastMonth = firstMonth.find('a')['href'] \n",
    "        lastUrl = 'https://www.basketball-reference.com' + lastMonth\n",
    "        \n",
    "        htmlMonth = urlopen(lastUrl)\n",
    "        soupMonth = BeautifulSoup(htmlMonth)\n",
    "        \n",
    "        if soupMonth.find(id='div_schedule') is None:\n",
    "            continue # FIX LATER\n",
    "            \n",
    "        lastGame = soupMonth.find(id='div_schedule').findAll('tr')[-1]\n",
    "        lastDate = lastGame.find('a').text\n",
    "        datesDict[yearText] = [firstDate, lastDate]\n",
    "        \n",
    "    return datesDict"
   ]
  },
  {
   "cell_type": "code",
   "execution_count": 3,
   "metadata": {},
   "outputs": [
    {
     "name": "stdout",
     "output_type": "stream",
     "text": [
      "Stored 'datesDict' (dict)\n"
     ]
    }
   ],
   "source": [
    "datesDict = getMidseasonDates()\n",
    "%store datesDict"
   ]
  },
  {
   "cell_type": "code",
   "execution_count": 4,
   "metadata": {},
   "outputs": [
    {
     "data": {
      "text/plain": [
       "{'2019-20': ['Tue, Oct 22, 2019', 'Wed, Apr 15, 2020'],\n",
       " '2018-19': ['Tue, Oct 16, 2018', 'Thu, Jun 13, 2019'],\n",
       " '2017-18': ['Tue, Oct 17, 2017', 'Fri, Jun 8, 2018'],\n",
       " '2016-17': ['Tue, Oct 25, 2016', 'Mon, Jun 12, 2017'],\n",
       " '2015-16': ['Tue, Oct 27, 2015', 'Sun, Jun 19, 2016'],\n",
       " '2014-15': ['Tue, Oct 28, 2014', 'Tue, Jun 16, 2015'],\n",
       " '2013-14': ['Tue, Oct 29, 2013', 'Sun, Jun 15, 2014'],\n",
       " '2012-13': ['Tue, Oct 30, 2012', 'Thu, Jun 20, 2013'],\n",
       " '2011-12': ['Sun, Dec 25, 2011', 'Thu, Jun 21, 2012'],\n",
       " '2010-11': ['Tue, Oct 26, 2010', 'Sun, Jun 12, 2011'],\n",
       " '2009-10': ['Tue, Oct 27, 2009', 'Thu, Jun 17, 2010'],\n",
       " '2008-09': ['Tue, Oct 28, 2008', 'Sun, Jun 14, 2009'],\n",
       " '2007-08': ['Tue, Oct 30, 2007', 'Tue, Jun 17, 2008'],\n",
       " '2006-07': ['Tue, Oct 31, 2006', 'Thu, Jun 14, 2007'],\n",
       " '2005-06': ['Tue, Nov 1, 2005', 'Tue, Jun 20, 2006'],\n",
       " '2004-05': ['Tue, Nov 2, 2004', 'Thu, Jun 23, 2005'],\n",
       " '2003-04': ['Tue, Oct 28, 2003', 'Tue, Jun 15, 2004'],\n",
       " '2002-03': ['Tue, Oct 29, 2002', 'Sun, Jun 15, 2003'],\n",
       " '2001-02': ['Tue, Oct 30, 2001', 'Wed, Jun 12, 2002'],\n",
       " '2000-01': ['Tue, Oct 31, 2000', 'Fri, Jun 15, 2001'],\n",
       " '1999-00': ['Tue, Nov 2, 1999', 'Mon, Jun 19, 2000'],\n",
       " '1998-99': ['Fri, Feb 5, 1999', 'Fri, Jun 25, 1999'],\n",
       " '1997-98': ['Fri, Oct 31, 1997', 'Sun, Jun 14, 1998'],\n",
       " '1996-97': ['Fri, Nov 1, 1996', 'Fri, Jun 13, 1997'],\n",
       " '1995-96': ['Fri, Nov 3, 1995', 'Sun, Jun 16, 1996'],\n",
       " '1994-95': ['Fri, Nov 4, 1994', 'Wed, Jun 14, 1995'],\n",
       " '1993-94': ['Fri, Nov 5, 1993', 'Wed, Jun 22, 1994'],\n",
       " '1992-93': ['Fri, Nov 6, 1992', 'Sun, Jun 20, 1993'],\n",
       " '1991-92': ['Fri, Nov 1, 1991', 'Sun, Jun 14, 1992'],\n",
       " '1990-91': ['Fri, Nov 2, 1990', 'Wed, Jun 12, 1991'],\n",
       " '1989-90': ['Fri, Nov 3, 1989', 'Thu, Jun 14, 1990'],\n",
       " '1988-89': ['Fri, Nov 4, 1988', 'Tue, Jun 13, 1989'],\n",
       " '1987-88': ['Fri, Nov 6, 1987', 'Tue, Jun 21, 1988'],\n",
       " '1986-87': ['Fri, Oct 31, 1986', 'Sun, Jun 14, 1987'],\n",
       " '1985-86': ['Fri, Oct 25, 1985', 'Sun, Jun 8, 1986'],\n",
       " '1984-85': ['Fri, Oct 26, 1984', 'Sun, Jun 9, 1985'],\n",
       " '1983-84': ['Fri, Oct 28, 1983', 'Tue, Jun 12, 1984'],\n",
       " '1982-83': ['Fri, Oct 29, 1982', 'Tue, May 31, 1983'],\n",
       " '1981-82': ['Fri, Oct 30, 1981', 'Tue, Jun 8, 1982'],\n",
       " '1980-81': ['Fri, Oct 10, 1980', 'Thu, May 14, 1981'],\n",
       " '1979-80': ['Fri, Oct 12, 1979', 'Fri, May 16, 1980'],\n",
       " '1978-79': ['Fri, Oct 13, 1978', 'Fri, Jun 1, 1979'],\n",
       " '1977-78': ['Tue, Oct 18, 1977', 'Wed, Jun 7, 1978'],\n",
       " '1976-77': ['Thu, Oct 21, 1976', 'Sun, Jun 5, 1977'],\n",
       " '1975-76': ['Thu, Oct 23, 1975', 'Sun, Jun 6, 1976'],\n",
       " '1974-75': ['Thu, Oct 17, 1974', 'Sun, May 25, 1975'],\n",
       " '1973-74': ['Tue, Oct 9, 1973', 'Sun, May 12, 1974'],\n",
       " '1972-73': ['Tue, Oct 10, 1972', 'Thu, May 10, 1973'],\n",
       " '1971-72': ['Tue, Oct 12, 1971', 'Sun, May 7, 1972'],\n",
       " '1969-70': ['Tue, Oct 14, 1969', 'Fri, May 8, 1970'],\n",
       " '1968-69': ['Tue, Oct 15, 1968', 'Mon, May 5, 1969'],\n",
       " '1967-68': ['Fri, Oct 13, 1967', 'Thu, May 2, 1968'],\n",
       " '1966-67': ['Sat, Oct 15, 1966', 'Mon, Apr 24, 1967'],\n",
       " '1965-66': ['Fri, Oct 15, 1965', 'Thu, Apr 28, 1966'],\n",
       " '1964-65': ['Fri, Oct 16, 1964', 'Sun, Apr 25, 1965'],\n",
       " '1963-64': ['Wed, Oct 16, 1963', 'Sun, Apr 26, 1964'],\n",
       " '1962-63': ['Tue, Oct 16, 1962', 'Wed, Apr 24, 1963'],\n",
       " '1961-62': ['Thu, Oct 19, 1961', 'Wed, Apr 18, 1962'],\n",
       " '1960-61': ['Wed, Oct 19, 1960', 'Tue, Apr 11, 1961'],\n",
       " '1959-60': ['Sat, Oct 17, 1959', 'Sat, Apr 9, 1960'],\n",
       " '1958-59': ['Sun, Oct 19, 1958', 'Thu, Apr 9, 1959'],\n",
       " '1957-58': ['Tue, Oct 22, 1957', 'Sat, Apr 12, 1958'],\n",
       " '1956-57': ['Sat, Oct 27, 1956', 'Sat, Apr 13, 1957'],\n",
       " '1955-56': ['Sat, Nov 5, 1955', 'Sat, Apr 7, 1956'],\n",
       " '1954-55': ['Sat, Oct 30, 1954', 'Sun, Apr 10, 1955'],\n",
       " '1953-54': ['Fri, Oct 30, 1953', 'Mon, Apr 12, 1954'],\n",
       " '1952-53': ['Fri, Oct 31, 1952', 'Fri, Apr 10, 1953'],\n",
       " '1951-52': ['Thu, Nov 1, 1951', 'Fri, Apr 25, 1952'],\n",
       " '1950-51': ['Tue, Oct 31, 1950', 'Sat, Apr 21, 1951'],\n",
       " '1949-50': ['Sat, Oct 29, 1949', 'Sun, Apr 23, 1950']}"
      ]
     },
     "execution_count": 4,
     "metadata": {},
     "output_type": "execute_result"
    }
   ],
   "source": [
    "datesDict"
   ]
  },
  {
   "cell_type": "code",
   "execution_count": null,
   "metadata": {},
   "outputs": [],
   "source": []
  }
 ],
 "metadata": {
  "kernelspec": {
   "display_name": "Python 3",
   "language": "python",
   "name": "python3"
  },
  "language_info": {
   "codemirror_mode": {
    "name": "ipython",
    "version": 3
   },
   "file_extension": ".py",
   "mimetype": "text/x-python",
   "name": "python",
   "nbconvert_exporter": "python",
   "pygments_lexer": "ipython3",
   "version": "3.7.6"
  }
 },
 "nbformat": 4,
 "nbformat_minor": 2
}
