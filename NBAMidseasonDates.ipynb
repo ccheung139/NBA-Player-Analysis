{
 "cells": [
  {
   "cell_type": "code",
   "execution_count": 8,
   "metadata": {},
   "outputs": [],
   "source": [
    "from urllib.request import urlopen\n",
    "from bs4 import BeautifulSoup\n",
    "import pandas as pd\n",
    "from selenium import webdriver\n",
    "\n",
    "import string\n",
    "import datetime"
   ]
  },
  {
   "cell_type": "code",
   "execution_count": 9,
   "metadata": {},
   "outputs": [],
   "source": [
    "def getMidseasonDates():\n",
    "    url = \"https://www.basketball-reference.com/leagues/\"\n",
    "    html = urlopen(url)\n",
    "    soup = BeautifulSoup(html)\n",
    "    \n",
    "    seasons = soup.find(id='div_stats').findAll('tr')\n",
    "    datesDict = {}\n",
    "    for i in range(2, len(seasons)):\n",
    "        season = seasons[i]\n",
    "        yearText = season.find('a').text\n",
    "        yearStr = season.find('a')['href']\n",
    "        \n",
    "        if 'NBA' not in yearStr:\n",
    "            continue\n",
    "        \n",
    "        dotInd = yearStr.index('.')\n",
    "        yearUrl = 'https://www.basketball-reference.com' + yearStr[:dotInd] + '_games' + yearStr[dotInd:]\n",
    "        \n",
    "        htmlYear = urlopen(yearUrl)\n",
    "        soupYear = BeautifulSoup(htmlYear)\n",
    "        \n",
    "        firstGame = soupYear.find(id='div_schedule').findAll('tr')[1]\n",
    "        firstDate = firstGame.find('a').text\n",
    "\n",
    "        months = soupYear.find_all(\"div\", class_=\"current\")\n",
    "        firstMonth = months[0]\n",
    "        while firstMonth.find_next_sibling('div') is not None:\n",
    "            firstMonth = firstMonth.find_next_sibling('div')\n",
    "            \n",
    "        lastMonth = firstMonth.find('a')['href'] \n",
    "        lastUrl = 'https://www.basketball-reference.com' + lastMonth\n",
    "        \n",
    "        htmlMonth = urlopen(lastUrl)\n",
    "        soupMonth = BeautifulSoup(htmlMonth)\n",
    "        \n",
    "        if soupMonth.find(id='div_schedule') is None:\n",
    "            continue # FIX LATER\n",
    "            \n",
    "        lastGame = soupMonth.find(id='div_schedule').findAll('tr')[-1]\n",
    "        lastDate = lastGame.find('a').text\n",
    "        datesDict[yearText] = [firstDate, lastDate]\n",
    "        \n",
    "    return datesDict"
   ]
  },
  {
   "cell_type": "code",
   "execution_count": 10,
   "metadata": {},
   "outputs": [
    {
     "name": "stdout",
     "output_type": "stream",
     "text": [
      "Stored 'datesDict' (dict)\n"
     ]
    }
   ],
   "source": [
    "datesDict = getMidseasonDates()\n",
    "%store datesDict"
   ]
  },
  {
   "cell_type": "code",
   "execution_count": null,
   "metadata": {},
   "outputs": [],
   "source": []
  }
 ],
 "metadata": {
  "kernelspec": {
   "display_name": "Python 3",
   "language": "python",
   "name": "python3"
  },
  "language_info": {
   "codemirror_mode": {
    "name": "ipython",
    "version": 3
   },
   "file_extension": ".py",
   "mimetype": "text/x-python",
   "name": "python",
   "nbconvert_exporter": "python",
   "pygments_lexer": "ipython3",
   "version": "3.7.4"
  }
 },
 "nbformat": 4,
 "nbformat_minor": 2
}
