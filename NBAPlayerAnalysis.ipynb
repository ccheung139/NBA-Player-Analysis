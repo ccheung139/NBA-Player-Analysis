{
 "cells": [
  {
   "cell_type": "code",
   "execution_count": 1,
   "metadata": {},
   "outputs": [],
   "source": [
    "from urllib.request import urlopen\n",
    "from bs4 import BeautifulSoup\n",
    "import pandas as pd\n",
    "from selenium import webdriver\n",
    "\n",
    "import string\n",
    "import datetime"
   ]
  },
  {
   "cell_type": "code",
   "execution_count": 2,
   "metadata": {},
   "outputs": [],
   "source": [
    "# global variables\n",
    "%store -r playersToIds\n",
    "%store -r idsToPlayers\n",
    "%store -r datesDict\n",
    "%store -r statsNBAMap"
   ]
  },
  {
   "cell_type": "code",
   "execution_count": 3,
   "metadata": {},
   "outputs": [],
   "source": [
    "###### WHO HAS A PLAYER PLAYED WITH, AND FOR HOW LONG? #########\n",
    "def findTotalSharedTimes(playerName):\n",
    "    playerId = playersToIds[playerName]\n",
    "    url = getMainPlayerURL(playerId)\n",
    "    \n",
    "    html = urlopen(url)\n",
    "    soup = BeautifulSoup(html)\n",
    "    \n",
    "    sharedTimes = {}\n",
    "    seenYears = set()\n",
    "    lineups = soup.find(id='inner_nav').findAll('a')\n",
    "    for row in lineups:\n",
    "        if 'lineups' in row['href']:\n",
    "            if row['href'] in seenYears: # repeats in HTML\n",
    "                break\n",
    "            seenYears.add(row['href'])\n",
    "            yearUrl = \"https://www.basketball-reference.com\" + row['href']\n",
    "            print(\"loading JavaScript: \", yearUrl)\n",
    "            yearTeammates = findSharedCourtTimes(playerId, yearUrl)\n",
    "            for teammate in yearTeammates:\n",
    "                timeStr = yearTeammates[teammate]\n",
    "                colon = timeStr.index(':')\n",
    "                timeShared = datetime.timedelta(seconds=60*int(timeStr[:colon]) + int(timeStr[colon+1:]))\n",
    "                if teammate in sharedTimes:\n",
    "                    sharedTimes[teammate] += timeShared\n",
    "                else:\n",
    "                    sharedTimes[teammate] = timeShared\n",
    "    return sharedTimes\n",
    "\n",
    "def findSharedCourtTimes(playerId, url):\n",
    "    options = setupHeadlessChrome()\n",
    "    \n",
    "    driver = webdriver.Chrome(options=options) # used to view generated JavaScript\n",
    "    driver.get(url)\n",
    "    sharedTimes = {}\n",
    "    \n",
    "    html = driver.page_source\n",
    "    twoMan = driver.find_element_by_id(\"div_lineups-2-man\")\n",
    "    table = twoMan.find_elements_by_tag_name('tr')\n",
    "    \n",
    "    totalRows = len(table)\n",
    "    for index in range(2, totalRows-1):\n",
    "        row = table[index]\n",
    "        elems = row.find_elements_by_tag_name('td')\n",
    "        players = elems[0].get_attribute('csk')\n",
    "        minutes = elems[2].get_attribute('csk')\n",
    "\n",
    "        colon = players.index(\":\")\n",
    "        firstTeammate = players[:colon]\n",
    "        secondTeammate = players[colon+1:]\n",
    "\n",
    "        teammate = firstTeammate if playerId == secondTeammate else secondTeammate\n",
    "        sharedTimes[idsToPlayers[teammate]] = minutes\n",
    "    return sharedTimes\n",
    "\n",
    "################# Find all dates that a player has been traded, including in-season trades #######################\n",
    "def getTrades(playerName):\n",
    "    playerId = playersToIds[playerName]\n",
    "    url = getMainPlayerURL(playerId)\n",
    "    \n",
    "    options = setupHeadlessChrome()\n",
    "    driver = webdriver.Chrome(options=options) # used to view generated JavaScript\n",
    "    driver.get(url)\n",
    "    \n",
    "    html = driver.page_source\n",
    "    transactions = driver.find_element_by_id(\"div_transactions\")\n",
    "    \n",
    "    transList = transactions.find_elements_by_tag_name('span')\n",
    "    tradeDates = []\n",
    "    inSeasonTradeDates = []\n",
    "    for transaction in transList:\n",
    "        text = transaction.get_attribute('innerText')\n",
    "        colon = text.index(':')\n",
    "        dateStr = text[:colon]\n",
    "        description = text[colon+1:]\n",
    "        if 'trade' in description or 'Trade' in description: # not yet strong enough\n",
    "            \n",
    "            date = datetime.datetime.strptime(dateStr, '%B %d, %Y')\n",
    "            tradeDates.append(date)\n",
    "            potentialYears = getPotentialTradeYears(date.year)\n",
    "        \n",
    "            outOfSeason = True\n",
    "            if potentialYears[0] in datesDict:\n",
    "                firstDates = datesDict[potentialYears[0]]\n",
    "                firstStart = datetime.datetime.strptime(firstDates[0], '%a, %b %d, %Y')\n",
    "                firstEnd = datetime.datetime.strptime(firstDates[1], '%a, %b %d, %Y')\n",
    "                if date >= firstStart and date <= firstEnd:\n",
    "                    outOfSeason = False\n",
    "            \n",
    "            if potentialYears[1] in datesDict:\n",
    "                lastDates = datesDict[potentialYears[1]]\n",
    "                lastStart = datetime.datetime.strptime(lastDates[0], '%a, %b %d, %Y')\n",
    "                lastEnd = datetime.datetime.strptime(lastDates[1], '%a, %b %d, %Y')\n",
    "                if date >= lastStart and date <= lastEnd:\n",
    "                    outOfSeason = False\n",
    "                    \n",
    "            if not outOfSeason:\n",
    "                inSeasonTradeDates.append(date)\n",
    "            \n",
    "    return tradeDates, inSeasonTradeDates\n",
    "    \n",
    "def getPotentialTradeYears(year):\n",
    "    options = []\n",
    "    options.append(str(year-1) + '-' + str(year)[2:])\n",
    "    options.append(str(year) + '-' + str((year+1))[2:])\n",
    "    return options\n",
    "\n",
    "######## FIND ALL TEAMS AN NBA PLAYER HAS PLAYED FOR ##########\n",
    "def getTeams(playerName):\n",
    "    playerId = playersToIds[playerName]\n",
    "    url = getMainPlayerURL(playerId)\n",
    "    \n",
    "    html = urlopen(url)\n",
    "    soup = BeautifulSoup(html)\n",
    "    seasons = soup.findAll('tr')\n",
    "    teams = []\n",
    "    for i in range(1, len(seasons)):\n",
    "        season = seasons[i]\n",
    "        if season.th:\n",
    "            if season.th.getText() == \"Career\": # career table starts\n",
    "                break\n",
    "        else: # did not play this season\n",
    "            continue\n",
    "        teamName = season.findAll('td')[1].getText()\n",
    "        if teamName != \"TOT\": # traded in the middle of a season\n",
    "            teams.append(teamName)\n",
    "    return teams\n",
    "\n",
    "######## FIND FRACTION OF POSITIONS PLAYER HAS PLAYED IN CAREER ##########\n",
    "def findPositionRatios(playerName):\n",
    "    playerId = playersToIds[playerName]\n",
    "    url = getMainPlayerURL(playerId)\n",
    "\n",
    "    options = setupHeadlessChrome()\n",
    "    driver = webdriver.Chrome(options=options) # used to view generated JavaScript\n",
    "    driver.get(url)\n",
    "\n",
    "    html = driver.page_source\n",
    "    pbp = driver.find_element_by_id(\"div_pbp\")\n",
    "    table = pbp.find_elements_by_tag_name('tr')\n",
    "\n",
    "    for i in range(2, len(table)): # first two rows set up table\n",
    "        season = table[i]\n",
    "        stats = season.find_elements_by_tag_name('td')\n",
    "        if stats[0].text == \"\": # stats[0] is age, so an empty string means \"Career\" row\n",
    "            ratio = {}\n",
    "            for row in stats:\n",
    "                stat = row.get_attribute('data-stat')\n",
    "                if 'pct' in stat:\n",
    "                    ratio[stat[-1]] = float(row.text.strip('%'))/100 if row.text != \"\" else 0.0\n",
    "            return ratio\n",
    "        \n",
    "################# Find +/- stats for a player's individual playing years, and career ######################\n",
    "def getPlusMinus(playerName):\n",
    "    playerId = playersToIds[playerName]\n",
    "    url = getMainPlayerURL(playerId)\n",
    "    options = setupHeadlessChrome()\n",
    "    \n",
    "    driver = webdriver.Chrome(options=options) # used to view generated JavaScript\n",
    "    driver.get(url)\n",
    "    \n",
    "    html = driver.page_source\n",
    "    pbp = driver.find_element_by_id(\"div_pbp\")\n",
    "    table = pbp.find_elements_by_tag_name('tr')\n",
    "\n",
    "    plusMinusDict = {}\n",
    "    for i in range(2, len(table)): # first two rows set up table\n",
    "        season = table[i]\n",
    "        stats = season.find_elements_by_tag_name('td')\n",
    "        \n",
    "        year = season.find_element_by_tag_name('a').text if stats[0].text != \"\" else \"Career\"\n",
    "        onCourt = stats[11].get_attribute('innerText')\n",
    "        onOff = stats[12].get_attribute('innerText')\n",
    "        plusMinusDict[year] = [onCourt, onOff]\n",
    "        \n",
    "        if stats[0].text == \"\":\n",
    "            return plusMinusDict\n",
    "\n",
    "############### For a player, find all streaks that player has gone on, for both points and assists #################\n",
    "def findStreaks(playerName):\n",
    "    playerId = playersToIds[playerName]\n",
    "    url = getMainPlayerURL(playerId)\n",
    "    \n",
    "    html = urlopen(url)\n",
    "    soup = BeautifulSoup(html)\n",
    "    seasons = soup.findAll('tr')\n",
    "    \n",
    "    ptsStreakDict = {}\n",
    "    astStreakDict = {}\n",
    "    for i in range(1, len(seasons)):\n",
    "        season = seasons[i]\n",
    "        if season.th:\n",
    "            if season.th.getText() == \"Career\": # career table starts\n",
    "                break\n",
    "        else: # did not play this season\n",
    "            continue\n",
    "        yearStr = season['id']\n",
    "        colon = yearStr.index('.')\n",
    "        year = yearStr[colon+1:]\n",
    "        teamId = season.findAll('a')[1].text\n",
    "        teamId = streakFindingTeam(teamId)\n",
    "        \n",
    "        if teamId == 'NBA':\n",
    "            continue\n",
    "        \n",
    "        ptsStreaks = getStreakData(playerId, year, teamId, True, 20) # streaks over 20 points\n",
    "        ptsStreakDict[year] = ptsStreaks\n",
    "        \n",
    "        astStreaks = getStreakData(playerId, year, teamId, False, 5) # streaks over 5 assists\n",
    "        astStreakDict[year] = astStreaks\n",
    "    return ptsStreakDict, astStreakDict\n",
    "        \n",
    "def getStreakData(playerId, year, teamId, isPts, value):\n",
    "    url = \"https://www.basketball-reference.com/play-index/pstreak.cgi?\" \\\n",
    "        + \"request=1&year_min={}&year_max={}&team_id={}&\" \\\n",
    "        + \"season_start=1&season_end=-1&c1stat={}&c1comp=ge&\" \\\n",
    "        + \"c1val={}\"\n",
    "    url = url.format(year, year, teamId, 'pts' if isPts else 'ast', value)\n",
    "    print(url)\n",
    "    \n",
    "    html = urlopen(url)\n",
    "    soup = BeautifulSoup(html)\n",
    "    \n",
    "    playerStreaks = []\n",
    "    streaks = soup.findAll('tr')\n",
    "    for i in range(1, len(streaks)):\n",
    "        streak = streaks[i]\n",
    "        if streak.find('td') is not None:\n",
    "            nextId = streak.find('td')['data-append-csv']\n",
    "            if playerId == nextId:\n",
    "                startDate = streak.findAll('a')[1].text\n",
    "                endDate = streak.findAll('a')[2].text\n",
    "                streakLength = streak.findAll('td')[-1].text\n",
    "                \n",
    "                playerStreaks.append([startDate, endDate, streakLength])\n",
    "    return playerStreaks\n",
    "\n",
    "######## Parse Basketball Reference URL for Player's Main Page ##########\n",
    "def getMainPlayerURL(playerId):\n",
    "    return \"https://www.basketball-reference.com/players/{}/{}.html\".format(playerId[0], playerId)\n",
    "\n",
    "# Helper for team exceptions, some teams have inconsistent team IDs\n",
    "def streakFindingTeam(team):\n",
    "    if team == 'BRK':\n",
    "        return 'NJN'\n",
    "    else:\n",
    "        return team\n",
    "\n",
    "def setupHeadlessChrome():\n",
    "    options = webdriver.ChromeOptions() # don't open URL window\n",
    "    options.add_argument('--headless')\n",
    "    prefs = {\"profile.managed_default_content_settings.images\": 2, 'disk-cache-size': 4096 }\n",
    "    options.add_experimental_option(\"prefs\", prefs)\n",
    "    return options"
   ]
  },
  {
   "cell_type": "code",
   "execution_count": 4,
   "metadata": {
    "scrolled": false
   },
   "outputs": [],
   "source": [
    "playerName = \"D'Angelo Russell\""
   ]
  },
  {
   "cell_type": "code",
   "execution_count": 5,
   "metadata": {},
   "outputs": [
    {
     "name": "stdout",
     "output_type": "stream",
     "text": [
      "loading JavaScript:  https://www.basketball-reference.com/players/r/russeda01/lineups/2016\n",
      "loading JavaScript:  https://www.basketball-reference.com/players/r/russeda01/lineups/2017\n",
      "loading JavaScript:  https://www.basketball-reference.com/players/r/russeda01/lineups/2018\n",
      "loading JavaScript:  https://www.basketball-reference.com/players/r/russeda01/lineups/2019\n",
      "loading JavaScript:  https://www.basketball-reference.com/players/r/russeda01/lineups/2020\n"
     ]
    },
    {
     "data": {
      "text/plain": [
       "{'Julius Randle': datetime.timedelta(days=2, seconds=9888),\n",
       " 'Jordan Clarkson': datetime.timedelta(days=1, seconds=35207),\n",
       " 'Kobe Bryant': datetime.timedelta(seconds=67787),\n",
       " 'Roy Hibbert': datetime.timedelta(seconds=67197),\n",
       " 'Brandon Bass': datetime.timedelta(seconds=45172),\n",
       " 'Lou Williams': datetime.timedelta(seconds=44161),\n",
       " 'Nick Young': datetime.timedelta(days=1, seconds=10368),\n",
       " 'Larry Nance': datetime.timedelta(seconds=51295),\n",
       " 'Marcelo Huertas': datetime.timedelta(seconds=18898),\n",
       " 'Anthony Brown': datetime.timedelta(seconds=18119),\n",
       " 'Brandon Ingram': datetime.timedelta(seconds=51881),\n",
       " 'Luol Deng': datetime.timedelta(seconds=43759),\n",
       " 'Timofey Mozgov': datetime.timedelta(seconds=47789),\n",
       " 'Tarik Black': datetime.timedelta(seconds=22190),\n",
       " 'Ivica Zubac': datetime.timedelta(seconds=15579),\n",
       " 'Allen Crabbe': datetime.timedelta(seconds=76482),\n",
       " 'DeMarre Carroll': datetime.timedelta(days=1, seconds=8799),\n",
       " 'Rondae Hollis-Jefferson': datetime.timedelta(seconds=77509),\n",
       " 'Jarrett Allen': datetime.timedelta(days=1, seconds=37943),\n",
       " 'Caris LeVert': datetime.timedelta(seconds=68720),\n",
       " 'Joe Harris': datetime.timedelta(days=1, seconds=31980),\n",
       " 'Spencer Dinwiddie': datetime.timedelta(seconds=66265),\n",
       " 'Quincy Acy': datetime.timedelta(seconds=17068),\n",
       " 'Dante Cunningham': datetime.timedelta(seconds=12179),\n",
       " 'Rodions Kurucs': datetime.timedelta(seconds=49536),\n",
       " 'Jared Dudley': datetime.timedelta(seconds=46772),\n",
       " 'Ed Davis': datetime.timedelta(seconds=43397),\n",
       " 'Glenn Robinson': datetime.timedelta(seconds=42208),\n",
       " 'Draymond Green': datetime.timedelta(seconds=37716),\n",
       " 'Willie Cauley-Stein': datetime.timedelta(seconds=29446),\n",
       " 'Damion Lee': datetime.timedelta(seconds=27762),\n",
       " 'Alec Burks': datetime.timedelta(seconds=26585),\n",
       " 'Eric Paschall': datetime.timedelta(seconds=24405),\n",
       " 'Marquese Chriss': datetime.timedelta(seconds=17434),\n",
       " 'Jordan Poole': datetime.timedelta(seconds=16747),\n",
       " 'Omari Spellman': datetime.timedelta(seconds=15390),\n",
       " 'Malik Beasley': datetime.timedelta(seconds=9576)}"
      ]
     },
     "execution_count": 5,
     "metadata": {},
     "output_type": "execute_result"
    }
   ],
   "source": [
    "findTotalSharedTimes(playerName)"
   ]
  },
  {
   "cell_type": "code",
   "execution_count": 6,
   "metadata": {},
   "outputs": [
    {
     "data": {
      "text/plain": [
       "['LAL', 'LAL', 'BRK', 'BRK', 'GSW', 'MIN']"
      ]
     },
     "execution_count": 6,
     "metadata": {},
     "output_type": "execute_result"
    }
   ],
   "source": [
    "getTeams(playerName)"
   ]
  },
  {
   "cell_type": "code",
   "execution_count": 7,
   "metadata": {},
   "outputs": [
    {
     "data": {
      "text/plain": [
       "{'1': 0.9, '2': 0.1, '3': 0.0, '4': 0.0, '5': 0.0}"
      ]
     },
     "execution_count": 7,
     "metadata": {},
     "output_type": "execute_result"
    }
   ],
   "source": [
    "findPositionRatios(playerName)"
   ]
  },
  {
   "cell_type": "code",
   "execution_count": 8,
   "metadata": {},
   "outputs": [
    {
     "data": {
      "text/plain": [
       "([datetime.datetime(2017, 6, 22, 0, 0),\n",
       "  datetime.datetime(2019, 7, 7, 0, 0),\n",
       "  datetime.datetime(2020, 2, 6, 0, 0)],\n",
       " [datetime.datetime(2020, 2, 6, 0, 0)])"
      ]
     },
     "execution_count": 8,
     "metadata": {},
     "output_type": "execute_result"
    }
   ],
   "source": [
    "getTrades(playerName)"
   ]
  },
  {
   "cell_type": "code",
   "execution_count": 9,
   "metadata": {},
   "outputs": [
    {
     "data": {
      "text/plain": [
       "{'2015-16': ['-12.5', '-5.2'],\n",
       " '2016-17': ['-9.7', '-4.7'],\n",
       " '2017-18': ['-7.3', '-4.9'],\n",
       " '2018-19': ['+0.1', '+0.7'],\n",
       " '2019-20': ['-5.6', '-1.3'],\n",
       " 'Career': ['-7.4', '-3.2']}"
      ]
     },
     "execution_count": 9,
     "metadata": {},
     "output_type": "execute_result"
    }
   ],
   "source": [
    "getPlusMinus(playerName)"
   ]
  },
  {
   "cell_type": "code",
   "execution_count": 10,
   "metadata": {},
   "outputs": [
    {
     "name": "stdout",
     "output_type": "stream",
     "text": [
      "https://www.basketball-reference.com/play-index/pstreak.cgi?request=1&year_min=2016&year_max=2016&team_id=LAL&season_start=1&season_end=-1&c1stat=pts&c1comp=ge&c1val=20\n",
      "https://www.basketball-reference.com/play-index/pstreak.cgi?request=1&year_min=2016&year_max=2016&team_id=LAL&season_start=1&season_end=-1&c1stat=ast&c1comp=ge&c1val=5\n",
      "https://www.basketball-reference.com/play-index/pstreak.cgi?request=1&year_min=2017&year_max=2017&team_id=LAL&season_start=1&season_end=-1&c1stat=pts&c1comp=ge&c1val=20\n",
      "https://www.basketball-reference.com/play-index/pstreak.cgi?request=1&year_min=2017&year_max=2017&team_id=LAL&season_start=1&season_end=-1&c1stat=ast&c1comp=ge&c1val=5\n",
      "https://www.basketball-reference.com/play-index/pstreak.cgi?request=1&year_min=2018&year_max=2018&team_id=NJN&season_start=1&season_end=-1&c1stat=pts&c1comp=ge&c1val=20\n",
      "https://www.basketball-reference.com/play-index/pstreak.cgi?request=1&year_min=2018&year_max=2018&team_id=NJN&season_start=1&season_end=-1&c1stat=ast&c1comp=ge&c1val=5\n",
      "https://www.basketball-reference.com/play-index/pstreak.cgi?request=1&year_min=2019&year_max=2019&team_id=NJN&season_start=1&season_end=-1&c1stat=pts&c1comp=ge&c1val=20\n",
      "https://www.basketball-reference.com/play-index/pstreak.cgi?request=1&year_min=2019&year_max=2019&team_id=NJN&season_start=1&season_end=-1&c1stat=ast&c1comp=ge&c1val=5\n",
      "https://www.basketball-reference.com/play-index/pstreak.cgi?request=1&year_min=2020&year_max=2020&team_id=GSW&season_start=1&season_end=-1&c1stat=pts&c1comp=ge&c1val=20\n",
      "https://www.basketball-reference.com/play-index/pstreak.cgi?request=1&year_min=2020&year_max=2020&team_id=GSW&season_start=1&season_end=-1&c1stat=ast&c1comp=ge&c1val=5\n",
      "https://www.basketball-reference.com/play-index/pstreak.cgi?request=1&year_min=2020&year_max=2020&team_id=MIN&season_start=1&season_end=-1&c1stat=pts&c1comp=ge&c1val=20\n",
      "https://www.basketball-reference.com/play-index/pstreak.cgi?request=1&year_min=2020&year_max=2020&team_id=MIN&season_start=1&season_end=-1&c1stat=ast&c1comp=ge&c1val=5\n",
      "Points streaks:  {'2016': [['2016-02-24', '2016-03-02', '4'], ['2016-03-06', '2016-03-10', '3'], ['2015-12-09', '2015-12-11', '2']], '2017': [['2017-02-15', '2017-02-24', '2'], ['2017-03-07', '2017-03-09', '2'], ['2017-03-26', '2017-03-28', '2']], '2018': [['2018-03-11', '2018-03-13', '2'], ['2017-11-10', '2017-11-11', '2']], '2019': [['2019-03-30', '2019-04-13', '7'], ['2019-03-16', '2019-03-25', '5'], ['2018-12-28', '2019-01-06', '4'], ['2019-01-28', '2019-02-02', '4'], ['2019-02-06', '2019-02-13', '4'], ['2019-02-23', '2019-03-01', '4'], ['2019-01-09', '2019-01-14', '3'], ['2019-01-18', '2019-01-23', '3'], ['2018-11-16', '2018-11-20', '3'], ['2018-12-16', '2018-12-18', '2'], ['2018-10-26', '2018-10-28', '2'], ['2019-04-18', '2019-04-20', '2']], '2020': [['2020-02-24', '2020-02-28', '3'], ['2020-02-10', '2020-02-12', '2']]}\n",
      "Assists streaks:  {'2016': [['2015-12-15', '2015-12-19', '3'], ['2016-03-02', '2016-03-06', '3'], ['2016-01-17', '2016-01-20', '2']], '2017': [['2017-01-31', '2017-02-10', '6'], ['2017-03-28', '2017-04-07', '5'], ['2016-12-29', '2017-01-03', '3'], ['2017-01-06', '2017-01-10', '3'], ['2017-03-19', '2017-03-24', '3'], ['2016-10-28', '2016-10-30', '2'], ['2016-11-06', '2016-11-08', '2'], ['2016-11-20', '2016-12-11', '2'], ['2016-12-20', '2016-12-22', '2']], '2018': [['2018-02-07', '2018-03-01', '8'], ['2018-03-16', '2018-03-23', '5'], ['2018-04-01', '2018-04-09', '5'], ['2017-11-03', '2017-11-10', '4'], ['2017-10-18', '2017-10-22', '3']], '2019': [['2019-01-29', '2019-03-13', '19'], ['2018-11-09', '2018-11-20', '7'], ['2019-01-11', '2019-01-23', '6'], ['2019-03-17', '2019-03-30', '6'], ['2018-11-23', '2018-12-03', '6'], ['2018-12-07', '2018-12-18', '6'], ['2019-04-03', '2019-04-10', '4'], ['2018-10-17', '2018-10-24', '4'], ['2019-01-02', '2019-01-07', '4'], ['2018-12-21', '2018-12-23', '2']], '2020': [['2020-02-10', '2020-02-28', '6']]}\n"
     ]
    }
   ],
   "source": [
    "streaks = findStreaks(playerName)\n",
    "print(\"Points streaks: \", streaks[0])\n",
    "print(\"Assists streaks: \", streaks[1])"
   ]
  },
  {
   "cell_type": "code",
   "execution_count": 304,
   "metadata": {},
   "outputs": [
    {
     "name": "stdout",
     "output_type": "stream",
     "text": [
      "https://www.basketball-reference.com/play-index/pstreak.cgi?request=1&year_min=2020&year_max=2020&team_id=NJN&season_start=1&season_end=-1&c1stat=pts&c1comp=ge&c1val=20\n"
     ]
    },
    {
     "data": {
      "text/plain": [
       "[['2019-10-23', '2019-11-08', '8'],\n",
       " ['2020-01-23', '2020-01-31', '4'],\n",
       " ['2020-01-12', '2020-01-14', '2']]"
      ]
     },
     "execution_count": 304,
     "metadata": {},
     "output_type": "execute_result"
    }
   ],
   "source": [
    "getStreakData('irvinky01', 2020, 'NJN', True, 20)"
   ]
  },
  {
   "cell_type": "code",
   "execution_count": null,
   "metadata": {},
   "outputs": [],
   "source": []
  }
 ],
 "metadata": {
  "kernelspec": {
   "display_name": "Python 3",
   "language": "python",
   "name": "python3"
  },
  "language_info": {
   "codemirror_mode": {
    "name": "ipython",
    "version": 3
   },
   "file_extension": ".py",
   "mimetype": "text/x-python",
   "name": "python",
   "nbconvert_exporter": "python",
   "pygments_lexer": "ipython3",
   "version": "3.7.4"
  }
 },
 "nbformat": 4,
 "nbformat_minor": 2
}
