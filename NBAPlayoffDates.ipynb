{
 "cells": [
  {
   "cell_type": "code",
   "execution_count": 1,
   "metadata": {},
   "outputs": [],
   "source": [
    "from urllib.request import urlopen\n",
    "from bs4 import BeautifulSoup\n",
    "import pandas as pd\n",
    "from selenium import webdriver\n",
    "\n",
    "import string\n",
    "import datetime"
   ]
  },
  {
   "cell_type": "code",
   "execution_count": 7,
   "metadata": {},
   "outputs": [],
   "source": [
    "# global variables\n",
    "%store -r playersToIds\n",
    "%store -r idsToPlayers\n",
    "%store -r datesDict\n",
    "%store -r statsNBAMap"
   ]
  },
  {
   "cell_type": "code",
   "execution_count": 20,
   "metadata": {},
   "outputs": [],
   "source": [
    "def getPlayoffDates():\n",
    "    playoffDict = {}\n",
    "    for season in datesDict:\n",
    "        if season == \"2019-20\":\n",
    "            continue\n",
    "        dash = season.index('-')\n",
    "        yearStr = season[:dash]\n",
    "        year = str(int(yearStr) + 1)\n",
    "\n",
    "        url = \"https://www.basketball-reference.com/playoffs/NBA_{}_games.html\".format(year)\n",
    "\n",
    "        html = urlopen(url)\n",
    "        soup = BeautifulSoup(html)\n",
    "        dates = soup.find('tbody').findAll('tr')\n",
    "        playoffDict[season] = [dates[0].find('a').text, dates[-1].find('a').text]\n",
    "\n",
    "    return playoffDict"
   ]
  },
  {
   "cell_type": "code",
   "execution_count": 21,
   "metadata": {},
   "outputs": [
    {
     "name": "stdout",
     "output_type": "stream",
     "text": [
      "Stored 'playoffDates' (dict)\n"
     ]
    }
   ],
   "source": [
    "playoffDates = getPlayoffDates()\n",
    "%store playoffDates"
   ]
  },
  {
   "cell_type": "code",
   "execution_count": null,
   "metadata": {},
   "outputs": [],
   "source": []
  }
 ],
 "metadata": {
  "kernelspec": {
   "display_name": "Python 3",
   "language": "python",
   "name": "python3"
  },
  "language_info": {
   "codemirror_mode": {
    "name": "ipython",
    "version": 3
   },
   "file_extension": ".py",
   "mimetype": "text/x-python",
   "name": "python",
   "nbconvert_exporter": "python",
   "pygments_lexer": "ipython3",
   "version": "3.7.4"
  }
 },
 "nbformat": 4,
 "nbformat_minor": 2
}
