{
 "cells": [
  {
   "cell_type": "code",
   "execution_count": 1,
   "metadata": {},
   "outputs": [
    {
     "name": "stdout",
     "output_type": "stream",
     "text": [
      "importing Jupyter notebook from NBAInjuryAnalysis.ipynb\n",
      "importing Jupyter notebook from NBAPlayerAnalysis.ipynb\n",
      "importing Jupyter notebook from NBANetRatingAnalysis.ipynb\n",
      "importing Jupyter notebook from PlayerCollection.ipynb\n"
     ]
    }
   ],
   "source": [
    "from urllib.request import urlopen\n",
    "from bs4 import BeautifulSoup\n",
    "import pandas as pd\n",
    "from selenium import webdriver\n",
    "\n",
    "import string\n",
    "import datetime\n",
    "import time\n",
    "import csv\n",
    "import ast\n",
    "import import_ipynb\n",
    "import NBAInjuryAnalysis\n",
    "import NBAPlayerAnalysis\n",
    "import NBANetRatingAnalysis\n",
    "import PlayerCollection"
   ]
  },
  {
   "cell_type": "code",
   "execution_count": 2,
   "metadata": {},
   "outputs": [],
   "source": [
    "allPlayerData = {}\n",
    "num = 0\n",
    "year = 2014"
   ]
  },
  {
   "cell_type": "code",
   "execution_count": 11,
   "metadata": {},
   "outputs": [
    {
     "name": "stdout",
     "output_type": "stream",
     "text": [
      "635\n",
      "Andris Biedriņš\n",
      "6.242649793624878\n",
      "7.258746862411499\n",
      "8.2720468044281\n",
      "9.279314041137695\n",
      "10.295090913772583\n",
      "11.309602975845337\n",
      "12.32222604751587\n",
      "13.338265895843506\n",
      "14.347881078720093\n",
      "15.359410047531128\n",
      "16.37259292602539\n",
      "17.378971815109253\n",
      "18.39827299118042\n",
      "19.412761926651\n",
      "20.422650814056396\n",
      "REFRESHED!\n",
      "32.603986978530884\n",
      "REFRESHED!\n",
      "46.025627851486206\n",
      "REFRESHED!\n",
      "one\n",
      "two\n",
      "three\n"
     ]
    }
   ],
   "source": [
    "allPlayerData = PlayerCollection.findPlayers(str(year), allPlayerData, num, num+100)"
   ]
  },
  {
   "cell_type": "code",
   "execution_count": 12,
   "metadata": {
    "scrolled": true
   },
   "outputs": [
    {
     "name": "stdout",
     "output_type": "stream",
     "text": [
      "dict_keys(['Ray Allen', 'Hilton Armstrong', 'Gustavo Ayón', 'Chris Babb', 'Shane Battier', 'Chauncey Billups', 'Andray Blatche', 'Keith Bogans', 'Ronnie Brewer', 'Andris Biedriņš'])\n"
     ]
    }
   ],
   "source": [
    "print(allPlayerData.keys())"
   ]
  },
  {
   "cell_type": "code",
   "execution_count": 13,
   "metadata": {},
   "outputs": [],
   "source": [
    "PlayerCollection.writeData(allPlayerData, num)"
   ]
  },
  {
   "cell_type": "code",
   "execution_count": 14,
   "metadata": {},
   "outputs": [
    {
     "data": {
      "text/plain": [
       "dict_keys(['Ray Allen', 'Hilton Armstrong', 'Gustavo Ayón', 'Chris Babb', 'Shane Battier', 'Chauncey Billups', 'Andray Blatche', 'Keith Bogans', 'Ronnie Brewer', 'Andris Biedriņš'])"
      ]
     },
     "execution_count": 14,
     "metadata": {},
     "output_type": "execute_result"
    }
   ],
   "source": [
    "mydict = PlayerCollection.readData(num)\n",
    "allPlayerData = mydict\n",
    "allPlayerData.keys()"
   ]
  },
  {
   "cell_type": "code",
   "execution_count": null,
   "metadata": {},
   "outputs": [],
   "source": []
  },
  {
   "cell_type": "code",
   "execution_count": null,
   "metadata": {},
   "outputs": [],
   "source": []
  },
  {
   "cell_type": "code",
   "execution_count": null,
   "metadata": {},
   "outputs": [],
   "source": []
  }
 ],
 "metadata": {
  "kernelspec": {
   "display_name": "Python 3",
   "language": "python",
   "name": "python3"
  },
  "language_info": {
   "codemirror_mode": {
    "name": "ipython",
    "version": 3
   },
   "file_extension": ".py",
   "mimetype": "text/x-python",
   "name": "python",
   "nbconvert_exporter": "python",
   "pygments_lexer": "ipython3",
   "version": "3.7.6"
  }
 },
 "nbformat": 4,
 "nbformat_minor": 2
}
