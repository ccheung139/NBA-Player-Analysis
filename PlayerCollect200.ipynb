{
 "cells": [
  {
   "cell_type": "code",
   "execution_count": 1,
   "metadata": {},
   "outputs": [
    {
     "name": "stdout",
     "output_type": "stream",
     "text": [
      "importing Jupyter notebook from NBAInjuryAnalysis.ipynb\n",
      "importing Jupyter notebook from NBAPlayerAnalysis.ipynb\n",
      "importing Jupyter notebook from NBANetRatingAnalysis.ipynb\n"
     ]
    }
   ],
   "source": [
    "from urllib.request import urlopen\n",
    "from bs4 import BeautifulSoup\n",
    "import pandas as pd\n",
    "from selenium import webdriver\n",
    "\n",
    "import string\n",
    "import datetime\n",
    "import time\n",
    "import csv\n",
    "import ast\n",
    "import import_ipynb\n",
    "import NBAInjuryAnalysis\n",
    "import NBAPlayerAnalysis\n",
    "import NBANetRatingAnalysis"
   ]
  },
  {
   "cell_type": "code",
   "execution_count": 2,
   "metadata": {},
   "outputs": [],
   "source": [
    "# global variables\n",
    "%store -r playersToIds\n",
    "%store -r idsToPlayers\n",
    "%store -r datesDict\n",
    "%store -r playoffDates\n",
    "%store -r statsNBAMap\n",
    "# %store -r apd"
   ]
  },
  {
   "cell_type": "code",
   "execution_count": 3,
   "metadata": {},
   "outputs": [],
   "source": [
    "allPlayerData = {}\n",
    "errorPlayers = set()"
   ]
  },
  {
   "cell_type": "code",
   "execution_count": 5,
   "metadata": {},
   "outputs": [],
   "source": [
    "def collectPlayerData(playerName):\n",
    "    playerData = {}\n",
    "    playerData.update(NBAInjuryAnalysis.collectInjuryData(playerName))\n",
    "    print('one')\n",
    "    playerData.update(NBANetRatingAnalysis.collectNetRatings(playerName))\n",
    "    print('two')\n",
    "    playerData.update(NBAPlayerAnalysis.collectPlayerHistory(playerName))\n",
    "    print('three')\n",
    "    return playerData\n",
    "\n",
    "def do2020_200():\n",
    "    url = \"https://www.basketball-reference.com/leagues/NBA_2020_totals.html\"\n",
    "    html = urlopen(url)\n",
    "    soup = BeautifulSoup(html, features=\"lxml\")\n",
    "    players = soup.find('tbody').findAll('tr')\n",
    "    for i in range(200, 250):\n",
    "        player = players[i]\n",
    "        if player['class'] == [\"thead\"]:\n",
    "            continue\n",
    "        playerName = player.find('a').text\n",
    "        \n",
    "        if playerName not in allPlayerData:\n",
    "            print(playerName)\n",
    "            try:\n",
    "                playerData = collectPlayerData(playerName)\n",
    "                allPlayerData[playerName] = playerData\n",
    "            except KeyboardInterrupt:\n",
    "                print('keyboard interrupt')\n",
    "                break\n",
    "            except Exception as e:\n",
    "                print(\"error:\", playerName)\n",
    "                print(e)\n",
    "        \n",
    "        "
   ]
  },
  {
   "cell_type": "code",
   "execution_count": null,
   "metadata": {},
   "outputs": [
    {
     "name": "stdout",
     "output_type": "stream",
     "text": [
      "Bryn Forbes\n",
      "error: Bryn Forbes\n",
      "Message: script timeout\n",
      "  (Session info: chrome=80.0.3987.149)\n",
      "\n",
      "Michael Frazier\n",
      "one\n",
      "two\n",
      "three\n",
      "Eric Gordon\n"
     ]
    }
   ],
   "source": [
    "do2020_200()"
   ]
  },
  {
   "cell_type": "code",
   "execution_count": 4,
   "metadata": {},
   "outputs": [
    {
     "name": "stdout",
     "output_type": "stream",
     "text": [
      "dict_keys(['Tacko Fall', 'Derrick Favors', 'Cristiano Felício', 'Terrance Ferguson', 'Bruno Fernando', 'Yogi Ferrell', 'Dorian Finney-Smith', 'Evan Fournier', \"De'Aaron Fox\", 'Melvin Frazier', 'Tim Frazier', 'Markelle Fultz', 'Wenyen Gabriel', 'Daniel Gafford', 'Danilo Gallinari', 'Langston Galloway', 'Darius Garland', 'Marc Gasol', 'Rudy Gay', 'Paul George', 'Taj Gibson', 'Harry Giles', 'Shai Gilgeous-Alexander', 'Rudy Gobert', 'Brandon Goodwin', 'Aaron Gordon', \"Devonte' Graham\", 'Treveon Graham', 'Jerami Grant', 'Josh Gray', 'JaMychal Green', 'Javonte Green', 'Blake Griffin', 'Marko Guduric', 'Kyle Guy', 'Rui Hachimura'])\n"
     ]
    }
   ],
   "source": [
    "print(allPlayerData.keys())"
   ]
  },
  {
   "cell_type": "code",
   "execution_count": 9,
   "metadata": {},
   "outputs": [],
   "source": [
    "w = csv.writer(open(\"200output.csv\", \"w\"))\n",
    "for key, val in allPlayerData.items():\n",
    "    w.writerow([key, val])"
   ]
  },
  {
   "cell_type": "code",
   "execution_count": 3,
   "metadata": {},
   "outputs": [
    {
     "data": {
      "text/plain": [
       "dict_keys(['Tacko Fall', 'Derrick Favors', 'Cristiano Felício', 'Terrance Ferguson', 'Bruno Fernando', 'Yogi Ferrell', 'Dorian Finney-Smith', 'Evan Fournier', \"De'Aaron Fox\", 'Melvin Frazier', 'Tim Frazier', 'Markelle Fultz', 'Wenyen Gabriel', 'Daniel Gafford', 'Danilo Gallinari', 'Langston Galloway', 'Darius Garland', 'Marc Gasol', 'Rudy Gay', 'Paul George', 'Taj Gibson', 'Harry Giles', 'Shai Gilgeous-Alexander', 'Rudy Gobert', 'Brandon Goodwin', 'Aaron Gordon', \"Devonte' Graham\", 'Treveon Graham', 'Jerami Grant', 'Josh Gray', 'JaMychal Green', 'Javonte Green', 'Blake Griffin', 'Marko Guduric', 'Kyle Guy', 'Rui Hachimura'])"
      ]
     },
     "execution_count": 3,
     "metadata": {},
     "output_type": "execute_result"
    }
   ],
   "source": [
    "with open('200output.csv', mode='r') as infile:\n",
    "    reader = csv.reader(infile)\n",
    "    with open('200reader.csv', mode='w') as outfile:\n",
    "        writer = csv.writer(outfile)\n",
    "        mydict = {rows[0]:rows[1] for rows in reader}\n",
    "\n",
    "for name in mydict:\n",
    "    val = mydict[name]\n",
    "    mydict[name] = eval(val)\n",
    "\n",
    "allPlayerData = mydict\n",
    "allPlayerData.keys()"
   ]
  },
  {
   "cell_type": "code",
   "execution_count": null,
   "metadata": {},
   "outputs": [],
   "source": []
  }
 ],
 "metadata": {
  "kernelspec": {
   "display_name": "Python 3",
   "language": "python",
   "name": "python3"
  },
  "language_info": {
   "codemirror_mode": {
    "name": "ipython",
    "version": 3
   },
   "file_extension": ".py",
   "mimetype": "text/x-python",
   "name": "python",
   "nbconvert_exporter": "python",
   "pygments_lexer": "ipython3",
   "version": "3.7.6"
  }
 },
 "nbformat": 4,
 "nbformat_minor": 4
}
