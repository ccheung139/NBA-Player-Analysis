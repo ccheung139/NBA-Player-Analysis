{
 "cells": [
  {
   "cell_type": "code",
   "execution_count": 1,
   "metadata": {},
   "outputs": [
    {
     "name": "stdout",
     "output_type": "stream",
     "text": [
      "importing Jupyter notebook from NBAInjuryAnalysis.ipynb\n",
      "importing Jupyter notebook from NBAPlayerAnalysis.ipynb\n",
      "importing Jupyter notebook from NBANetRatingAnalysis.ipynb\n",
      "importing Jupyter notebook from PlayerCollection.ipynb\n"
     ]
    }
   ],
   "source": [
    "from urllib.request import urlopen\n",
    "from bs4 import BeautifulSoup\n",
    "import pandas as pd\n",
    "from selenium import webdriver\n",
    "\n",
    "import string\n",
    "import datetime\n",
    "import time\n",
    "import csv\n",
    "import ast\n",
    "import import_ipynb\n",
    "import NBAInjuryAnalysis\n",
    "import NBAPlayerAnalysis\n",
    "import NBANetRatingAnalysis\n",
    "import PlayerCollection"
   ]
  },
  {
   "cell_type": "code",
   "execution_count": 2,
   "metadata": {},
   "outputs": [],
   "source": [
    "allPlayerData = {}\n",
    "num = 300\n",
    "year = 2001"
   ]
  },
  {
   "cell_type": "code",
   "execution_count": 3,
   "metadata": {},
   "outputs": [
    {
     "name": "stdout",
     "output_type": "stream",
     "text": [
      "559\n",
      "Vernon Maxwell\n",
      "one\n",
      "two\n",
      "three\n",
      "Dan McClintock\n",
      "one\n",
      "two\n",
      "three\n",
      "Jim McIlvaine\n",
      "one\n",
      "two\n",
      "three\n",
      "Roshown McLeod\n",
      "5.014669895172119\n",
      "one\n",
      "two\n",
      "three\n",
      "Paul McPherson\n",
      "one\n",
      "two\n",
      "6.371480941772461\n",
      "7.387346982955933\n",
      "three\n",
      "Terry Mills\n",
      "one\n",
      "two\n",
      "three\n",
      "Chris Mullin\n",
      "one\n",
      "two\n",
      "three\n",
      "Billy Owens\n",
      "5.904650926589966\n",
      "5.651226282119751\n",
      "one\n",
      "two\n",
      "three\n",
      "Andy Panko\n",
      "one\n",
      "two\n",
      "three\n"
     ]
    }
   ],
   "source": [
    "allPlayerData = PlayerCollection.findPlayers(str(year), allPlayerData, num, num+100)"
   ]
  },
  {
   "cell_type": "code",
   "execution_count": 7,
   "metadata": {},
   "outputs": [
    {
     "name": "stdout",
     "output_type": "stream",
     "text": [
      "dict_keys(['Vernon Maxwell', 'Dan McClintock', 'Jim McIlvaine', 'Roshown McLeod', 'Paul McPherson', 'Terry Mills', 'Chris Mullin', 'Billy Owens', 'Andy Panko'])\n"
     ]
    }
   ],
   "source": [
    "print(allPlayerData.keys())"
   ]
  },
  {
   "cell_type": "code",
   "execution_count": 8,
   "metadata": {},
   "outputs": [],
   "source": [
    "PlayerCollection.writeData(allPlayerData, num)"
   ]
  },
  {
   "cell_type": "code",
   "execution_count": 9,
   "metadata": {},
   "outputs": [
    {
     "data": {
      "text/plain": [
       "dict_keys(['Vernon Maxwell', 'Dan McClintock', 'Jim McIlvaine', 'Roshown McLeod', 'Paul McPherson', 'Terry Mills', 'Chris Mullin', 'Billy Owens', 'Andy Panko'])"
      ]
     },
     "execution_count": 9,
     "metadata": {},
     "output_type": "execute_result"
    }
   ],
   "source": [
    "mydict = PlayerCollection.readData(num)\n",
    "allPlayerData = mydict\n",
    "allPlayerData.keys()"
   ]
  },
  {
   "cell_type": "code",
   "execution_count": null,
   "metadata": {},
   "outputs": [],
   "source": []
  },
  {
   "cell_type": "code",
   "execution_count": null,
   "metadata": {},
   "outputs": [],
   "source": []
  },
  {
   "cell_type": "code",
   "execution_count": null,
   "metadata": {},
   "outputs": [],
   "source": []
  }
 ],
 "metadata": {
  "kernelspec": {
   "display_name": "Python 3",
   "language": "python",
   "name": "python3"
  },
  "language_info": {
   "codemirror_mode": {
    "name": "ipython",
    "version": 3
   },
   "file_extension": ".py",
   "mimetype": "text/x-python",
   "name": "python",
   "nbconvert_exporter": "python",
   "pygments_lexer": "ipython3",
   "version": "3.7.6"
  }
 },
 "nbformat": 4,
 "nbformat_minor": 2
}
