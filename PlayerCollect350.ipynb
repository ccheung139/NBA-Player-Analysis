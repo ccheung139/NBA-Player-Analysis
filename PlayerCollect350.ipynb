{
 "cells": [
  {
   "cell_type": "code",
   "execution_count": 1,
   "metadata": {},
   "outputs": [
    {
     "name": "stdout",
     "output_type": "stream",
     "text": [
      "importing Jupyter notebook from NBAInjuryAnalysis.ipynb\n",
      "importing Jupyter notebook from NBAPlayerAnalysis.ipynb\n",
      "importing Jupyter notebook from NBANetRatingAnalysis.ipynb\n"
     ]
    }
   ],
   "source": [
    "from urllib.request import urlopen\n",
    "from bs4 import BeautifulSoup\n",
    "import pandas as pd\n",
    "from selenium import webdriver\n",
    "\n",
    "import string\n",
    "import datetime\n",
    "import time\n",
    "import csv\n",
    "import ast\n",
    "import import_ipynb\n",
    "import NBAInjuryAnalysis\n",
    "import NBAPlayerAnalysis\n",
    "import NBANetRatingAnalysis"
   ]
  },
  {
   "cell_type": "code",
   "execution_count": 2,
   "metadata": {},
   "outputs": [],
   "source": [
    "# global variables\n",
    "%store -r playersToIds\n",
    "%store -r idsToPlayers\n",
    "%store -r datesDict\n",
    "%store -r playoffDates\n",
    "%store -r statsNBAMap\n",
    "# %store -r apd"
   ]
  },
  {
   "cell_type": "code",
   "execution_count": 3,
   "metadata": {},
   "outputs": [],
   "source": [
    "allPlayerData = {}\n",
    "errorPlayers = set()"
   ]
  },
  {
   "cell_type": "code",
   "execution_count": 3,
   "metadata": {},
   "outputs": [],
   "source": [
    "def collectPlayerData(playerName):\n",
    "    playerData = {}\n",
    "    playerData.update(NBAInjuryAnalysis.collectInjuryData(playerName))\n",
    "    print('one')\n",
    "    playerData.update(NBANetRatingAnalysis.collectNetRatings(playerName))\n",
    "    print('two')\n",
    "    playerData.update(NBAPlayerAnalysis.collectPlayerHistory(playerName))\n",
    "    print('three')\n",
    "    return playerData\n",
    "\n",
    "def do2020_350():\n",
    "    url = \"https://www.basketball-reference.com/leagues/NBA_2020_totals.html\"\n",
    "    html = urlopen(url)\n",
    "    soup = BeautifulSoup(html, features=\"lxml\")\n",
    "    players = soup.find('tbody').findAll('tr')\n",
    "    for i in range(350, 400):\n",
    "        player = players[i]\n",
    "        if player['class'] == [\"thead\"]:\n",
    "            continue\n",
    "        playerName = player.find('a').text\n",
    "        \n",
    "        if playerName not in allPlayerData:\n",
    "            print(playerName)\n",
    "            try:\n",
    "                playerData = collectPlayerData(playerName)\n",
    "                allPlayerData[playerName] = playerData\n",
    "            except KeyboardInterrupt:\n",
    "                print('keyboard interrupt')\n",
    "                break\n",
    "            except Exception as e:\n",
    "                print(\"error:\", playerName)\n",
    "                print(e)\n",
    "        \n",
    "        "
   ]
  },
  {
   "cell_type": "code",
   "execution_count": 6,
   "metadata": {},
   "outputs": [
    {
     "name": "stdout",
     "output_type": "stream",
     "text": [
      "Courtney Lee\n",
      "REFRESHED!\n",
      "one\n",
      "two\n",
      "three\n",
      "Damian Lillard\n",
      "one\n",
      "two\n",
      "three\n"
     ]
    }
   ],
   "source": [
    "do2020_350()"
   ]
  },
  {
   "cell_type": "code",
   "execution_count": 8,
   "metadata": {},
   "outputs": [
    {
     "name": "stdout",
     "output_type": "stream",
     "text": [
      "dict_keys(['Brandon Knight', 'John Konchar', 'Furkan Korkmaz', 'Luke Kornet', 'Rodions Kurucs', 'Kyle Kuzma', 'Skal Labissière', 'Jeremy Lamb', 'Romeo Langford', 'Zach LaVine', 'Vic Law', 'Jake Layman', 'T.J. Leaf', 'Jalen Lecque', 'Damion Lee', 'Kevin Knox', 'Kyle Korver', 'Alex Len', 'Meyers Leonard', 'Caris LeVert', 'Kawhi Leonard', 'Nassir Little', 'Kevon Looney', 'Brook Lopez', 'Robin Lopez', 'Kevin Love', 'Kyle Lowry', 'Timothé Luwawu-Cabarrot', 'Trey Lyles', 'Daryl Macon', 'J.P. Macura', 'Josh Magette', 'Ian Mahinmi', 'Thon Maker', 'Terance Mann', 'Boban Marjanović', 'Lauri Markkanen', 'Caleb Martin', 'Cody Martin', 'Jeremiah Martin', 'Kelan Martin', 'Frank Mason III', 'Garrison Mathews', 'Courtney Lee', 'Damian Lillard'])\n"
     ]
    }
   ],
   "source": [
    "print(allPlayerData.keys())"
   ]
  },
  {
   "cell_type": "code",
   "execution_count": 9,
   "metadata": {},
   "outputs": [],
   "source": [
    "w = csv.writer(open(\"350output.csv\", \"w\"))\n",
    "for key, val in allPlayerData.items():\n",
    "    w.writerow([key, val])"
   ]
  },
  {
   "cell_type": "code",
   "execution_count": 10,
   "metadata": {},
   "outputs": [
    {
     "data": {
      "text/plain": [
       "dict_keys(['Brandon Knight', 'John Konchar', 'Furkan Korkmaz', 'Luke Kornet', 'Rodions Kurucs', 'Kyle Kuzma', 'Skal Labissière', 'Jeremy Lamb', 'Romeo Langford', 'Zach LaVine', 'Vic Law', 'Jake Layman', 'T.J. Leaf', 'Jalen Lecque', 'Damion Lee', 'Kevin Knox', 'Kyle Korver', 'Alex Len', 'Meyers Leonard', 'Caris LeVert', 'Kawhi Leonard', 'Nassir Little', 'Kevon Looney', 'Brook Lopez', 'Robin Lopez', 'Kevin Love', 'Kyle Lowry', 'Timothé Luwawu-Cabarrot', 'Trey Lyles', 'Daryl Macon', 'J.P. Macura', 'Josh Magette', 'Ian Mahinmi', 'Thon Maker', 'Terance Mann', 'Boban Marjanović', 'Lauri Markkanen', 'Caleb Martin', 'Cody Martin', 'Jeremiah Martin', 'Kelan Martin', 'Frank Mason III', 'Garrison Mathews', 'Courtney Lee', 'Damian Lillard'])"
      ]
     },
     "execution_count": 10,
     "metadata": {},
     "output_type": "execute_result"
    }
   ],
   "source": [
    "with open('350output.csv', mode='r') as infile:\n",
    "    reader = csv.reader(infile)\n",
    "    with open('350reader.csv', mode='w') as outfile:\n",
    "        writer = csv.writer(outfile)\n",
    "        mydict = {rows[0]:rows[1] for rows in reader}\n",
    "\n",
    "for name in mydict:\n",
    "    val = mydict[name]\n",
    "    mydict[name] = eval(val)\n",
    "\n",
    "allPlayerData = mydict\n",
    "allPlayerData.keys()"
   ]
  },
  {
   "cell_type": "code",
   "execution_count": null,
   "metadata": {},
   "outputs": [],
   "source": []
  }
 ],
 "metadata": {
  "kernelspec": {
   "display_name": "Python 3",
   "language": "python",
   "name": "python3"
  },
  "language_info": {
   "codemirror_mode": {
    "name": "ipython",
    "version": 3
   },
   "file_extension": ".py",
   "mimetype": "text/x-python",
   "name": "python",
   "nbconvert_exporter": "python",
   "pygments_lexer": "ipython3",
   "version": "3.7.6"
  }
 },
 "nbformat": 4,
 "nbformat_minor": 4
}
