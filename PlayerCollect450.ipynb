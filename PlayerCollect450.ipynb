{
 "cells": [
  {
   "cell_type": "code",
   "execution_count": 1,
   "metadata": {},
   "outputs": [
    {
     "name": "stdout",
     "output_type": "stream",
     "text": [
      "importing Jupyter notebook from NBAInjuryAnalysis.ipynb\n",
      "importing Jupyter notebook from NBAPlayerAnalysis.ipynb\n",
      "importing Jupyter notebook from NBANetRatingAnalysis.ipynb\n"
     ]
    }
   ],
   "source": [
    "from urllib.request import urlopen\n",
    "from bs4 import BeautifulSoup\n",
    "import pandas as pd\n",
    "from selenium import webdriver\n",
    "\n",
    "import string\n",
    "import datetime\n",
    "import time\n",
    "import csv\n",
    "import ast\n",
    "import import_ipynb\n",
    "import NBAInjuryAnalysis\n",
    "import NBAPlayerAnalysis\n",
    "import NBANetRatingAnalysis"
   ]
  },
  {
   "cell_type": "code",
   "execution_count": 2,
   "metadata": {},
   "outputs": [],
   "source": [
    "# global variables\n",
    "%store -r playersToIds\n",
    "%store -r idsToPlayers\n",
    "%store -r datesDict\n",
    "%store -r playoffDates\n",
    "%store -r statsNBAMap\n",
    "# %store -r apd"
   ]
  },
  {
   "cell_type": "code",
   "execution_count": 14,
   "metadata": {},
   "outputs": [],
   "source": [
    "allPlayerData = {}\n",
    "errorPlayers = set()"
   ]
  },
  {
   "cell_type": "code",
   "execution_count": 3,
   "metadata": {},
   "outputs": [],
   "source": [
    "def collectPlayerData(playerName):\n",
    "    playerData = {}\n",
    "    playerData.update(NBAInjuryAnalysis.collectInjuryData(playerName))\n",
    "    print('one')\n",
    "    playerData.update(NBANetRatingAnalysis.collectNetRatings(playerName))\n",
    "    print('two')\n",
    "    playerData.update(NBAPlayerAnalysis.collectPlayerHistory(playerName))\n",
    "    print('three')\n",
    "    return playerData\n",
    "\n",
    "def do2020_450():\n",
    "    url = \"https://www.basketball-reference.com/leagues/NBA_2020_totals.html\"\n",
    "    html = urlopen(url)\n",
    "    soup = BeautifulSoup(html, features=\"lxml\")\n",
    "    players = soup.find('tbody').findAll('tr')\n",
    "    for i in range(450, 500):\n",
    "        player = players[i]\n",
    "        if player['class'] == [\"thead\"]:\n",
    "            continue\n",
    "        playerName = player.find('a').text\n",
    "        \n",
    "        if playerName not in allPlayerData:\n",
    "            print(playerName)\n",
    "            try:\n",
    "                playerData = collectPlayerData(playerName)\n",
    "                allPlayerData[playerName] = playerData\n",
    "            except KeyboardInterrupt:\n",
    "                print('keyboard interrupt')\n",
    "                break\n",
    "            except Exception as e:\n",
    "                print(\"error:\", playerName)\n",
    "                print(e)\n",
    "        \n",
    "        "
   ]
  },
  {
   "cell_type": "code",
   "execution_count": null,
   "metadata": {},
   "outputs": [
    {
     "name": "stdout",
     "output_type": "stream",
     "text": [
      "Nerlens Noel\n",
      "5.07736611366272\n",
      "5.0072338581085205\n",
      "5.443865060806274\n",
      "6.453654050827026\n",
      "7.472193002700806\n",
      "8.486263036727905\n",
      "9.49907398223877\n",
      "10.513861179351807\n",
      "11.523376941680908\n",
      "12.537524938583374\n",
      "13.552273988723755\n",
      "14.567960023880005\n",
      "15.582532167434692\n",
      "16.598294019699097\n",
      "17.61354899406433\n",
      "18.631404161453247\n",
      "19.645780086517334\n",
      "20.661854028701782\n",
      "REFRESHED!\n",
      "one\n",
      "two\n",
      "three\n",
      "Frank Ntilikina\n",
      "5.193680047988892\n",
      "6.48771595954895\n",
      "one\n",
      "two\n",
      "three\n",
      "David Nwaba\n",
      "one\n",
      "two\n",
      "three\n",
      "Elie Okobo\n",
      "one\n",
      "two\n",
      "three\n",
      "Josh Okogie\n",
      "one\n",
      "two\n",
      "three\n",
      "KZ Okpala\n",
      "one\n",
      "two\n",
      "three\n",
      "Victor Oladipo\n",
      "5.269120931625366\n",
      "6.284655809402466\n",
      "7.300277948379517\n",
      "8.307156801223755\n",
      "9.33698296546936\n",
      "10.350286722183228\n",
      "11.357411623001099\n",
      "12.372882843017578\n",
      "13.382360696792603\n",
      "14.39844298362732\n",
      "15.414572954177856\n",
      "16.428385019302368\n",
      "17.441850662231445\n",
      "18.456928968429565\n",
      "19.467390775680542\n",
      "20.483027935028076\n",
      "REFRESHED!\n",
      "one\n",
      "two\n",
      "three\n",
      "Kelly Olynyk\n",
      "one\n",
      "two\n",
      "three\n",
      "Miye Oni\n",
      "one\n",
      "two\n",
      "three\n",
      "Cedi Osman\n",
      "one\n",
      "two\n",
      "three\n",
      "Kelly Oubre Jr.\n",
      "one\n"
     ]
    }
   ],
   "source": [
    "do2020_450()"
   ]
  },
  {
   "cell_type": "code",
   "execution_count": 5,
   "metadata": {},
   "outputs": [
    {
     "name": "stdout",
     "output_type": "stream",
     "text": [
      "dict_keys(['Abdel Nader', 'Larry Nance Jr.', 'Shabazz Napier', 'Raul Neto', 'Malik Newman', 'Zach Norvell', 'Jaylen Nowell', 'Kendrick Nunn', \"Royce O'Neale\", \"Kyle O'Quinn\", 'Semi Ojeleye', 'Jahlil Okafor', 'Georges Niang'])\n"
     ]
    }
   ],
   "source": [
    "print(allPlayerData.keys())"
   ]
  },
  {
   "cell_type": "code",
   "execution_count": 7,
   "metadata": {},
   "outputs": [],
   "source": [
    "w = csv.writer(open(\"450output.csv\", \"w\"))\n",
    "for key, val in allPlayerData.items():\n",
    "    w.writerow([key, val])"
   ]
  },
  {
   "cell_type": "code",
   "execution_count": 4,
   "metadata": {},
   "outputs": [
    {
     "data": {
      "text/plain": [
       "dict_keys(['Abdel Nader', 'Larry Nance Jr.', 'Shabazz Napier', 'Raul Neto', 'Malik Newman', 'Zach Norvell', 'Jaylen Nowell', 'Kendrick Nunn', \"Royce O'Neale\", \"Kyle O'Quinn\", 'Semi Ojeleye', 'Jahlil Okafor', 'Georges Niang'])"
      ]
     },
     "execution_count": 4,
     "metadata": {},
     "output_type": "execute_result"
    }
   ],
   "source": [
    "with open('450output.csv', mode='r') as infile:\n",
    "    reader = csv.reader(infile)\n",
    "    with open('450reader.csv', mode='w') as outfile:\n",
    "        writer = csv.writer(outfile)\n",
    "        mydict = {rows[0]:rows[1] for rows in reader}\n",
    "\n",
    "for name in mydict:\n",
    "    val = mydict[name]\n",
    "    mydict[name] = eval(val)\n",
    "\n",
    "allPlayerData = mydict\n",
    "allPlayerData.keys()"
   ]
  },
  {
   "cell_type": "code",
   "execution_count": null,
   "metadata": {},
   "outputs": [],
   "source": []
  }
 ],
 "metadata": {
  "kernelspec": {
   "display_name": "Python 3",
   "language": "python",
   "name": "python3"
  },
  "language_info": {
   "codemirror_mode": {
    "name": "ipython",
    "version": 3
   },
   "file_extension": ".py",
   "mimetype": "text/x-python",
   "name": "python",
   "nbconvert_exporter": "python",
   "pygments_lexer": "ipython3",
   "version": "3.7.6"
  }
 },
 "nbformat": 4,
 "nbformat_minor": 4
}
