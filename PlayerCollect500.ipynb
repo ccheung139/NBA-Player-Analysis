{
 "cells": [
  {
   "cell_type": "code",
   "execution_count": 1,
   "metadata": {},
   "outputs": [
    {
     "name": "stdout",
     "output_type": "stream",
     "text": [
      "importing Jupyter notebook from NBAInjuryAnalysis.ipynb\n",
      "importing Jupyter notebook from NBAPlayerAnalysis.ipynb\n",
      "importing Jupyter notebook from NBANetRatingAnalysis.ipynb\n"
     ]
    }
   ],
   "source": [
    "from urllib.request import urlopen\n",
    "from bs4 import BeautifulSoup\n",
    "import pandas as pd\n",
    "from selenium import webdriver\n",
    "\n",
    "import string\n",
    "import datetime\n",
    "import time\n",
    "import csv\n",
    "import ast\n",
    "import import_ipynb\n",
    "import NBAInjuryAnalysis\n",
    "import NBAPlayerAnalysis\n",
    "import NBANetRatingAnalysis"
   ]
  },
  {
   "cell_type": "code",
   "execution_count": 2,
   "metadata": {},
   "outputs": [],
   "source": [
    "# global variables\n",
    "%store -r playersToIds\n",
    "%store -r idsToPlayers\n",
    "%store -r datesDict\n",
    "%store -r playoffDates\n",
    "%store -r statsNBAMap\n",
    "# %store -r apd"
   ]
  },
  {
   "cell_type": "code",
   "execution_count": 4,
   "metadata": {},
   "outputs": [],
   "source": [
    "allPlayerData = {}\n",
    "errorPlayers = set()"
   ]
  },
  {
   "cell_type": "code",
   "execution_count": 3,
   "metadata": {},
   "outputs": [],
   "source": [
    "def collectPlayerData(playerName):\n",
    "    playerData = {}\n",
    "    playerData.update(NBAInjuryAnalysis.collectInjuryData(playerName))\n",
    "    print('one')\n",
    "    playerData.update(NBANetRatingAnalysis.collectNetRatings(playerName))\n",
    "    print('two')\n",
    "    playerData.update(NBAPlayerAnalysis.collectPlayerHistory(playerName))\n",
    "    print('three')\n",
    "    return playerData\n",
    "\n",
    "def do2020_500():\n",
    "    url = \"https://www.basketball-reference.com/leagues/NBA_2020_totals.html\"\n",
    "    html = urlopen(url)\n",
    "    soup = BeautifulSoup(html, features=\"lxml\")\n",
    "    players = soup.find('tbody').findAll('tr')\n",
    "    for i in range(500, len(players)):\n",
    "        player = players[i]\n",
    "        if player['class'] == [\"thead\"]:\n",
    "            continue\n",
    "        playerName = player.find('a').text\n",
    "        \n",
    "        if playerName not in allPlayerData:\n",
    "            print(playerName)\n",
    "            try:\n",
    "                playerData = collectPlayerData(playerName)\n",
    "                allPlayerData[playerName] = playerData\n",
    "            except KeyboardInterrupt:\n",
    "                print('keyboard interrupt')\n",
    "                break\n",
    "            except Exception as e:\n",
    "                print(\"error:\", playerName)\n",
    "                print(e)\n",
    "        \n",
    "        "
   ]
  },
  {
   "cell_type": "code",
   "execution_count": null,
   "metadata": {},
   "outputs": [
    {
     "name": "stdout",
     "output_type": "stream",
     "text": [
      "Edmond Sumner\n",
      "one\n",
      "two\n",
      "three\n",
      "Caleb Swanigan\n",
      "one\n",
      "two\n",
      "three\n",
      "Jayson Tatum\n",
      "one\n",
      "two\n",
      "three\n",
      "Jeff Teague\n",
      "5.146944999694824\n",
      "6.163294792175293\n",
      "5.137773036956787\n",
      "6.174567937850952\n",
      "7.192603826522827\n",
      "one\n",
      "two\n",
      "three\n",
      "Garrett Temple\n",
      "one\n",
      "two\n",
      "three\n",
      "Daniel Theis\n",
      "5.09947395324707\n",
      "6.115109920501709\n",
      "7.1266138553619385\n",
      "8.141911029815674\n",
      "9.152673959732056\n",
      "10.163291931152344\n",
      "11.177284002304077\n",
      "12.191208839416504\n",
      "13.20534873008728\n",
      "14.221004962921143\n",
      "15.234074115753174\n",
      "16.249640941619873\n",
      "17.264294862747192\n",
      "18.28056812286377\n",
      "19.29193902015686\n",
      "20.34387183189392\n",
      "REFRESHED!\n",
      "one\n",
      "two\n",
      "three\n",
      "Isaiah Thomas\n",
      "one\n",
      "two\n",
      "5.232456922531128\n",
      "6.247626066207886\n",
      "7.261083126068115\n",
      "8.272870063781738\n",
      "9.28846788406372\n",
      "10.303668975830078\n",
      "11.321081161499023\n",
      "12.336721897125244\n",
      "13.34923005104065\n",
      "14.362751007080078\n",
      "15.37741994857788\n",
      "16.392916917800903\n",
      "17.40943694114685\n",
      "18.423264026641846\n",
      "19.439125061035156\n",
      "20.45426607131958\n",
      "REFRESHED!\n",
      "three\n",
      "Khyri Thomas\n",
      "one\n",
      "two\n",
      "three\n",
      "Matt Thomas\n",
      "one\n"
     ]
    }
   ],
   "source": [
    "do2020_500()"
   ]
  },
  {
   "cell_type": "code",
   "execution_count": 5,
   "metadata": {},
   "outputs": [
    {
     "name": "stdout",
     "output_type": "stream",
     "text": [
      "dict_keys(['Kevin Porter Jr.', 'Michael Porter Jr.', 'Otto Porter', 'Bobby Portis', 'Kristaps Porziņģis', 'Dwight Powell', 'Norman Powell', 'Chasson Randle', 'Julius Randle', 'Josh Reaves', 'Cam Reddish', 'J.J. Redick', 'Naz Reid', 'Josh Richardson', 'Austin Rivers', 'Duncan Robinson', 'Glenn Robinson III', 'Jerome Robinson', 'Justin Robinson', 'Mitchell Robinson', 'Isaiah Roby', 'Rajon Rondo', 'Derrick Rose', 'Terrence Ross', 'Terry Rozier', 'Ricky Rubio', \"D'Angelo Russell\", 'Domantas Sabonis', 'Luka Šamanić', 'JaKarr Sampson', 'Dario Šarić', 'Tomáš Satoranský', 'Admiral Schofield', 'Dennis Schröder', 'Mike Scott', 'Thabo Sefolosha', 'Collin Sexton', 'Landry Shamet', 'Marial Shayok', 'Iman Shumpert', 'Pascal Siakam', 'Chris Silva', 'Ben Simmons', 'Anfernee Simons', 'Alen Smailagić', 'Marcus Smart', 'Dennis Smith Jr.', 'Ish Smith', 'Zhaire Smith', 'Tony Snell', 'Omari Spellman', 'Max Strus'])\n"
     ]
    }
   ],
   "source": [
    "print(allPlayerData.keys())"
   ]
  },
  {
   "cell_type": "code",
   "execution_count": 10,
   "metadata": {},
   "outputs": [],
   "source": [
    "w = csv.writer(open(\"500output.csv\", \"w\"))\n",
    "for key, val in allPlayerData.items():\n",
    "    w.writerow([key, val])"
   ]
  },
  {
   "cell_type": "code",
   "execution_count": 4,
   "metadata": {},
   "outputs": [
    {
     "data": {
      "text/plain": [
       "dict_keys(['Kevin Porter Jr.', 'Michael Porter Jr.', 'Otto Porter', 'Bobby Portis', 'Kristaps Porziņģis', 'Dwight Powell', 'Norman Powell', 'Chasson Randle', 'Julius Randle', 'Josh Reaves', 'Cam Reddish', 'J.J. Redick', 'Naz Reid', 'Josh Richardson', 'Austin Rivers', 'Duncan Robinson', 'Glenn Robinson III', 'Jerome Robinson', 'Justin Robinson', 'Mitchell Robinson', 'Isaiah Roby', 'Rajon Rondo', 'Derrick Rose', 'Terrence Ross', 'Terry Rozier', 'Ricky Rubio', \"D'Angelo Russell\", 'Domantas Sabonis', 'Luka Šamanić', 'JaKarr Sampson', 'Dario Šarić', 'Tomáš Satoranský', 'Admiral Schofield', 'Dennis Schröder', 'Mike Scott', 'Thabo Sefolosha', 'Collin Sexton', 'Landry Shamet', 'Marial Shayok', 'Iman Shumpert', 'Pascal Siakam', 'Chris Silva', 'Ben Simmons', 'Anfernee Simons', 'Alen Smailagić', 'Marcus Smart', 'Dennis Smith Jr.', 'Ish Smith', 'Zhaire Smith', 'Tony Snell', 'Omari Spellman', 'Max Strus'])"
      ]
     },
     "execution_count": 4,
     "metadata": {},
     "output_type": "execute_result"
    }
   ],
   "source": [
    "with open('500output.csv', mode='r') as infile:\n",
    "    reader = csv.reader(infile)\n",
    "    with open('500reader.csv', mode='w') as outfile:\n",
    "        writer = csv.writer(outfile)\n",
    "        mydict = {rows[0]:rows[1] for rows in reader}\n",
    "\n",
    "for name in mydict:\n",
    "    val = mydict[name]\n",
    "    mydict[name] = eval(val)\n",
    "\n",
    "allPlayerData = mydict\n",
    "allPlayerData.keys()"
   ]
  },
  {
   "cell_type": "code",
   "execution_count": null,
   "metadata": {},
   "outputs": [],
   "source": []
  }
 ],
 "metadata": {
  "kernelspec": {
   "display_name": "Python 3",
   "language": "python",
   "name": "python3"
  },
  "language_info": {
   "codemirror_mode": {
    "name": "ipython",
    "version": 3
   },
   "file_extension": ".py",
   "mimetype": "text/x-python",
   "name": "python",
   "nbconvert_exporter": "python",
   "pygments_lexer": "ipython3",
   "version": "3.7.6"
  }
 },
 "nbformat": 4,
 "nbformat_minor": 4
}
